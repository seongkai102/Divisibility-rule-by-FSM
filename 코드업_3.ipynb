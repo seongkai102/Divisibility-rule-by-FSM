{
  "nbformat": 4,
  "nbformat_minor": 0,
  "metadata": {
    "colab": {
      "provenance": [],
      "authorship_tag": "ABX9TyMKHoahEbCuG95DR0BYyan2",
      "include_colab_link": true
    },
    "kernelspec": {
      "name": "python3",
      "display_name": "Python 3"
    },
    "language_info": {
      "name": "python"
    }
  },
  "cells": [
    {
      "cell_type": "markdown",
      "metadata": {
        "id": "view-in-github",
        "colab_type": "text"
      },
      "source": [
        "<a href=\"https://colab.research.google.com/github/seongkai102/Divisibility-rule-by-FSM/blob/main/%EC%BD%94%EB%93%9C%EC%97%85_3.ipynb\" target=\"_parent\"><img src=\"https://colab.research.google.com/assets/colab-badge.svg\" alt=\"Open In Colab\"/></a>"
      ]
    },
    {
      "cell_type": "code",
      "execution_count": null,
      "metadata": {
        "colab": {
          "base_uri": "https://localhost:8080/"
        },
        "id": "rfTXy4CIVEZ1",
        "outputId": "571fc6f2-fb30-4af8-9a02-1dbb939c61a0"
      },
      "outputs": [
        {
          "output_type": "stream",
          "name": "stdout",
          "text": [
            "2\n",
            "AMOLED\n",
            "AMOLED\n",
            "AMOLED\n",
            "AMOLED\n",
            "AMOLED\n"
          ]
        }
      ],
      "source": [
        "a = int(input())\n",
        "b = [input() for i in range(a)]\n",
        "\n",
        "for i in range(a):\n",
        "  if i+1 == a:\n",
        "    print(b[i])\n",
        "  else:\n",
        "    print(f'{b[i]}\\nAMOLED')"
      ]
    },
    {
      "cell_type": "code",
      "source": [
        "a = int(input())\n",
        "\n",
        "b = sorted([input() for _ in range(a)])\n",
        "output_count = len(b) // a\n",
        "\n",
        "for i in range(a):\n",
        "    print(b[i])"
      ],
      "metadata": {
        "colab": {
          "base_uri": "https://localhost:8080/"
        },
        "id": "rxPP34VHVYlw",
        "outputId": "889c7718-69cd-48ce-ca34-751932dfa0e1"
      },
      "execution_count": null,
      "outputs": [
        {
          "output_type": "stream",
          "name": "stdout",
          "text": [
            "2\n",
            "def\n",
            "avc\n",
            "avc\n",
            "def\n"
          ]
        }
      ]
    },
    {
      "cell_type": "code",
      "source": [
        "a = [input() for i in range(int(input()))]\n",
        "b = 0\n",
        "for i in a:\n",
        "  if len(i) <= 3 or ('tap' in i or 'xocure' in i):\n",
        "    b+=1\n",
        "    print(i)\n",
        "\n",
        "print(\"safe\" if b <= 3 else (\"warning\" if b <= 6 else \"danger\"))"
      ],
      "metadata": {
        "colab": {
          "base_uri": "https://localhost:8080/"
        },
        "id": "Q_2mmbLven7z",
        "outputId": "c74cc235-14f2-49a4-f5b4-2ad8e792635d"
      },
      "execution_count": null,
      "outputs": [
        {
          "output_type": "stream",
          "name": "stdout",
          "text": [
            "8\n",
            "windows tap\n",
            "hi\n",
            "microsoft office 2013\n",
            "xocure web player\n",
            "xecure safe\n",
            "goclean\n",
            "alyac\n",
            "von\n",
            "windows tap\n",
            "hi\n",
            "xocure web player\n",
            "von\n",
            "warning\n"
          ]
        }
      ]
    },
    {
      "cell_type": "code",
      "source": [
        "w,h,n = map(int, input().split())\n",
        "\n",
        "matr = [input() for i in range(n)]\n",
        "\n",
        "new_m = ''\n",
        "for i in matr:\n",
        "  for j in range(h):\n",
        "    for k in range(len(i)):\n",
        "      a = i[k]*w\n",
        "      new_m+=a\n",
        "    new_m+='\\n'\n",
        "\n",
        "print(new_m)"
      ],
      "metadata": {
        "colab": {
          "base_uri": "https://localhost:8080/"
        },
        "id": "iQZTjBwZox0Y",
        "outputId": "13c55bee-90c3-4601-c6b7-91c43ebe02eb"
      },
      "execution_count": null,
      "outputs": [
        {
          "output_type": "stream",
          "name": "stdout",
          "text": [
            "3 3 5\n",
            "**_**_**_**_**\n",
            "_**_**_**_**_**\n",
            "__**_**_**_**_**\n",
            "___**_**_**_**_**\n",
            "____**_**_**_**_**\n",
            "******___******___******___******___******\n",
            "******___******___******___******___******\n",
            "******___******___******___******___******\n",
            "___******___******___******___******___******\n",
            "___******___******___******___******___******\n",
            "___******___******___******___******___******\n",
            "______******___******___******___******___******\n",
            "______******___******___******___******___******\n",
            "______******___******___******___******___******\n",
            "_________******___******___******___******___******\n",
            "_________******___******___******___******___******\n",
            "_________******___******___******___******___******\n",
            "____________******___******___******___******___******\n",
            "____________******___******___******___******___******\n",
            "____________******___******___******___******___******\n",
            "\n"
          ]
        }
      ]
    },
    {
      "cell_type": "code",
      "source": [
        "print(*(input().split(',')))"
      ],
      "metadata": {
        "colab": {
          "base_uri": "https://localhost:8080/"
        },
        "id": "NClL15qQoxur",
        "outputId": "bd66e0dc-371f-437f-b1d4-ed4b81d89ebd"
      },
      "execution_count": null,
      "outputs": [
        {
          "output_type": "stream",
          "name": "stdout",
          "text": [
            "4,52,600,-5,0\n",
            "4 52 600 -5 0\n"
          ]
        }
      ]
    },
    {
      "cell_type": "code",
      "source": [
        "a = input().split(';')\n",
        "\n",
        "for i in a:\n",
        "    b = i.split(',')\n",
        "    for j in b:\n",
        "        c = j.split()\n",
        "        print(f'{c[0]}',end=' ')\n",
        "    print()"
      ],
      "metadata": {
        "id": "IqP_ACDGoxP0"
      },
      "execution_count": null,
      "outputs": []
    },
    {
      "cell_type": "code",
      "source": [
        "a, b = map(int, input().split())\n",
        "\n",
        "print(\"tie\" if a == b else \"win\" if (a == 0 and b == 1) or (a == 1 and b == 2) or (a == 2 and b == 0) else \"lose\")\n"
      ],
      "metadata": {
        "id": "B2NaRbwXthax"
      },
      "execution_count": null,
      "outputs": []
    },
    {
      "cell_type": "code",
      "source": [
        "a,b = map(int, input().split())\n",
        "c = a // b\n",
        "\n",
        "if c > 9999:\n",
        "  print('번호 초과 오류')\n",
        "else:\n",
        "  for i in range(1,c+1):\n",
        "    print(f\"F-{i:04}\")\n"
      ],
      "metadata": {
        "colab": {
          "base_uri": "https://localhost:8080/"
        },
        "id": "ONikSgVPthYk",
        "outputId": "08626dbe-5acb-4b1a-b388-c1de757a4a36"
      },
      "execution_count": null,
      "outputs": [
        {
          "output_type": "stream",
          "name": "stdout",
          "text": [
            "19 6\n",
            "f-0001\n",
            "f-0002\n",
            "f-0003\n"
          ]
        }
      ]
    },
    {
      "cell_type": "code",
      "source": [
        "a,b,c = map(int, input().split())\n",
        "\n",
        "for i in range(c, 0, -1):\n",
        "  if a % i == 0 and b % i == 0 and c % i == 0 :\n",
        "    print(i)\n",
        "    break"
      ],
      "metadata": {
        "colab": {
          "base_uri": "https://localhost:8080/"
        },
        "id": "HgQ74gnCthS6",
        "outputId": "12012535-d02b-4a3a-cefe-88343a66c577"
      },
      "execution_count": null,
      "outputs": [
        {
          "output_type": "stream",
          "name": "stdout",
          "text": [
            "10 20 30\n",
            "10\n"
          ]
        }
      ]
    },
    {
      "cell_type": "code",
      "source": [
        "a = sum([ int(i) for i in input() ])\n",
        "print('Bad' if a % 7 == 4 else 'Good')"
      ],
      "metadata": {
        "colab": {
          "base_uri": "https://localhost:8080/"
        },
        "id": "3190bW5kthQK",
        "outputId": "3341d14c-cc95-41df-f1d3-699d1cf7584a"
      },
      "execution_count": null,
      "outputs": [
        {
          "output_type": "stream",
          "name": "stdout",
          "text": [
            "1234567890\n",
            "Good\n"
          ]
        }
      ]
    },
    {
      "cell_type": "code",
      "source": [
        "a = int(input())\n",
        "b = [int(input()) for i in range(a)]\n",
        "c = sorted(b, reverse=True)\n",
        "\n",
        "for i in b:\n",
        "  print(c.index(i)+1)"
      ],
      "metadata": {
        "colab": {
          "base_uri": "https://localhost:8080/"
        },
        "id": "fG10-ZhVthNA",
        "outputId": "abed7b07-f502-4141-b691-47eff32a4e20"
      },
      "execution_count": null,
      "outputs": [
        {
          "output_type": "stream",
          "name": "stdout",
          "text": [
            "3\n",
            "100\n",
            "90\n",
            "90\n",
            "1\n",
            "2\n",
            "2\n"
          ]
        }
      ]
    },
    {
      "cell_type": "code",
      "source": [
        "a,b = map(int, input().split())\n",
        "\n",
        "print(f'+{\"-\"*(a-2)}+')\n",
        "for i in range(b-2):\n",
        "  print(f\"|{' '*(a-2)}|\")\n",
        "print(f'+{\"-\"*(a-2)}+')"
      ],
      "metadata": {
        "colab": {
          "base_uri": "https://localhost:8080/"
        },
        "id": "jnXBs5i8IJDg",
        "outputId": "c464571b-38d1-4f9c-87bf-10e225592c9a"
      },
      "execution_count": null,
      "outputs": [
        {
          "output_type": "stream",
          "name": "stdout",
          "text": [
            "3 3\n",
            "+-+\n",
            "| |\n",
            "+-+\n"
          ]
        }
      ]
    },
    {
      "cell_type": "code",
      "source": [
        "mat = [list(map(int, input().split())) for i in range(5)]\n",
        "\n",
        "dir = [(-1, -1), (-1, 0), (-1, 1), (0, -1), (0, 1), (1, -1), (1, 0), (1, 1)]\n",
        "\n",
        "cnt = []\n",
        "\n",
        "for x in range(5):\n",
        "  for y in range(5):\n",
        "    c = []\n",
        "    c.append(mat[x][y])\n",
        "    for dx, dy in dir:\n",
        "      nx, ny = x + dx, y + dy\n",
        "      if 0 <= nx < 5 and 0 <= ny < 5:\n",
        "        c.append(mat[nx][ny])\n",
        "    cnt.append(sum(c))\n",
        "\n",
        "print(max(cnt))"
      ],
      "metadata": {
        "colab": {
          "base_uri": "https://localhost:8080/"
        },
        "id": "tgl2g9r_KELx",
        "outputId": "ec1b00be-67ad-49ff-f228-f4f86016f322"
      },
      "execution_count": null,
      "outputs": [
        {
          "output_type": "stream",
          "name": "stdout",
          "text": [
            "1 1 1 1 1 \n",
            "1 1 2 2 2 \n",
            "1 1 2 2 2\n",
            "1 1 2 2 2\n",
            "1 1 1 1 1\n",
            "18\n",
            "[4, 7, 8, 9, 6, 6, 11, 13, 15, 10, 6, 12, 15, 18, 12, 6, 11, 13, 15, 10, 4, 7, 8, 9, 6]\n"
          ]
        }
      ]
    },
    {
      "cell_type": "code",
      "source": [
        "n = int(input())\n",
        "\n",
        "cnt = 0\n",
        "for a in range(1, n):\n",
        "    for b in range(a, n):\n",
        "        c = n - (a + b)\n",
        "        if c < b:\n",
        "            break\n",
        "        if b + a > c:\n",
        "            print(f\"{a} {b} {c}\")\n",
        "            cnt += 1\n",
        "if cnt == 0:\n",
        "    print(\"-1\")"
      ],
      "metadata": {
        "colab": {
          "base_uri": "https://localhost:8080/"
        },
        "id": "5XXnnXXDLr7p",
        "outputId": "96b3de8a-1001-493d-d13f-def616279613"
      },
      "execution_count": null,
      "outputs": [
        {
          "output_type": "stream",
          "name": "stdout",
          "text": [
            "9\n",
            "1 4 4\n",
            "2 3 4\n",
            "3 3 3\n"
          ]
        }
      ]
    },
    {
      "cell_type": "code",
      "source": [
        "for s in range(10):\n",
        "    for o in range(10):\n",
        "        for t in range(10):\n",
        "            if len(set([s, o, t])) != 3:\n",
        "                continue\n",
        "\n",
        "            so = 10 * s + o\n",
        "            too = 100 * t + 10 * o + o\n",
        "\n",
        "            if so + so == too:\n",
        "                print(f\"{so}+{so}={too}\")\n",
        "\n"
      ],
      "metadata": {
        "colab": {
          "base_uri": "https://localhost:8080/"
        },
        "id": "m7C-WGl-Lr48",
        "outputId": "b27d07c7-1b19-466f-d191-72804d5af545"
      },
      "execution_count": null,
      "outputs": [
        {
          "output_type": "stream",
          "name": "stdout",
          "text": [
            "50 + 50 = 100\n"
          ]
        }
      ]
    },
    {
      "cell_type": "code",
      "source": [
        "a = list(map(int, input().split()))\n",
        "print(*a[::-1])"
      ],
      "metadata": {
        "colab": {
          "base_uri": "https://localhost:8080/"
        },
        "id": "-oWXGRozlJ8v",
        "outputId": "95b6eb95-d6d2-4895-9583-6cedb8b04413"
      },
      "execution_count": null,
      "outputs": [
        {
          "output_type": "stream",
          "name": "stdout",
          "text": [
            "5 7 2\n",
            "2 7 5\n"
          ]
        }
      ]
    },
    {
      "cell_type": "code",
      "source": [
        "b = list(map(int, input().split()))\n",
        "a = ''.join(map(str, b))\n",
        "print( f'{a} {a}' if int(b[1])% 2 == 0 else a)"
      ],
      "metadata": {
        "colab": {
          "base_uri": "https://localhost:8080/"
        },
        "id": "z740NuNxlJ56",
        "outputId": "85e67d0d-f22e-42d7-f544-442466e91687"
      },
      "execution_count": null,
      "outputs": [
        {
          "output_type": "stream",
          "name": "stdout",
          "text": [
            "2 2 14\n",
            "2214 2214\n"
          ]
        }
      ]
    },
    {
      "cell_type": "code",
      "source": [
        "a = int(input())\n",
        "\n",
        "hout = a // 3600\n",
        "remaining_after_hours = a % 3600\n",
        "mit = remaining_after_hours // 60\n",
        "sec = remaining_after_hours % 60\n",
        "\n",
        "print(hout, mit, sec)"
      ],
      "metadata": {
        "colab": {
          "base_uri": "https://localhost:8080/"
        },
        "id": "GrjP19sllJ0k",
        "outputId": "0e5bf274-abfc-4e34-9e7b-57ab4c8c4f99"
      },
      "execution_count": null,
      "outputs": [
        {
          "output_type": "stream",
          "name": "stdout",
          "text": [
            "3602\n",
            "1 0 2\n"
          ]
        }
      ]
    },
    {
      "cell_type": "code",
      "source": [
        "a = input()\n",
        "b = '20'+a[:2] if int(a[7]) > 2 else '19'+a[:2]\n",
        "c =  'M' if int(a[7]) % 2 != 0 else 'F'\n",
        "print(2013 - int(b) ,c)"
      ],
      "metadata": {
        "colab": {
          "base_uri": "https://localhost:8080/"
        },
        "id": "b_w_YIERlJxZ",
        "outputId": "f40bd1f7-ca7b-4a6c-f37d-ddb8943c621b"
      },
      "execution_count": null,
      "outputs": [
        {
          "output_type": "stream",
          "name": "stdout",
          "text": [
            "020111 4421234 \n",
            "11 F\n"
          ]
        }
      ]
    },
    {
      "cell_type": "code",
      "source": [
        "a = input()\n",
        "b = a.count('3') + a.count('6') + a.count('9')\n",
        "print(a if b ==0 else 'K' if b==1 else 'KK' if b==2 else 'KKK')"
      ],
      "metadata": {
        "colab": {
          "base_uri": "https://localhost:8080/"
        },
        "id": "m1BPEHNHlJs6",
        "outputId": "19673055-32cd-4a45-e126-0fe2de3976c0"
      },
      "execution_count": null,
      "outputs": [
        {
          "output_type": "stream",
          "name": "stdout",
          "text": [
            "93\n",
            "KK\n"
          ]
        }
      ]
    },
    {
      "cell_type": "code",
      "source": [
        "a = list(map(int, input().split()))\n",
        "b = f'{sum(a)/len(a):.01f}'\n",
        "c,d=0,0\n",
        "for i in a:\n",
        "  if i >= float(b):\n",
        "    c+=1\n",
        "  else:\n",
        "    d+=1\n",
        "\n",
        "print(f'{b}\\n{c} {d}')"
      ],
      "metadata": {
        "colab": {
          "base_uri": "https://localhost:8080/"
        },
        "id": "pbuNEnMYlJp-",
        "outputId": "455d841d-4167-4bc4-bad0-b1ff8021c2e9"
      },
      "execution_count": null,
      "outputs": [
        {
          "output_type": "stream",
          "name": "stdout",
          "text": [
            "0 0 0 0 0 0 0 0 0 0\n",
            "0.0\n",
            "10 0\n"
          ]
        }
      ]
    },
    {
      "cell_type": "code",
      "source": [
        "z = input()\n",
        "a = list(map(int, input().split()))\n",
        "b = sorted(a, reverse=True)\n",
        "\n",
        "for i in a:\n",
        "  print(i,b.index(i)+1)"
      ],
      "metadata": {
        "colab": {
          "base_uri": "https://localhost:8080/"
        },
        "id": "AXe2863AlJlQ",
        "outputId": "c80a4ecb-646d-40e9-84c7-1c56cefa3647"
      },
      "execution_count": null,
      "outputs": [
        {
          "output_type": "stream",
          "name": "stdout",
          "text": [
            "97 65 84 84 91\n",
            "97 65 84 84 91\n",
            "97 1\n",
            "65 5\n",
            "84 3\n",
            "84 3\n",
            "91 2\n"
          ]
        }
      ]
    },
    {
      "cell_type": "code",
      "source": [
        "a = input()\n",
        "print(*sorted(list(map(int, input().split())), reverse=True))"
      ],
      "metadata": {
        "colab": {
          "base_uri": "https://localhost:8080/"
        },
        "id": "hZLSv0EelJbw",
        "outputId": "2a9950d9-5e3b-4311-c637-cfc627344dab"
      },
      "execution_count": null,
      "outputs": [
        {
          "output_type": "stream",
          "name": "stdout",
          "text": [
            "7\n",
            "51 44 81 1 9 12 25\n",
            "81 51 44 25 12 9 1\n"
          ]
        }
      ]
    },
    {
      "cell_type": "code",
      "source": [
        "#1711\n",
        "x1, y1 = map(int, input().split())\n",
        "x2, y2 = map(int, input().split())\n",
        "x3, y3 = map(int, input().split())\n",
        "\n",
        "max_x = max(x1, x2)\n",
        "max_y = max(y1, y2)\n",
        "\n",
        "matrix = [[0] * (max_y + 1) for _ in range(max_x + 1)]\n",
        "\n",
        "# 사각형 그리기\n",
        "for x in range(min(x1, x2), max(x1, x2) + 1):\n",
        "    for y in range(min(y1, y2), max(y1, y2) + 1):\n",
        "        matrix[x][y] = 1\n",
        "\n",
        "print('비충돌' if x3 > max_x or y3 > max_y else '충돌' if matrix[x3][y3] == 1  else '비충돌')"
      ],
      "metadata": {
        "colab": {
          "base_uri": "https://localhost:8080/"
        },
        "id": "xravmUrwlJZb",
        "outputId": "374f8a95-c309-4631-aed8-78d19bb84f31"
      },
      "execution_count": null,
      "outputs": [
        {
          "output_type": "stream",
          "name": "stdout",
          "text": [
            "10 3\n",
            "15 8\n",
            "1 1\n",
            "비충돌\n"
          ]
        }
      ]
    },
    {
      "cell_type": "code",
      "source": [
        "a,b,c = map(int, input().split())\n",
        "print(*[i for i in range(a,c+1,b-a)])"
      ],
      "metadata": {
        "colab": {
          "base_uri": "https://localhost:8080/"
        },
        "id": "Jhjx36bQlJXF",
        "outputId": "7c90db3d-fce6-419c-8eb3-1c2c879c194c"
      },
      "execution_count": null,
      "outputs": [
        {
          "output_type": "stream",
          "name": "stdout",
          "text": [
            "1 3 40\n",
            "1 3 5 7 9 11 13 15 17 19 21 23 25 27 29 31 33 35 37 39\n"
          ]
        }
      ]
    },
    {
      "cell_type": "code",
      "source": [
        "a, b = map(int, input().split())\n",
        "\n",
        "x,y = 0,0\n",
        "for i in range(a,b+1):\n",
        "  if i % 3 == 0 and i % 4 == 0:\n",
        "    pass\n",
        "  elif i % 3 == 0:\n",
        "    x+=i\n",
        "  elif i % 4 == 0:\n",
        "    y+=i\n",
        "\n",
        "print(x-y)"
      ],
      "metadata": {
        "id": "74S9qeHyBft5",
        "colab": {
          "base_uri": "https://localhost:8080/"
        },
        "outputId": "20e61015-3685-4b3a-8f37-ede3c88ab84f"
      },
      "execution_count": null,
      "outputs": [
        {
          "output_type": "stream",
          "name": "stdout",
          "text": [
            "3 16\n",
            "5\n"
          ]
        }
      ]
    },
    {
      "cell_type": "code",
      "source": [
        "print(input()[::-1])"
      ],
      "metadata": {
        "id": "78Q_ZgncBfrP",
        "colab": {
          "base_uri": "https://localhost:8080/"
        },
        "outputId": "4a1ab4f3-5e2a-4cd3-da17-f9963b48acbb"
      },
      "execution_count": null,
      "outputs": [
        {
          "output_type": "stream",
          "name": "stdout",
          "text": [
            "123456\n",
            "654321\n"
          ]
        }
      ]
    },
    {
      "cell_type": "code",
      "source": [
        "from math import gcd\n",
        "\n",
        "a, b = map(int, input().split())\n",
        "g = gcd(a, b)\n",
        "print(a // g, b // g)"
      ],
      "metadata": {
        "id": "n0RrhiWxBfom",
        "colab": {
          "base_uri": "https://localhost:8080/"
        },
        "outputId": "1d6f0017-e2a5-42fd-dfcf-fae7af4270db"
      },
      "execution_count": null,
      "outputs": [
        {
          "output_type": "stream",
          "name": "stdout",
          "text": [
            "2802 9628\n",
            "1401 4814\n"
          ]
        }
      ]
    },
    {
      "cell_type": "code",
      "source": [
        "a, b = map(int, input().split())\n",
        "\n",
        "c = 0\n",
        "for i in range(1, a):\n",
        "  if i % 2 == 0:\n",
        "    c+=30\n",
        "  else:\n",
        "    c+=31\n",
        "\n",
        "\n",
        "print(306-c+b)"
      ],
      "metadata": {
        "id": "AC5DrZ0qBfmA",
        "colab": {
          "base_uri": "https://localhost:8080/"
        },
        "outputId": "f52c69a6-fa84-4587-956c-f7ee7605fcb7"
      },
      "execution_count": null,
      "outputs": [
        {
          "output_type": "stream",
          "name": "stdout",
          "text": [
            "10 29\n",
            "60\n"
          ]
        }
      ]
    },
    {
      "cell_type": "code",
      "source": [
        "a, b = map(int, input().split())\n",
        "\n",
        "c = 0\n",
        "for i in range(1, a):\n",
        "    if i % 2 == 0:\n",
        "        c += 30\n",
        "    else:\n",
        "        c += 31\n",
        "\n",
        "print(305 - (c + (b - 1))-1)\n"
      ],
      "metadata": {
        "id": "QNYnxTtJBfi-",
        "colab": {
          "base_uri": "https://localhost:8080/"
        },
        "outputId": "cc6b0579-2039-452c-e226-00071f450e9b"
      },
      "execution_count": null,
      "outputs": [
        {
          "output_type": "stream",
          "name": "stdout",
          "text": [
            "10 29\n",
            "1\n"
          ]
        }
      ]
    },
    {
      "cell_type": "code",
      "source": [],
      "metadata": {
        "id": "GNKKotquBfcY",
        "colab": {
          "base_uri": "https://localhost:8080/"
        },
        "outputId": "111b3bb4-4c74-40cf-86bb-e40223dedcd3"
      },
      "execution_count": null,
      "outputs": [
        {
          "output_type": "execute_result",
          "data": {
            "text/plain": [
              "305"
            ]
          },
          "metadata": {},
          "execution_count": 68
        }
      ]
    },
    {
      "cell_type": "code",
      "source": [
        "a = input()\n",
        "C = int(a[a.find('C')+1:a.find('H')]) if a[a.find('C')+1] != 'H' else 1\n",
        "H = int(a[a.find('H') + 1:]) if a.find('H') != -1 and a[a.find('H') + 1:].isdigit() else 1\n",
        "print(C*12+H*1)\n"
      ],
      "metadata": {
        "colab": {
          "base_uri": "https://localhost:8080/"
        },
        "id": "JIt-9mAsCrWQ",
        "outputId": "cf4b0d36-ad71-4cb2-b4e4-7321c0b79093"
      },
      "execution_count": null,
      "outputs": [
        {
          "output_type": "stream",
          "name": "stdout",
          "text": [
            "C12H12\n",
            "156\n"
          ]
        }
      ]
    },
    {
      "cell_type": "code",
      "source": [
        "a = int(input())\n",
        "b = [list(map(int, input().split())) for i in range(a)]\n",
        "\n",
        "c = True\n",
        "for i in range(a):\n",
        "  if min(b[i][0:3]) != b[i][-1]:\n",
        "    print(i+1, min(b[i][0:3]))\n",
        "    c = False\n",
        "    break\n",
        "\n",
        "if c:\n",
        "  print(-1)"
      ],
      "metadata": {
        "colab": {
          "base_uri": "https://localhost:8080/"
        },
        "id": "mzbLqaPiCrRP",
        "outputId": "48189092-62d3-49a8-bb8a-563a61f15779"
      },
      "execution_count": null,
      "outputs": [
        {
          "output_type": "stream",
          "name": "stdout",
          "text": [
            "3\n",
            "3 5 8 3\n",
            "3 9 8 8\n",
            "8 3 9 3\n",
            "2 3\n"
          ]
        }
      ]
    },
    {
      "cell_type": "code",
      "source": [
        "import math\n",
        "z = input()\n",
        "x1, y1 = map(int, input().split())\n",
        "\n",
        "x2, y2 = map(int, input().split())\n",
        "\n",
        "x3, y3 = map(int, input().split())\n",
        "\n",
        "distance1 = math.sqrt((x2 - x1)**2 + (y2 - y1)**2)\n",
        "distance2 = math.sqrt((x3 - x2)**2 + (y3 - y2)**2)\n",
        "print(f\"{distance1+distance2:.2f}\")\n",
        "\n"
      ],
      "metadata": {
        "id": "xT17j6imCrOx"
      },
      "execution_count": null,
      "outputs": []
    },
    {
      "cell_type": "code",
      "source": [
        "import math\n",
        "a = int(input())\n",
        "b = [list(map(int, input().split())) for _ in range(a)]\n",
        "\n",
        "distance = 0\n",
        "for i in range(len(b)-1):\n",
        "  distance += math.sqrt((b[i][0] - b[i+1][0])**2 + (b[i][1] - b[i+1][1])**2)\n",
        "\n",
        "print(f'{distance:.02f}')\n"
      ],
      "metadata": {
        "colab": {
          "base_uri": "https://localhost:8080/"
        },
        "id": "_hv3FSSJCrMG",
        "outputId": "a8350db7-e79d-4c05-bf26-e2930aaf73a3"
      },
      "execution_count": null,
      "outputs": [
        {
          "output_type": "stream",
          "name": "stdout",
          "text": [
            "3\n",
            "0 0\n",
            "3 4\n",
            "6 0\n",
            "10.00\n"
          ]
        }
      ]
    },
    {
      "cell_type": "code",
      "source": [
        "print('special characters')\n",
        "print('[\\\\n,\\\\\",\\\\\\\\] is very important.')"
      ],
      "metadata": {
        "colab": {
          "base_uri": "https://localhost:8080/"
        },
        "id": "KFADt7IHCrJY",
        "outputId": "27c087e3-4f32-4404-d78c-bbeca0638aeb"
      },
      "execution_count": null,
      "outputs": [
        {
          "output_type": "stream",
          "name": "stdout",
          "text": [
            "special characters\n",
            "[\\n,\\\",\\\\] is very important.\n"
          ]
        }
      ]
    },
    {
      "cell_type": "code",
      "source": [
        "a, b = map(int, input().split())\n",
        "print(f'{a/b:.1f}\\n{a//b}\\n{a**b}')"
      ],
      "metadata": {
        "colab": {
          "base_uri": "https://localhost:8080/"
        },
        "id": "g4WzpSzsCrGu",
        "outputId": "db571bc4-ec80-464c-e98d-0e08513ff83b"
      },
      "execution_count": null,
      "outputs": [
        {
          "output_type": "stream",
          "name": "stdout",
          "text": [
            "4 3\n",
            "1.3\n",
            "1\n",
            "64\n"
          ]
        }
      ]
    },
    {
      "cell_type": "code",
      "source": [
        "print('IOI is the International Olympiad in Informatics.' if input() == 'IOI' else 'I don\\'t care.')"
      ],
      "metadata": {
        "colab": {
          "base_uri": "https://localhost:8080/"
        },
        "id": "Msts587iCrEC",
        "outputId": "a928b930-947a-46b2-885f-7b4767b334d3"
      },
      "execution_count": null,
      "outputs": [
        {
          "output_type": "stream",
          "name": "stdout",
          "text": [
            "IOI\n",
            "IOI is the International Olympiad in Informatics.\n"
          ]
        }
      ]
    },
    {
      "cell_type": "code",
      "source": [
        "print('welcome! ' +  input())"
      ],
      "metadata": {
        "colab": {
          "base_uri": "https://localhost:8080/"
        },
        "id": "kOy9GMKmCqxg",
        "outputId": "1da01d55-496e-4e1e-f896-467029cd26da"
      },
      "execution_count": null,
      "outputs": [
        {
          "output_type": "stream",
          "name": "stdout",
          "text": [
            "anaki\n",
            "welcome! anaki\n"
          ]
        }
      ]
    },
    {
      "cell_type": "code",
      "source": [
        "a = int(input())\n",
        "\n",
        "date = a// 86400\n",
        "hout = (a-86400*date) // 3600\n",
        "remaining_after_hours = a % 3600\n",
        "mit = remaining_after_hours // 60\n",
        "sec = remaining_after_hours % 60\n",
        "\n",
        "print(date ,hout, mit, sec)"
      ],
      "metadata": {
        "colab": {
          "base_uri": "https://localhost:8080/"
        },
        "id": "4GZAQUtQN1b2",
        "outputId": "dfe50580-33b7-4a82-d3ca-e71705ab3094"
      },
      "execution_count": null,
      "outputs": [
        {
          "output_type": "stream",
          "name": "stdout",
          "text": [
            "\t 302090\n",
            "3 11 54 50\n"
          ]
        }
      ]
    },
    {
      "cell_type": "code",
      "source": [
        "print(len(input()))"
      ],
      "metadata": {
        "colab": {
          "base_uri": "https://localhost:8080/"
        },
        "id": "mjpZA9OfN1Zt",
        "outputId": "a7373f49-dd45-4388-cad2-0b319a01e0e8"
      },
      "execution_count": null,
      "outputs": [
        {
          "output_type": "stream",
          "name": "stdout",
          "text": [
            "black sheep wall\n",
            "16\n"
          ]
        }
      ]
    },
    {
      "cell_type": "code",
      "source": [
        "print(input()[::-1])"
      ],
      "metadata": {
        "colab": {
          "base_uri": "https://localhost:8080/"
        },
        "id": "l7yUqfQeN1Xf",
        "outputId": "6471f225-6e02-44f3-a043-ba9c8b7e6a11"
      },
      "execution_count": null,
      "outputs": [
        {
          "output_type": "stream",
          "name": "stdout",
          "text": [
            "KAIST\n",
            "TSIAK\n"
          ]
        }
      ]
    },
    {
      "cell_type": "code",
      "source": [
        "b = [input() for i in range(int(input()))]\n",
        "for i in b:\n",
        "  print(i[::-1])"
      ],
      "metadata": {
        "colab": {
          "base_uri": "https://localhost:8080/"
        },
        "id": "oAVSKQayN1TL",
        "outputId": "868ecc24-9b8a-4c14-a2b5-edf63da686d2"
      },
      "execution_count": null,
      "outputs": [
        {
          "output_type": "stream",
          "name": "stdout",
          "text": [
            "3\n",
            "taehyeon\n",
            "hyeonmin\n",
            "sera\n",
            "noeyheat\n",
            "nimnoeyh\n",
            "ares\n"
          ]
        }
      ]
    },
    {
      "cell_type": "code",
      "source": [
        "a = list(map(int, input().split()))\n",
        "print(min(a), max(a))"
      ],
      "metadata": {
        "colab": {
          "base_uri": "https://localhost:8080/"
        },
        "id": "nT403ycgN1Q4",
        "outputId": "cd47d6c6-b745-4ac6-9eea-8a70f4d57d61"
      },
      "execution_count": null,
      "outputs": [
        {
          "output_type": "stream",
          "name": "stdout",
          "text": [
            "9999999999999999999999999 9999999999999999999999998\n",
            "9999999999999999999999998 9999999999999999999999999\n"
          ]
        }
      ]
    },
    {
      "cell_type": "code",
      "source": [
        "a =  {\n",
        "    \"dib\": \"Paint.Picture\",\n",
        "    \"doc\": \"Word.Document.8\",\n",
        "    \"docx\": \"Word.Document.12\",\n",
        "    \"htm\": \"htmfile\",\n",
        "    \"html\": \"htmlfile\",\n",
        "    \"hwp\": \"Hwp.Document.96\",\n",
        "    \"hwpx\": \"Hwp.Document.hwpx.96\",\n",
        "    \"hwt\": \"Hwp.Document.hwt.96\",\n",
        "    \"jpe\": \"jpegfile\",\n",
        "    \"jpeg\": \"jpegfile\",\n",
        "    \"jpg\": \"jpegfile\",\n",
        "    \"ppt\": \"PowerPoint.Show.8\",\n",
        "    \"pptx\": \"PowerPoint.Show.12\",\n",
        "    \"pptxml\": \"powerpointxmlfile\"\n",
        "}\n",
        "\n",
        "print(a[input().split('.')[-1]])"
      ],
      "metadata": {
        "colab": {
          "base_uri": "https://localhost:8080/"
        },
        "id": "Pb9lPvW7N1Np",
        "outputId": "ad270fb7-5e9d-4f8d-87b4-822a41f10a70"
      },
      "execution_count": null,
      "outputs": [
        {
          "output_type": "stream",
          "name": "stdout",
          "text": [
            "codeup.pptx\n",
            "PowerPoint.Show.12\n"
          ]
        }
      ]
    },
    {
      "cell_type": "code",
      "source": [
        "a = input()\n",
        "b = {a[i]: i for i in range(len(a))}\n",
        "c = input().split()\n",
        "for i in c:\n",
        "  for j in range(len(i)):\n",
        "    print(f'{b[i[j]]}', end = '')\n",
        "  print('', end = ' ')\n"
      ],
      "metadata": {
        "colab": {
          "base_uri": "https://localhost:8080/"
        },
        "id": "r1FBBnaGQPQh",
        "outputId": "31874422-d74e-409f-c997-4e96c4a77d2f"
      },
      "execution_count": null,
      "outputs": [
        {
          "output_type": "stream",
          "name": "stdout",
          "text": [
            "lohcgpdabk\n",
            "lol abk abk\n",
            "010 789 789 "
          ]
        }
      ]
    },
    {
      "cell_type": "code",
      "source": [
        "a = sorted(\n",
        "    [list(map(int, input().split())) for _ in range(int(input()))],\n",
        "    key=lambda x: x[0]\n",
        ")\n",
        "for i in a:\n",
        "  print(*i)"
      ],
      "metadata": {
        "colab": {
          "base_uri": "https://localhost:8080/"
        },
        "id": "MQ6Qp6UdQPOY",
        "outputId": "eca80b30-fa70-4015-ed93-287a5c1a5200"
      },
      "execution_count": null,
      "outputs": [
        {
          "output_type": "stream",
          "name": "stdout",
          "text": [
            "3\n",
            "2 10\n",
            "3 20\n",
            "1 30\n",
            "1 30\n",
            "2 10\n",
            "3 20\n"
          ]
        }
      ]
    },
    {
      "cell_type": "code",
      "source": [
        "def ubs(n, hs = 1):\n",
        "  if n == 1:\n",
        "    return hs\n",
        "  elif n % 2 == 0:\n",
        "    hs += 1\n",
        "    return ubs(n//2, hs)\n",
        "  else:\n",
        "    hs += 1\n",
        "    return ubs((3*n+1), hs)\n",
        "\n",
        "a, b=map(int, input().split())\n",
        "\n",
        "c = []\n",
        "for i in range(a, b+1):\n",
        "  c.append((i, ubs(i)))\n",
        "\n",
        "print(*max(c, key = lambda x: x[1]))\n"
      ],
      "metadata": {
        "id": "OwTU7sBSQPMa",
        "colab": {
          "base_uri": "https://localhost:8080/"
        },
        "outputId": "e184e7cb-af43-4260-f955-4aa6e84820dc"
      },
      "execution_count": null,
      "outputs": [
        {
          "output_type": "stream",
          "name": "stdout",
          "text": [
            "1 10\n",
            "9 20\n"
          ]
        }
      ]
    },
    {
      "cell_type": "code",
      "source": [
        "def h():\n",
        "    print(\"Hello, world!\", end=\" \")\n",
        "\n",
        "def q(code):\n",
        "    print(code, end=\" \")\n",
        "\n",
        "def b():\n",
        "    for i in range(99, 2, -1):\n",
        "        print(f\"{i} bottles of beer on the wall, {i} bottles of beer.\")\n",
        "        print(f\"Take one down and pass it around, {i-1} bottles of beer on the wall.\")\n",
        "    print(\"2 bottles of beer on the wall, 2 bottles of beer.\")\n",
        "    print(\"Take one down and pass it around, 1 bottle of beer on the wall.\")\n",
        "    print(\"1 bottle of beer on the wall, 1 bottle of beer.\")\n",
        "    print(\"Take one down and pass it around, no more bottles of beer on the wall.\")\n",
        "    print(\"No more bottles of beer on the wall, no more bottles of beer.\")\n",
        "    print(\"Go to the store and buy some more, 99 bottles of beer on the wall.\")\n",
        "\n",
        "def main():\n",
        "    code = input()\n",
        "    for char in code:\n",
        "        if char == 'H':\n",
        "            h()\n",
        "        if char == 'Q':\n",
        "            q(code)\n",
        "        if char == '9':\n",
        "            b()\n",
        "\n",
        "if __name__ == \"__main__\":\n",
        "    main()\n"
      ],
      "metadata": {
        "id": "V8zcH37DQPJr"
      },
      "execution_count": null,
      "outputs": []
    },
    {
      "cell_type": "code",
      "source": [
        "a = input()\n",
        "b,c = map(int, input().split())\n",
        "print(a[b-1:c])"
      ],
      "metadata": {
        "id": "778HRQP1QPHe",
        "colab": {
          "base_uri": "https://localhost:8080/"
        },
        "outputId": "6c43711d-0862-4ebf-dd30-d97ea7e510f2"
      },
      "execution_count": null,
      "outputs": [
        {
          "output_type": "stream",
          "name": "stdout",
          "text": [
            "abcde\n",
            "1 3\n",
            "abc\n"
          ]
        }
      ]
    },
    {
      "cell_type": "code",
      "source": [
        "def a(a):\n",
        "  return '*'*a\n",
        "\n",
        "print(a(int(input())))"
      ],
      "metadata": {
        "id": "S9KEvWhJQPFC",
        "colab": {
          "base_uri": "https://localhost:8080/"
        },
        "outputId": "add8463c-c83a-4aa8-854f-ab93d0bf91e9"
      },
      "execution_count": null,
      "outputs": [
        {
          "output_type": "stream",
          "name": "stdout",
          "text": [
            "3\n",
            "***\n"
          ]
        }
      ]
    },
    {
      "cell_type": "code",
      "source": [
        "def print_numbers(n,i=1):\n",
        "    if i > n:\n",
        "        return\n",
        "    else:\n",
        "        print(i, end = ' ')\n",
        "        return print_numbers(n, i+1)\n",
        "\n",
        "print_numbers(int(input()))"
      ],
      "metadata": {
        "id": "GnyBlngEQPCe",
        "colab": {
          "base_uri": "https://localhost:8080/"
        },
        "outputId": "4128540d-f744-4b5e-f259-dcd6c1652437"
      },
      "execution_count": null,
      "outputs": [
        {
          "name": "stdout",
          "output_type": "stream",
          "text": [
            "10\n"
          ]
        },
        {
          "output_type": "execute_result",
          "data": {
            "text/plain": [
              "55"
            ]
          },
          "metadata": {},
          "execution_count": 30
        }
      ]
    },
    {
      "cell_type": "code",
      "source": [
        "def print_numbers(n,i=1,b=[]):\n",
        "    if i > n:\n",
        "        return sum(b)\n",
        "    else:\n",
        "        b.append(i)\n",
        "        return print_numbers(n, i+1, b)\n",
        "\n",
        "print(print_numbers(int(input())))"
      ],
      "metadata": {
        "id": "cq6P2PH4QPAN",
        "colab": {
          "base_uri": "https://localhost:8080/"
        },
        "outputId": "1a24ea36-3d89-460e-fbf2-49234bb315f1"
      },
      "execution_count": null,
      "outputs": [
        {
          "output_type": "stream",
          "name": "stdout",
          "text": [
            "10\n",
            "55\n"
          ]
        }
      ]
    },
    {
      "cell_type": "code",
      "source": [
        "print(sum(map(int, input())))"
      ],
      "metadata": {
        "colab": {
          "base_uri": "https://localhost:8080/"
        },
        "id": "JlIUx4nFcCxl",
        "outputId": "138a0e91-a2a3-4853-cb09-348efef8e6c8"
      },
      "execution_count": null,
      "outputs": [
        {
          "output_type": "stream",
          "name": "stdout",
          "text": [
            "1234\n",
            "10\n"
          ]
        }
      ]
    },
    {
      "cell_type": "code",
      "source": [
        "def fib(n):\n",
        "    if n == 0:\n",
        "        return 0\n",
        "    elif n == 1 or n == 2:\n",
        "        return 1\n",
        "    else:\n",
        "        return fib(n - 1) + fib(n - 2)\n",
        "\n",
        "print(fib(int(input())))"
      ],
      "metadata": {
        "colab": {
          "base_uri": "https://localhost:8080/"
        },
        "id": "-MN5blm-cCtM",
        "outputId": "eec685ff-be84-42d8-92f4-ad764145f2dd"
      },
      "execution_count": null,
      "outputs": [
        {
          "output_type": "stream",
          "name": "stdout",
          "text": [
            "6\n",
            "8\n"
          ]
        }
      ]
    },
    {
      "cell_type": "code",
      "source": [
        "def count_ways(n):\n",
        "    if n == 1:\n",
        "        return 1\n",
        "    elif n == 2:\n",
        "        return 2\n",
        "    elif n == 3:\n",
        "        return 4\n",
        "    else:\n",
        "        return count_ways(n - 3) + count_ways(n - 2) + count_ways(n - 1)\n",
        "\n",
        "n = int(input())\n",
        "print(count_ways(n))\n"
      ],
      "metadata": {
        "colab": {
          "base_uri": "https://localhost:8080/"
        },
        "id": "i_SAkS5zcCq_",
        "outputId": "35d5e2c1-8729-4480-c176-fdd8ef138fee"
      },
      "execution_count": null,
      "outputs": [
        {
          "output_type": "stream",
          "name": "stdout",
          "text": [
            "3\n",
            "4\n"
          ]
        }
      ]
    },
    {
      "cell_type": "code",
      "source": [
        "import math\n",
        "a,b = map(int, input().split())\n",
        "print(math.comb(a,b))"
      ],
      "metadata": {
        "id": "rmPhSDDLcCou"
      },
      "execution_count": null,
      "outputs": []
    },
    {
      "cell_type": "code",
      "source": [
        "def pascal(n, k):\n",
        "    if k == 0 or k == n:\n",
        "        return 1\n",
        "    return pascal(n-1, k-1) + pascal(n-1, k)\n",
        "\n",
        "n, k = map(int, input().split())\n",
        "print(pascal(n-1, k-1))\n"
      ],
      "metadata": {
        "colab": {
          "base_uri": "https://localhost:8080/"
        },
        "id": "5Op2hHEycCj4",
        "outputId": "f929c2e6-15ed-4665-bfaa-b50a18c33127"
      },
      "execution_count": null,
      "outputs": [
        {
          "output_type": "stream",
          "name": "stdout",
          "text": [
            "5 3\n",
            "6\n"
          ]
        }
      ]
    },
    {
      "cell_type": "code",
      "source": [
        "def star(n,b=1):\n",
        "  print('*'*b)\n",
        "  if b == n:\n",
        "    return ''\n",
        "  return star(n,b+1)\n",
        "\n",
        "\n",
        "print(star(int(input())))"
      ],
      "metadata": {
        "colab": {
          "base_uri": "https://localhost:8080/"
        },
        "id": "PFsF2N9XcChH",
        "outputId": "11b8c725-2137-459d-f1dd-4a17dfdac31a"
      },
      "execution_count": null,
      "outputs": [
        {
          "output_type": "stream",
          "name": "stdout",
          "text": [
            "5\n",
            "*\n",
            "**\n",
            "***\n",
            "****\n",
            "*****\n",
            "\n"
          ]
        }
      ]
    },
    {
      "cell_type": "code",
      "source": [
        "def sp(n, b=[1]):\n",
        "\n",
        "  print(*b)\n",
        "  if len(b) == n:\n",
        "    return ''\n",
        "  b.append(b[-1]+1)\n",
        "  return sp(n, b)\n",
        "\n",
        "print(sp(int(input())))"
      ],
      "metadata": {
        "colab": {
          "base_uri": "https://localhost:8080/"
        },
        "id": "_S8gdRLTcCem",
        "outputId": "4ec14dd4-4ec3-408e-81e8-b52b6f5b129c"
      },
      "execution_count": null,
      "outputs": [
        {
          "output_type": "stream",
          "name": "stdout",
          "text": [
            "5\n",
            "1\n",
            "1 2\n",
            "1 2 3\n",
            "1 2 3 4\n",
            "1 2 3 4 5\n",
            "\n"
          ]
        }
      ]
    },
    {
      "cell_type": "code",
      "source": [
        "#1861\n",
        "def pascal_triangle(n, row=0, col=0):\n",
        "    if row == n:\n",
        "        return ''\n",
        "    if col > row:\n",
        "        print()\n",
        "        return pascal_triangle(n, row + 1, 0)\n",
        "    print(1 if col == 0 or col == row else pascal_triangle_value(row, col), end=\" \")\n",
        "    return pascal_triangle(n, row, col + 1)\n",
        "\n",
        "def pascal_triangle_value(row, col):\n",
        "    if col == 0 or col == row:\n",
        "        return 1\n",
        "    return pascal_triangle_value(row - 1, col - 1) + pascal_triangle_value(row - 1, col)\n",
        "\n",
        "num_rows = int(input())\n",
        "print(pascal_triangle(num_rows))\n"
      ],
      "metadata": {
        "colab": {
          "base_uri": "https://localhost:8080/"
        },
        "id": "8f7WQws8cCYh",
        "outputId": "193e7e30-0141-453b-dbe3-b3585792c5cf"
      },
      "execution_count": null,
      "outputs": [
        {
          "output_type": "stream",
          "name": "stdout",
          "text": [
            "5\n",
            "1 \n",
            "1 1 \n",
            "1 2 1 \n",
            "1 3 3 1 \n",
            "1 4 6 4 1 \n",
            "\n"
          ]
        }
      ]
    },
    {
      "cell_type": "code",
      "source": [
        "#1862\n",
        "MOD = 1000000007\n",
        "\n",
        "def fibonacci(n, memo={1: 1, 2: 1}):\n",
        "    if n in memo: #종료 코드\n",
        "        return memo[n]\n",
        "    memo[n] = (fibonacci(n - 1, memo) + fibonacci(n - 2, memo)) % MOD\n",
        "    # print(f\"n = {n}, memo = {memo}\")\n",
        "    return memo[n] #중간 상태 저장 (if문이 실행되기 전까지)\n",
        "\n",
        "n = int(input())\n",
        "print(fibonacci(n))\n"
      ],
      "metadata": {
        "colab": {
          "base_uri": "https://localhost:8080/"
        },
        "id": "o7ql_wMPBLHP",
        "outputId": "87ec2d2d-c209-40c3-bfdc-c71b330c57dd"
      },
      "execution_count": null,
      "outputs": [
        {
          "output_type": "stream",
          "name": "stdout",
          "text": [
            "67\n",
            "569898238\n"
          ]
        }
      ]
    },
    {
      "cell_type": "code",
      "source": [
        "def hs(a,b=1,c=[]):\n",
        "  if b>a:\n",
        "    return c\n",
        "  c.append(b)\n",
        "  return hs(a,b+1,c)\n",
        "\n",
        "a = int(input())\n",
        "print(sum(hs(a)))"
      ],
      "metadata": {
        "id": "eg4Aztr1BK_d",
        "colab": {
          "base_uri": "https://localhost:8080/"
        },
        "outputId": "e87d7f3b-b8e9-4908-ed21-b3e813d1c714"
      },
      "execution_count": null,
      "outputs": [
        {
          "output_type": "stream",
          "name": "stdout",
          "text": [
            "100\n",
            "5050\n"
          ]
        }
      ]
    },
    {
      "cell_type": "code",
      "source": [
        "import sys\n",
        "\n",
        "sys.setrecursionlimit(100000)\n",
        "\n",
        "def hs(a, b=0):\n",
        "    if a == 0:\n",
        "        return b\n",
        "    return hs(a - 1, b + a)\n",
        "\n",
        "a = int(input())\n",
        "print(hs(a))\n"
      ],
      "metadata": {
        "id": "WvU82pgdBK5c"
      },
      "execution_count": null,
      "outputs": []
    },
    {
      "cell_type": "code",
      "source": [
        "def fac(n):\n",
        "  if n ==0:\n",
        "    return 1\n",
        "  return n*fac(n-1)\n",
        "\n",
        "print(fac(int(input())))"
      ],
      "metadata": {
        "id": "aE3aJX0ZBK0U",
        "colab": {
          "base_uri": "https://localhost:8080/"
        },
        "outputId": "bf6bcb5e-a0cd-49a9-eb0a-2d4cb9464d83"
      },
      "execution_count": null,
      "outputs": [
        {
          "output_type": "stream",
          "name": "stdout",
          "text": [
            "5\n",
            "120\n"
          ]
        }
      ]
    },
    {
      "cell_type": "code",
      "source": [
        "def fib(n):\n",
        "    if n == 0:\n",
        "        return 0\n",
        "    elif n == 1 or n == 2:\n",
        "        return 1\n",
        "    else:\n",
        "        return fib(n - 1) + fib(n - 2)\n",
        "\n",
        "print(fib(int(input())))"
      ],
      "metadata": {
        "id": "5uIAVJl_BKxt",
        "colab": {
          "base_uri": "https://localhost:8080/"
        },
        "outputId": "67c419d0-9ece-4fd2-9d3d-3c633ff4c07a"
      },
      "execution_count": null,
      "outputs": [
        {
          "output_type": "stream",
          "name": "stdout",
          "text": [
            "7\n",
            "13\n"
          ]
        }
      ]
    },
    {
      "cell_type": "code",
      "source": [
        "from functools import lru_cache\n",
        "\n",
        "@lru_cache(None)\n",
        "def fib(n):\n",
        "    if n == 0:\n",
        "        return 0\n",
        "    elif n == 1 or n == 2:\n",
        "        return 1\n",
        "    else:\n",
        "        return fib(n - 1) + fib(n - 2)\n",
        "\n",
        "print(fib(int(input())) % 10009)\n"
      ],
      "metadata": {
        "id": "OMHyZ4iqBKu9",
        "colab": {
          "base_uri": "https://localhost:8080/"
        },
        "outputId": "2fe28c9b-f26a-4ceb-eaf5-d93ddb97ca50"
      },
      "execution_count": null,
      "outputs": [
        {
          "output_type": "stream",
          "name": "stdout",
          "text": [
            "151\n",
            "3081\n"
          ]
        }
      ]
    },
    {
      "cell_type": "code",
      "source": [
        "import sys\n",
        "sys.setrecursionlimit(100000)\n",
        "\n",
        "def ss(base, exponent):\n",
        "    if exponent == 0:\n",
        "        return 1\n",
        "    if exponent % 2 == 0:\n",
        "        half_result = ss(base, exponent // 2)\n",
        "        return half_result * half_result\n",
        "    else:\n",
        "        return base * ss(base, exponent - 1)\n",
        "\n",
        "base, exponent = map(int, input().split())\n",
        "print(ss(base, exponent))\n"
      ],
      "metadata": {
        "id": "q2wqA7yg8OPP"
      },
      "execution_count": null,
      "outputs": []
    },
    {
      "cell_type": "code",
      "source": [
        "print(int(input()[::-1]))"
      ],
      "metadata": {
        "colab": {
          "base_uri": "https://localhost:8080/"
        },
        "id": "gCafeDft9u_X",
        "outputId": "bf03de94-65df-473f-ee73-a8071d465270"
      },
      "execution_count": null,
      "outputs": [
        {
          "name": "stdout",
          "output_type": "stream",
          "text": [
            "1200\n"
          ]
        },
        {
          "output_type": "execute_result",
          "data": {
            "text/plain": [
              "21"
            ]
          },
          "metadata": {},
          "execution_count": 11
        }
      ]
    },
    {
      "cell_type": "code",
      "source": [
        "print(bin(int(input()))[2:])"
      ],
      "metadata": {
        "colab": {
          "base_uri": "https://localhost:8080/"
        },
        "id": "UVwO7E9X9u8h",
        "outputId": "186d360e-858d-452b-c756-2c038e0a900f"
      },
      "execution_count": null,
      "outputs": [
        {
          "output_type": "stream",
          "name": "stdout",
          "text": [
            "7\n",
            "111\n"
          ]
        }
      ]
    },
    {
      "cell_type": "code",
      "source": [
        "def to_base_recursive(n, k):\n",
        "    return (to_base_recursive(n // k, k) if n >= k else '') + \"0123456789ABCDEF\"[n % k]\n",
        "\n",
        "n, k = map(int, input().split())\n",
        "print(to_base_recursive(n, k))"
      ],
      "metadata": {
        "colab": {
          "base_uri": "https://localhost:8080/"
        },
        "id": "NxyS4irW9u6B",
        "outputId": "58384527-3409-435b-a67f-fa6271143d0f"
      },
      "execution_count": null,
      "outputs": [
        {
          "output_type": "stream",
          "name": "stdout",
          "text": [
            "14 16\n",
            "E\n"
          ]
        }
      ]
    },
    {
      "cell_type": "code",
      "source": [
        "def hc(a, hs=1):\n",
        "    return hs if a == 1 else hc(3*a + 1 if a % 2 else a // 2, hs + 1)\n",
        "\n",
        "a = int(input())\n",
        "print(hc(a))"
      ],
      "metadata": {
        "colab": {
          "base_uri": "https://localhost:8080/"
        },
        "id": "eJFWxQ7B9u3f",
        "outputId": "94a13a53-580b-415e-c4db-f70c2e9fb672"
      },
      "execution_count": null,
      "outputs": [
        {
          "output_type": "stream",
          "name": "stdout",
          "text": [
            "21\n",
            "8\n"
          ]
        }
      ]
    },
    {
      "cell_type": "code",
      "source": [
        "import math\n",
        "a,b = map(int, input().split())\n",
        "print(math.comb(a,b))"
      ],
      "metadata": {
        "colab": {
          "base_uri": "https://localhost:8080/",
          "height": 184
        },
        "id": "VQDH9SFgEQT7",
        "outputId": "1b6c4a5b-2a12-4eb5-87c9-8c4d5c9a4ed2"
      },
      "execution_count": null,
      "outputs": [
        {
          "output_type": "error",
          "ename": "TypeError",
          "evalue": "'str' object is not callable",
          "traceback": [
            "\u001b[0;31m---------------------------------------------------------------------------\u001b[0m",
            "\u001b[0;31mTypeError\u001b[0m                                 Traceback (most recent call last)",
            "\u001b[0;32m<ipython-input-50-e5b1579f5d66>\u001b[0m in \u001b[0;36m<cell line: 2>\u001b[0;34m()\u001b[0m\n\u001b[1;32m      1\u001b[0m \u001b[0;32mimport\u001b[0m \u001b[0mmath\u001b[0m\u001b[0;34m\u001b[0m\u001b[0;34m\u001b[0m\u001b[0m\n\u001b[0;32m----> 2\u001b[0;31m \u001b[0ma\u001b[0m\u001b[0;34m,\u001b[0m\u001b[0mb\u001b[0m \u001b[0;34m=\u001b[0m \u001b[0mmap\u001b[0m\u001b[0;34m(\u001b[0m\u001b[0mint\u001b[0m\u001b[0;34m,\u001b[0m \u001b[0minput\u001b[0m\u001b[0;34m(\u001b[0m\u001b[0;34m)\u001b[0m\u001b[0;34m.\u001b[0m\u001b[0msplit\u001b[0m\u001b[0;34m(\u001b[0m\u001b[0;34m)\u001b[0m\u001b[0;34m)\u001b[0m\u001b[0;34m\u001b[0m\u001b[0;34m\u001b[0m\u001b[0m\n\u001b[0m\u001b[1;32m      3\u001b[0m \u001b[0mprint\u001b[0m\u001b[0;34m(\u001b[0m\u001b[0mmath\u001b[0m\u001b[0;34m.\u001b[0m\u001b[0mcomb\u001b[0m\u001b[0;34m(\u001b[0m\u001b[0ma\u001b[0m\u001b[0;34m,\u001b[0m\u001b[0mb\u001b[0m\u001b[0;34m)\u001b[0m\u001b[0;34m)\u001b[0m\u001b[0;34m\u001b[0m\u001b[0;34m\u001b[0m\u001b[0m\n",
            "\u001b[0;31mTypeError\u001b[0m: 'str' object is not callable"
          ]
        }
      ]
    },
    {
      "cell_type": "code",
      "source": [
        "def hc(a, hs=[]):\n",
        "  hs.append(a)\n",
        "  return hs if a == 1 else hc(3*a + 1 if a % 2 else a // 2, hs)\n",
        "\n",
        "a = int(input())\n",
        "print(hc(a))"
      ],
      "metadata": {
        "colab": {
          "base_uri": "https://localhost:8080/"
        },
        "id": "gEo-rlmCEQRw",
        "outputId": "3dd8f121-f295-42ad-c940-97e5984a5e88"
      },
      "execution_count": null,
      "outputs": [
        {
          "output_type": "stream",
          "name": "stdout",
          "text": [
            "5\n",
            "[5, 16, 8, 4, 2, 1]\n"
          ]
        }
      ]
    },
    {
      "cell_type": "code",
      "source": [
        "def hc(a, hs=[]):\n",
        "  hs.append(a)\n",
        "  return hs if a == 1 else hc(3*a + 1 if a % 2 else a // 2, hs)\n",
        "\n",
        "def pp(a = hc(int(input())), hs=0):\n",
        "\n",
        "    if len(a) == hs:\n",
        "        return ''\n",
        "    print(a[-(hs + 1)])\n",
        "    return pp(a, hs + 1)\n",
        "\n",
        "print(pp())"
      ],
      "metadata": {
        "colab": {
          "base_uri": "https://localhost:8080/",
          "height": 221
        },
        "id": "8-rGL0M9EQPw",
        "outputId": "16a38b91-0c84-4744-d926-8a7f3b2ac0f4"
      },
      "execution_count": null,
      "outputs": [
        {
          "output_type": "error",
          "ename": "TypeError",
          "evalue": "'str' object is not callable",
          "traceback": [
            "\u001b[0;31m---------------------------------------------------------------------------\u001b[0m",
            "\u001b[0;31mTypeError\u001b[0m                                 Traceback (most recent call last)",
            "\u001b[0;32m<ipython-input-48-ca3be9015f44>\u001b[0m in \u001b[0;36m<cell line: 5>\u001b[0;34m()\u001b[0m\n\u001b[1;32m      3\u001b[0m   \u001b[0;32mreturn\u001b[0m \u001b[0mhs\u001b[0m \u001b[0;32mif\u001b[0m \u001b[0ma\u001b[0m \u001b[0;34m==\u001b[0m \u001b[0;36m1\u001b[0m \u001b[0;32melse\u001b[0m \u001b[0mhc\u001b[0m\u001b[0;34m(\u001b[0m\u001b[0;36m3\u001b[0m\u001b[0;34m*\u001b[0m\u001b[0ma\u001b[0m \u001b[0;34m+\u001b[0m \u001b[0;36m1\u001b[0m \u001b[0;32mif\u001b[0m \u001b[0ma\u001b[0m \u001b[0;34m%\u001b[0m \u001b[0;36m2\u001b[0m \u001b[0;32melse\u001b[0m \u001b[0ma\u001b[0m \u001b[0;34m//\u001b[0m \u001b[0;36m2\u001b[0m\u001b[0;34m,\u001b[0m \u001b[0mhs\u001b[0m\u001b[0;34m)\u001b[0m\u001b[0;34m\u001b[0m\u001b[0;34m\u001b[0m\u001b[0m\n\u001b[1;32m      4\u001b[0m \u001b[0;34m\u001b[0m\u001b[0m\n\u001b[0;32m----> 5\u001b[0;31m \u001b[0;32mdef\u001b[0m \u001b[0mpp\u001b[0m\u001b[0;34m(\u001b[0m\u001b[0ma\u001b[0m \u001b[0;34m=\u001b[0m \u001b[0mhc\u001b[0m\u001b[0;34m(\u001b[0m\u001b[0mint\u001b[0m\u001b[0;34m(\u001b[0m\u001b[0minput\u001b[0m\u001b[0;34m(\u001b[0m\u001b[0;34m)\u001b[0m\u001b[0;34m)\u001b[0m\u001b[0;34m)\u001b[0m\u001b[0;34m,\u001b[0m \u001b[0mhs\u001b[0m\u001b[0;34m=\u001b[0m\u001b[0;36m0\u001b[0m\u001b[0;34m)\u001b[0m\u001b[0;34m:\u001b[0m\u001b[0;34m\u001b[0m\u001b[0;34m\u001b[0m\u001b[0m\n\u001b[0m\u001b[1;32m      6\u001b[0m     \u001b[0;32mif\u001b[0m \u001b[0mlen\u001b[0m\u001b[0;34m(\u001b[0m\u001b[0ma\u001b[0m\u001b[0;34m)\u001b[0m \u001b[0;34m==\u001b[0m \u001b[0mhs\u001b[0m\u001b[0;34m:\u001b[0m\u001b[0;34m\u001b[0m\u001b[0;34m\u001b[0m\u001b[0m\n\u001b[1;32m      7\u001b[0m         \u001b[0;32mreturn\u001b[0m \u001b[0;34m''\u001b[0m\u001b[0;34m\u001b[0m\u001b[0;34m\u001b[0m\u001b[0m\n",
            "\u001b[0;31mTypeError\u001b[0m: 'str' object is not callable"
          ]
        }
      ]
    },
    {
      "cell_type": "code",
      "source": [
        "import sys\n",
        "from functools import lru_cache\n",
        "\n",
        "@lru_cache(None)\n",
        "def SuperSum(k, n):\n",
        "    if k == 0:\n",
        "        return n\n",
        "    return sum(SuperSum(k - 1, i) for i in range(1, n + 1))\n",
        "\n",
        "#input = sys.stdin.read()\n",
        "data = input.split()\n",
        "\n",
        "i = 0\n",
        "while i < len(data):\n",
        "    k = int(data[i])\n",
        "    n = int(data[i + 1])\n",
        "    print(SuperSum(k, n))\n",
        "    i += 2"
      ],
      "metadata": {
        "id": "hW0YSnlqEQNy"
      },
      "execution_count": null,
      "outputs": []
    },
    {
      "cell_type": "code",
      "source": [
        "def find_lca(a, b):\n",
        "    if a == b:\n",
        "        return a\n",
        "    if a > b:\n",
        "        return find_lca(a // 2, b)\n",
        "    return find_lca(a, b // 2)\n",
        "\n",
        "\n",
        "a, b = map(int, input().split())\n",
        "\n",
        "print(find_lca(a, b))"
      ],
      "metadata": {
        "id": "rdeUTYuHEQLP"
      },
      "execution_count": null,
      "outputs": []
    },
    {
      "cell_type": "code",
      "source": [
        "def find_lca(a, b, hs=0):\n",
        "    if a == b:\n",
        "        return hs\n",
        "    if a > b:\n",
        "        return find_lca(a // 2, b,hs+1)\n",
        "    return find_lca(a, b // 2,hs+1)\n",
        "\n",
        "\n",
        "a, b = map(int, input().split())\n",
        "\n",
        "print(find_lca(a, b))"
      ],
      "metadata": {
        "colab": {
          "base_uri": "https://localhost:8080/"
        },
        "id": "vN2eqVZyzWpU",
        "outputId": "10590546-8c44-4991-8d3f-6360e075787e"
      },
      "execution_count": null,
      "outputs": [
        {
          "output_type": "stream",
          "name": "stdout",
          "text": [
            "3 4\n",
            "3\n"
          ]
        }
      ]
    },
    {
      "cell_type": "code",
      "source": [
        "def see(a,b=1):\n",
        "  print('*'*b)\n",
        "  if b == a:\n",
        "    return ''\n",
        "  return see(a,b+1)\n",
        "\n",
        "print(see(int(input())))"
      ],
      "metadata": {
        "colab": {
          "base_uri": "https://localhost:8080/"
        },
        "id": "rVoMFIgzzYEk",
        "outputId": "4b1dcd08-929d-408c-b191-9cdee226c8cc"
      },
      "execution_count": null,
      "outputs": [
        {
          "output_type": "stream",
          "name": "stdout",
          "text": [
            "3\n",
            "*\n",
            "**\n",
            "***\n",
            "\n"
          ]
        }
      ]
    },
    {
      "cell_type": "code",
      "source": [
        "def see(a):\n",
        "  print('*'*a)\n",
        "  if a == 1:\n",
        "    return ''\n",
        "  return see(a-1)\n",
        "\n",
        "print(see(int(input())))"
      ],
      "metadata": {
        "colab": {
          "base_uri": "https://localhost:8080/"
        },
        "id": "bQqPIxYvzYBu",
        "outputId": "a10f9e4c-ed20-4c92-e33e-3a6db9fce804"
      },
      "execution_count": null,
      "outputs": [
        {
          "output_type": "stream",
          "name": "stdout",
          "text": [
            "3\n",
            "***\n",
            "**\n",
            "*\n",
            "\n"
          ]
        }
      ]
    },
    {
      "cell_type": "code",
      "source": [
        "def L(n):\n",
        "  line = 1+(n*(n+1)//2)\n",
        "  return line\n",
        "\n",
        "print(L(2)%137)"
      ],
      "metadata": {
        "colab": {
          "base_uri": "https://localhost:8080/"
        },
        "id": "v2tRIhdGzX_W",
        "outputId": "5a06bad9-8100-4d51-95e2-fd81660fa3c1"
      },
      "execution_count": null,
      "outputs": [
        {
          "output_type": "stream",
          "name": "stdout",
          "text": [
            "4\n"
          ]
        }
      ]
    },
    {
      "cell_type": "code",
      "source": [
        "n = int(input())\n",
        "print(1+(n*(n+1)//2)%137)"
      ],
      "metadata": {
        "colab": {
          "base_uri": "https://localhost:8080/"
        },
        "id": "koKZFOMWzX8k",
        "outputId": "25cb9974-ced5-47e5-ce27-5f0b6ef10248"
      },
      "execution_count": null,
      "outputs": [
        {
          "output_type": "stream",
          "name": "stdout",
          "text": [
            "3\n",
            "7\n"
          ]
        }
      ]
    },
    {
      "cell_type": "code",
      "source": [
        "(700+198)+((700+198))*(10/100)\n",
        "a = [int(input()) for i in range(3)]\n",
        "b = [int(input()) for i in range(2)]"
      ],
      "metadata": {
        "id": "zN2SaK3K00gq",
        "colab": {
          "base_uri": "https://localhost:8080/"
        },
        "outputId": "25780174-361e-4b49-e3c1-359e795783af"
      },
      "execution_count": null,
      "outputs": [
        {
          "output_type": "execute_result",
          "data": {
            "text/plain": [
              "987.8"
            ]
          },
          "metadata": {},
          "execution_count": 5
        }
      ]
    },
    {
      "cell_type": "code",
      "source": [
        "#2001\n",
        "a = [int(input()) for i in range(3)]\n",
        "b = [int(input()) for i in range(2)]\n",
        "\n",
        "c = []\n",
        "for i in b:\n",
        "  for j in a:\n",
        "    c.append((i + j) + ((i + j) * (10 / 100)))\n",
        "\n",
        "print(f'{min(c):.01f}')"
      ],
      "metadata": {
        "id": "S4QO-cJp00eQ",
        "colab": {
          "base_uri": "https://localhost:8080/"
        },
        "outputId": "87e11008-7d9e-42f7-b3da-98f209b99727"
      },
      "execution_count": null,
      "outputs": [
        {
          "output_type": "stream",
          "name": "stdout",
          "text": [
            "800\n",
            "700\n",
            "900\n",
            "198\n",
            "330\n",
            "987.8\n"
          ]
        }
      ]
    },
    {
      "cell_type": "code",
      "source": [
        "#2002\n",
        "k = int(input())\n",
        "a = input()\n",
        "b = {'A': 1, 'B': 2, 'C': 3, 'D': 4, 'E': 5, 'F': 6, 'G': 7, 'H': 8, 'I': 9, 'J': 10, 'K': 11, 'L': 12, 'M': 13, 'N': 14, 'O': 15, 'P': 16, 'Q': 17, 'R': 18, 'S': 19, 'T': 20, 'U': 21, 'V': 22, 'W': 23, 'X': 24, 'Y': 25, 'Z': 26}\n",
        "\n",
        "def get_key_from_value(dictionary, value):\n",
        "    for key in dictionary:\n",
        "        if dictionary[key] == value:\n",
        "            return key\n",
        "    return None\n",
        "\n",
        "for i in range(1,len(a)+1):\n",
        "  s = 3*i+k\n",
        "  next = (b[a[i-1]] - s)+26 if b[a[i-1]] - s < 1 else b[a[i-1]] - s\n",
        "  print(get_key_from_value(b, next),end = '')"
      ],
      "metadata": {
        "id": "KLII6MfMvTtu"
      },
      "execution_count": null,
      "outputs": []
    },
    {
      "cell_type": "code",
      "source": [
        "a = ['*x*', ' xx','* *']\n",
        "b = int(input())\n",
        "c = []\n",
        "for i in a:\n",
        "  for j in range(b):\n",
        "    print(f'{i[0]*b}{i[1]*b}{i[2]*b}')"
      ],
      "metadata": {
        "colab": {
          "base_uri": "https://localhost:8080/"
        },
        "id": "gg7-qe8IvVw0",
        "outputId": "565d2703-a7a6-4798-b9f0-d8eca126d9ed"
      },
      "execution_count": null,
      "outputs": [
        {
          "output_type": "stream",
          "name": "stdout",
          "text": [
            "3\n",
            "***xxx***\n",
            "***xxx***\n",
            "***xxx***\n",
            "   xxxxxx\n",
            "   xxxxxx\n",
            "   xxxxxx\n",
            "***   ***\n",
            "***   ***\n",
            "***   ***\n"
          ]
        }
      ]
    },
    {
      "cell_type": "code",
      "source": [
        "#2007\n",
        "a = int(input())\n",
        "b = list(map(int, input().split()))\n",
        "\n",
        "srt, n_srt = False, False\n",
        "for i in range(len(b)-1):\n",
        "  if b[i] < b[i+1]:\n",
        "    srt = True\n",
        "  elif b [i] > b[i+1]:\n",
        "    n_srt = True\n",
        "\n",
        "\n",
        "print('섞임' if srt == True and n_srt == True else '오름차순' if srt else '내림차순')\n",
        "srt,n_srt"
      ],
      "metadata": {
        "id": "C5RmUuwZ-Hwj",
        "colab": {
          "base_uri": "https://localhost:8080/"
        },
        "outputId": "4072fd7a-48b7-403c-9519-f6baf87141f1"
      },
      "execution_count": null,
      "outputs": [
        {
          "output_type": "stream",
          "name": "stdout",
          "text": [
            "1\n",
            "2992 444 123 111 74 33333\n",
            "섞임\n"
          ]
        },
        {
          "output_type": "execute_result",
          "data": {
            "text/plain": [
              "(True, True)"
            ]
          },
          "metadata": {},
          "execution_count": 92
        }
      ]
    },
    {
      "cell_type": "code",
      "source": [
        "#2008\n",
        "a = int(input())\n",
        "b = list(map(int, input().split()))\n",
        "\n",
        "srt, n_srt = False, False\n",
        "for i in range(len(b)-1):\n",
        "  if b[i] < b[i+1]:\n",
        "    srt = True\n",
        "  elif b [i] > b[i+1]:\n",
        "    n_srt = True\n",
        "  else:\n",
        "    pass\n",
        "\n",
        "print('섞임' if srt == True and n_srt == True or len(set(b)) == 1 else '오름차순' if srt else '내림차순')"
      ],
      "metadata": {
        "colab": {
          "base_uri": "https://localhost:8080/"
        },
        "id": "PPoxgffwiZ8B",
        "outputId": "b5998312-06b1-4866-cd33-4ad36d6c01db"
      },
      "execution_count": null,
      "outputs": [
        {
          "output_type": "stream",
          "name": "stdout",
          "text": [
            "3\n",
            "4 4 4\n",
            "섞임\n"
          ]
        }
      ]
    },
    {
      "cell_type": "code",
      "source": [
        "#2004\n",
        "# 입력\n",
        "rows, cols = map(int, input().split())\n",
        "cell_rows, cell_cols = map(int, input().split())\n",
        "\n",
        "# 체크보드 생성\n",
        "for i in range(rows):\n",
        "    for k in range(cell_rows):\n",
        "        line = []\n",
        "        for j in range(cols):\n",
        "            if (i + j) % 2 == 0:\n",
        "                line.append('X' * cell_cols)\n",
        "            else:\n",
        "                line.append('.' * cell_cols)\n",
        "        print(''.join(line))\n"
      ],
      "metadata": {
        "id": "C-JtW-0iyW1t"
      },
      "execution_count": null,
      "outputs": []
    },
    {
      "cell_type": "code",
      "source": [
        "#2005\n",
        "\n",
        "n = int(input())\n",
        "a = list(map(int, input().split()))\n",
        "m = int(input())\n",
        "\n",
        "is_residue_system = True\n",
        "\n",
        "for i in range(n):\n",
        "    for j in range(i + 1, n):\n",
        "        if abs(a[i] - a[j]) % m == 0:\n",
        "            print('no')\n",
        "            is_residue_system = False\n",
        "            break\n",
        "    if not is_residue_system:\n",
        "        break\n",
        "\n",
        "if is_residue_system:\n",
        "    print('yes')"
      ],
      "metadata": {
        "colab": {
          "base_uri": "https://localhost:8080/"
        },
        "id": "-_yTaT3OymqS",
        "outputId": "16a26968-37e7-4bf5-e0f0-8f3e3c3b401d"
      },
      "execution_count": null,
      "outputs": [
        {
          "output_type": "stream",
          "name": "stdout",
          "text": [
            "7\n",
            "22 5 648 40 334 246 97 \n",
            "9\n",
            "no\n"
          ]
        }
      ]
    },
    {
      "cell_type": "code",
      "source": [
        "#2006\n",
        "a, b, c, d, s = [int(input()) for _ in range(5)]\n",
        "\n",
        "def dist(a, b, s):\n",
        "    q, r = divmod(s, a + b)\n",
        "    res = q * (a - b) + min(r, a) - (r - a if r > a else 0)\n",
        "    return res\n",
        "\n",
        "nd = dist(a, b, s)\n",
        "bd = dist(c, d, s)\n",
        "\n",
        "print(\"Tied\" if nd == bd else \"Nikky\" if nd > bd else \"Byron\")\n"
      ],
      "metadata": {
        "colab": {
          "base_uri": "https://localhost:8080/"
        },
        "id": "MdnKMSJu0H4x",
        "outputId": "049e7bd4-9fd3-4c22-8270-2ec4a1080885"
      },
      "execution_count": null,
      "outputs": [
        {
          "output_type": "stream",
          "name": "stdout",
          "text": [
            "4\n",
            "2\n",
            "5\n",
            "3\n",
            "12\n",
            "Byron\n"
          ]
        }
      ]
    },
    {
      "cell_type": "code",
      "source": [
        "a, b = map(int, input().split())\n",
        "\n",
        "ame = 0\n",
        "\n",
        "while a >= b:\n",
        "    new_ame = a // b\n",
        "    ame += new_ame\n",
        "    a = a % b + new_ame\n",
        "\n",
        "print(ame)"
      ],
      "metadata": {
        "colab": {
          "base_uri": "https://localhost:8080/"
        },
        "id": "NpYK-0Xa2Seq",
        "outputId": "b77f1625-26e2-4f1f-a111-5ae91d1d2150"
      },
      "execution_count": null,
      "outputs": [
        {
          "output_type": "stream",
          "name": "stdout",
          "text": [
            "10 3\n",
            "4\n"
          ]
        }
      ]
    },
    {
      "cell_type": "code",
      "source": [
        "b, n = map(int, input().split())\n",
        "\n",
        "a = round(b ** (1 / n))\n",
        "\n",
        "candidates = [a, a - 1, a + 1]\n",
        "\n",
        "print(min(candidates, key=lambda x: abs(b - x ** n)))"
      ],
      "metadata": {
        "colab": {
          "base_uri": "https://localhost:8080/"
        },
        "id": "ACJkSWFA4Mga",
        "outputId": "aad8911a-edb6-4029-a3ab-2f41e38cde3e"
      },
      "execution_count": null,
      "outputs": [
        {
          "output_type": "stream",
          "name": "stdout",
          "text": [
            "1000000 9\n",
            "4\n",
            "4\n"
          ]
        }
      ]
    },
    {
      "cell_type": "code",
      "source": [
        "for star in range(1, 10):\n",
        "    for tri in range(0, 10):\n",
        "        for sqa in range(0, 10):\n",
        "            left = star * 100 + tri * 10 + sqa\n",
        "            right = star * 10 + tri\n",
        "            if left - right == sqa * 10 + sqa:\n",
        "                print(f\"{left}-{right}={sqa * 10 + sqa}\")\n"
      ],
      "metadata": {
        "colab": {
          "base_uri": "https://localhost:8080/"
        },
        "id": "dk7aUaTM8rJg",
        "outputId": "6a37caff-38dc-438d-bc8c-c4eae1396dbd"
      },
      "execution_count": null,
      "outputs": [
        {
          "output_type": "stream",
          "name": "stdout",
          "text": [
            "109 - 10 = 99\n"
          ]
        }
      ]
    },
    {
      "cell_type": "code",
      "source": [
        "#2016\n",
        "a = int(input()) // 3\n",
        "b = input()[::-1]\n",
        "\n",
        "c = [b[3*i:3*i+3] for i in range(a)]\n",
        "if b[3*a:]:\n",
        "    c.append(b[3*a:])\n",
        "\n",
        "d = ','.join([i[::-1] for i in c[::-1]])\n",
        "\n",
        "print(d)\n"
      ],
      "metadata": {
        "colab": {
          "base_uri": "https://localhost:8080/"
        },
        "id": "HA3zon1pdkCK",
        "outputId": "d287b16f-0281-4133-e6c0-ff783077765d"
      },
      "execution_count": null,
      "outputs": [
        {
          "output_type": "stream",
          "name": "stdout",
          "text": [
            "8\n",
            "12421421\n",
            "12,421,421\n"
          ]
        }
      ]
    },
    {
      "cell_type": "code",
      "source": [
        "#2043\n",
        "word = input()\n",
        "\n",
        "fst = word[0].upper()\n",
        "\n",
        "map = {\n",
        "    'b': '1', 'f': '1', 'p': '1', 'v': '1',\n",
        "    'c': '2', 'g': '2', 'j': '2', 'k': '2', 'q': '2', 's': '2', 'x': '2', 'z': '2',\n",
        "    'd': '3', 't': '3',\n",
        "    'l': '4',\n",
        "    'm': '5', 'n': '5',\n",
        "    'r': '6'\n",
        "}\n",
        "\n",
        "enc = []\n",
        "prev = None\n",
        "for ch in word[1:].lower():\n",
        "    if ch in \"aehiouwy\":\n",
        "        prev = None\n",
        "        continue\n",
        "    dig = map.get(ch, '')\n",
        "    if dig != prev or prev is None:\n",
        "        enc.append(dig)\n",
        "        prev = dig\n",
        "\n",
        "res = fst + ''.join(enc)\n",
        "\n",
        "print(res[:4].ljust(4, '0'))"
      ],
      "metadata": {
        "id": "_9KdML-Q8sD0",
        "colab": {
          "base_uri": "https://localhost:8080/"
        },
        "outputId": "8a49b243-c92c-45d1-cce4-7ad6172f91d1"
      },
      "execution_count": null,
      "outputs": [
        {
          "output_type": "stream",
          "name": "stdout",
          "text": [
            "Codeup\n",
            "C310\n"
          ]
        }
      ]
    },
    {
      "cell_type": "code",
      "source": [],
      "metadata": {
        "id": "NLbEA0Nedj_S"
      },
      "execution_count": null,
      "outputs": []
    },
    {
      "cell_type": "code",
      "source": [],
      "metadata": {
        "id": "HXOEscP4Vsh5"
      },
      "execution_count": null,
      "outputs": []
    },
    {
      "cell_type": "code",
      "source": [],
      "metadata": {
        "id": "WKJiTl5qVsfi"
      },
      "execution_count": null,
      "outputs": []
    },
    {
      "cell_type": "code",
      "source": [],
      "metadata": {
        "id": "dOC3xsOnVsc6"
      },
      "execution_count": null,
      "outputs": []
    },
    {
      "cell_type": "code",
      "source": [],
      "metadata": {
        "id": "UJCSoawCVsaJ"
      },
      "execution_count": null,
      "outputs": []
    },
    {
      "cell_type": "code",
      "source": [
        "a, b = map(int, input().split())\n",
        "\n",
        "for i in range(a, b+1):\n",
        "  count = sum(1 for digit in str(i) if digit in '369')\n",
        "  if count > 0:\n",
        "      print('K' * count)\n",
        "  else:\n",
        "      print(i)"
      ],
      "metadata": {
        "colab": {
          "base_uri": "https://localhost:8080/"
        },
        "id": "ec9FAyhu1YWc",
        "outputId": "69ee9d8c-a1a0-4112-c82f-8be9a27e1a04"
      },
      "execution_count": null,
      "outputs": [
        {
          "output_type": "stream",
          "name": "stdout",
          "text": [
            "3 16\n",
            "K\n",
            "4\n",
            "5\n",
            "K\n",
            "7\n",
            "8\n",
            "K\n",
            "10\n",
            "11\n",
            "12\n",
            "K\n",
            "14\n",
            "15\n",
            "K\n"
          ]
        }
      ]
    },
    {
      "cell_type": "code",
      "source": [
        "a, b = map(int, input().split())\n",
        "c = sum([1 for i in range(a, b+1) for j in range(len(str(i))) if str(i)[j] == '1'])\n",
        "print(c)"
      ],
      "metadata": {
        "colab": {
          "base_uri": "https://localhost:8080/"
        },
        "id": "O0riHrlD1YUV",
        "outputId": "030767a8-f64f-403c-da67-a9c5f786f751"
      },
      "execution_count": null,
      "outputs": [
        {
          "output_type": "stream",
          "name": "stdout",
          "text": [
            "9 13\n",
            "5\n"
          ]
        }
      ]
    },
    {
      "cell_type": "code",
      "source": [],
      "metadata": {
        "id": "7NO3t4h61YNW"
      },
      "execution_count": null,
      "outputs": []
    },
    {
      "cell_type": "code",
      "source": [],
      "metadata": {
        "id": "FJArUJNs1YLJ"
      },
      "execution_count": null,
      "outputs": []
    },
    {
      "cell_type": "code",
      "source": [],
      "metadata": {
        "id": "sTHN3Mx81YIv"
      },
      "execution_count": null,
      "outputs": []
    },
    {
      "cell_type": "code",
      "source": [
        "#2019\n",
        "import math\n",
        "\n",
        "a,b,c = map(int, input().split())\n",
        "\n",
        "d = b**2 - 4*a*c\n",
        "\n",
        "if d > 0:\n",
        "    x1 = (-b + math.sqrt(d)) / (2*a)\n",
        "    x2 = (-b - math.sqrt(d)) / (2*a)\n",
        "    print(f\"{x1:.02f}\\n{x2:.02f}\")\n",
        "elif d == 0:\n",
        "    x = -b / (2*a)\n",
        "    print(f'{x:.02f}')\n",
        "else:\n",
        "    real_part = -b / (2*a)\n",
        "    imaginary_part = math.sqrt(-d) / (2*a)\n",
        "    print(f\"{real_part:.02f}+{imaginary_part*-1 if imaginary_part < 0 else imaginary_part:.02f}i\\n{real_part:.02f}-{imaginary_part*-1 if imaginary_part < 0 else imaginary_part:.02f}i\")"
      ],
      "metadata": {
        "colab": {
          "base_uri": "https://localhost:8080/"
        },
        "id": "ZDb543ibxAph",
        "outputId": "18056b63-7f2a-49d9-e3bc-bcf0618fd5d1"
      },
      "execution_count": null,
      "outputs": [
        {
          "output_type": "stream",
          "name": "stdout",
          "text": [
            "-9 -8 -4\n",
            "-0.44+0.50i\n",
            "-0.44-0.50i\n"
          ]
        }
      ]
    },
    {
      "cell_type": "code",
      "source": [
        "#2364\n",
        "n = int(input())\n",
        "print((n + 4) // 5 , 150000*(n//5))"
      ],
      "metadata": {
        "colab": {
          "base_uri": "https://localhost:8080/"
        },
        "id": "tvVlK39lkeT5",
        "outputId": "94ff4dfa-a51e-4eec-b766-95ecfee49422"
      },
      "execution_count": 101,
      "outputs": [
        {
          "output_type": "stream",
          "name": "stdout",
          "text": [
            "6\n",
            "2 150000\n"
          ]
        }
      ]
    },
    {
      "cell_type": "code",
      "source": [
        "#2379\n",
        "n = int(input()) * 10\n",
        "c = 0\n",
        "for i in [25, 15, 10]:\n",
        "    c += n // i\n",
        "    n %= i\n",
        "print(c+1 if n > 0 else c)"
      ],
      "metadata": {
        "colab": {
          "base_uri": "https://localhost:8080/"
        },
        "id": "ZnfETDzqIMwR",
        "outputId": "49d74a53-b6f7-4e3c-dadf-43939b7b2382"
      },
      "execution_count": null,
      "outputs": [
        {
          "output_type": "stream",
          "name": "stdout",
          "text": [
            "9\n",
            "4\n"
          ]
        }
      ]
    },
    {
      "cell_type": "code",
      "source": [
        "#2621\n",
        "a =int(input())\n",
        "print(sum([i for i in range(1,a+1) if a % i ==0]))"
      ],
      "metadata": {
        "colab": {
          "base_uri": "https://localhost:8080/"
        },
        "id": "gzmM9RH_imzM",
        "outputId": "22c70b16-3d29-47b1-d6a8-3ca365df9adc"
      },
      "execution_count": 89,
      "outputs": [
        {
          "output_type": "stream",
          "name": "stdout",
          "text": [
            "10\n",
            "18\n"
          ]
        }
      ]
    },
    {
      "cell_type": "code",
      "source": [
        "#2640\n",
        "a,b = map(int, input().split())\n",
        "print(pow(a,b,1000000007))"
      ],
      "metadata": {
        "colab": {
          "base_uri": "https://localhost:8080/"
        },
        "id": "mpjFPyBAnGwq",
        "outputId": "df710a89-0264-41d3-e736-aeb54cd7ae27"
      },
      "execution_count": 104,
      "outputs": [
        {
          "output_type": "stream",
          "name": "stdout",
          "text": [
            "4 2\n",
            "16\n"
          ]
        }
      ]
    },
    {
      "cell_type": "code",
      "source": [
        "#2624 해결 실패!\n",
        "a = int(input())\n"
      ],
      "metadata": {
        "colab": {
          "base_uri": "https://localhost:8080/"
        },
        "id": "zTgzQpYAo00O",
        "outputId": "91fd6f1e-d160-458d-c56d-741407f89358"
      },
      "execution_count": 120,
      "outputs": [
        {
          "output_type": "stream",
          "name": "stdout",
          "text": [
            "10\n",
            "17\n"
          ]
        },
        {
          "output_type": "execute_result",
          "data": {
            "text/plain": [
              "[0, 2, 3, 6, 5, 11, 7, 14, 12, 17]"
            ]
          },
          "metadata": {},
          "execution_count": 120
        }
      ]
    },
    {
      "cell_type": "code",
      "source": [
        "#2793\n",
        "n = int(input())\n",
        "tasks = [tuple(map(int, input().split())) for _ in range(n)]\n",
        "\n",
        "tasks.sort(key=lambda x: x[1], reverse=True)\n",
        "\n",
        "latest_start = float('inf')\n",
        "\n",
        "for start, end in tasks:\n",
        "    if latest_start > end:\n",
        "        latest_start = end\n",
        "    latest_start -= 1\n",
        "\n",
        "print(latest_start+1)"
      ],
      "metadata": {
        "colab": {
          "base_uri": "https://localhost:8080/"
        },
        "id": "GmnJ-Gpm3uw-",
        "outputId": "a38afb4c-6fb2-45b1-aa9b-342ff8187aed"
      },
      "execution_count": null,
      "outputs": [
        {
          "output_type": "stream",
          "name": "stdout",
          "text": [
            "4\n",
            "6 7\n",
            "1 4\n",
            "5 5\n",
            "2 6\n",
            "4\n"
          ]
        }
      ]
    },
    {
      "cell_type": "code",
      "source": [
        "#3110 (큐)\n",
        "from collections import deque as d\n",
        "\n",
        "n,k=map(int,input().split())\n",
        "q=d(range(1,n+1))\n",
        "\n",
        "q.popleft() #첫번째값 삭제  FIFO(First In, First Out)\n",
        "while len(q)>1:q.rotate(-((k-1)%len(q)));q.popleft()\n",
        "\n",
        "print(q[0])"
      ],
      "metadata": {
        "id": "YgHcyQLdNm_n"
      },
      "execution_count": null,
      "outputs": []
    },
    {
      "cell_type": "code",
      "source": [
        "#3301\n",
        "\n",
        "a = int(input())\n",
        "b = [50000, 10000,5000,1000,500,100,50,10]\n",
        "\n",
        "c = 0\n",
        "for i in b:\n",
        "  c += a//i\n",
        "  a %= i\n",
        "\n",
        "print(c)"
      ],
      "metadata": {
        "colab": {
          "base_uri": "https://localhost:8080/"
        },
        "id": "qcbU58yggrGD",
        "outputId": "9536086b-ab57-4d03-8a29-3d1c92063bb4"
      },
      "execution_count": 81,
      "outputs": [
        {
          "output_type": "stream",
          "name": "stdout",
          "text": [
            "54520\n",
            "8\n"
          ]
        }
      ]
    },
    {
      "cell_type": "code",
      "source": [
        "#4011\n",
        "a = input()\n",
        "b = '20' + a[0:2] if int(a[7]) > 2 else '19' + a[0:2]\n",
        "print(f\"{b}/{a[2:4]}/{a[4:6]} {'F' if int(a[7]) % 2 == 0 else 'M'}\")"
      ],
      "metadata": {
        "colab": {
          "base_uri": "https://localhost:8080/"
        },
        "id": "jWeqBaTH5uaN",
        "outputId": "f62efa2a-f8e9-4f99-9979-8a515b674b5c"
      },
      "execution_count": null,
      "outputs": [
        {
          "output_type": "stream",
          "name": "stdout",
          "text": [
            "781201-1273845\n",
            "1978/12/01/ M\n"
          ]
        }
      ]
    },
    {
      "cell_type": "code",
      "source": [
        "#4012\n",
        "a = input()\n",
        "b =list(map(int, input().split()))\n",
        "c = sorted(b, reverse=True)\n",
        "for i in b:\n",
        "  print(i, c.index(i)+1)"
      ],
      "metadata": {
        "colab": {
          "base_uri": "https://localhost:8080/"
        },
        "id": "TVS4Ni8YenT_",
        "outputId": "1dc818cb-9b33-4efb-fea6-f1c95db5baf8"
      },
      "execution_count": 80,
      "outputs": [
        {
          "output_type": "stream",
          "name": "stdout",
          "text": [
            "10\n",
            "60 34 55 100 90 76 60 90 80 87\n",
            "60 7\n",
            "34 10\n",
            "55 9\n",
            "100 1\n",
            "90 2\n",
            "76 6\n",
            "60 7\n",
            "90 2\n",
            "80 5\n",
            "87 4\n"
          ]
        }
      ]
    },
    {
      "cell_type": "code",
      "source": [
        "#4026\n",
        "a = sorted(list(map(int, input().split())))\n",
        "mid = len(a)//2\n",
        "print(a[mid] if len(a) % 2 != 0 else ( a[mid-1] + a[mid]) / 2)"
      ],
      "metadata": {
        "colab": {
          "base_uri": "https://localhost:8080/"
        },
        "id": "fi98Hknd-X9r",
        "outputId": "59be6080-fb80-4d7c-85af-344df62c7772"
      },
      "execution_count": null,
      "outputs": [
        {
          "output_type": "stream",
          "name": "stdout",
          "text": [
            "58 35 77 59 68\n",
            "59\n"
          ]
        }
      ]
    },
    {
      "cell_type": "code",
      "source": [
        "#4031\n",
        "a = list(map(int, input().split()))\n",
        "\n",
        "b = [i for i in a if i % 2 == 0] + [0]\n",
        "c = [i for i in a if i % 2 != 0] + [0]\n",
        "\n",
        "print(max(b)+max(c))"
      ],
      "metadata": {
        "colab": {
          "base_uri": "https://localhost:8080/"
        },
        "id": "dAiH43vp7vFZ",
        "outputId": "dbf71503-b54b-40b0-cb4f-1a372f1abefd"
      },
      "execution_count": null,
      "outputs": [
        {
          "output_type": "stream",
          "name": "stdout",
          "text": [
            "1 1 1 1\n",
            "1\n"
          ]
        }
      ]
    },
    {
      "cell_type": "code",
      "source": [
        "#4036\n",
        "n = int(input())\n",
        "m = int(input())\n",
        "print(f'{(n + m) // 2}\\n{(n - m) // 2}')"
      ],
      "metadata": {
        "colab": {
          "base_uri": "https://localhost:8080/"
        },
        "id": "yFmc4TmE31y6",
        "outputId": "428fe86f-a87f-4a40-f17f-4cd0a41ac777"
      },
      "execution_count": null,
      "outputs": [
        {
          "name": "stdout",
          "output_type": "stream",
          "text": [
            "1998\n",
            "0\n"
          ]
        },
        {
          "output_type": "execute_result",
          "data": {
            "text/plain": [
              "[]"
            ]
          },
          "metadata": {},
          "execution_count": 74
        }
      ]
    },
    {
      "cell_type": "code",
      "source": [
        "#4038 이해 못함\n",
        "import math\n",
        "\n",
        "def heron_area(x1, y1, x2, y2, x3, y3):\n",
        "    a = math.sqrt((x2 - x1) ** 2 + (y2 - y1) ** 2)\n",
        "    b = math.sqrt((x3 - x2) ** 2 + (y3 - y2) ** 2)\n",
        "    c = math.sqrt((x1 - x3) ** 2 + (y1 - y3) ** 2)\n",
        "    s = (a + b + c) / 2\n",
        "    return math.sqrt(s * (s - a) * (s - b) * (s - c))\n",
        "\n",
        "def intersection(x1, y1, x2, y2):\n",
        "    if y1 * y2 < 0:  # 두 점이 수면을 기준으로 다른 쪽에 있을 때\n",
        "        return x1 - y1 * (x2 - x1) / (y2 - y1), 0\n",
        "    return None\n",
        "\n",
        "def calculate_area_above_surface(x1, y1, x2, y2, x3, y3):\n",
        "    points = []\n",
        "    if y1 > 0:\n",
        "        points.append((x1, y1))\n",
        "    if y2 > 0:\n",
        "        points.append((x2, y2))\n",
        "    if y3 > 0:\n",
        "        points.append((x3, y3))\n",
        "\n",
        "    i1 = intersection(x1, y1, x2, y2)\n",
        "    if i1:\n",
        "        points.append(i1)\n",
        "\n",
        "    i2 = intersection(x2, y2, x3, y3)\n",
        "    if i2:\n",
        "        points.append(i2)\n",
        "\n",
        "    i3 = intersection(x3, y3, x1, y1)\n",
        "    if i3:\n",
        "        points.append(i3)\n",
        "\n",
        "    if len(points) < 3:\n",
        "        return 0\n",
        "\n",
        "    points = sorted(points, key=lambda p: (p[0], p[1]))  # 점들을 정렬\n",
        "    area = heron_area(points[0][0], points[0][1], points[1][0], points[1][1], points[2][0], points[2][1])\n",
        "\n",
        "    return round(area)\n",
        "\n",
        "# 입력 받기\n",
        "x1, y1 = map(int, input().split())\n",
        "x2, y2 = map(int, input().split())\n",
        "x3, y3 = map(int, input().split())\n",
        "\n",
        "# 결과 출력\n",
        "print(calculate_area_above_surface(x1, y1, x2, y2, x3, y3))"
      ],
      "metadata": {
        "colab": {
          "base_uri": "https://localhost:8080/"
        },
        "id": "5M6OG-_Pan0J",
        "outputId": "f90aa34c-debc-453e-a451-118350e1a783"
      },
      "execution_count": null,
      "outputs": [
        {
          "output_type": "stream",
          "name": "stdout",
          "text": [
            "-4 -1\n",
            "6 -3\n",
            "3 6\n",
            "[(-3.0, 0), (3, 6), (5.0, 0)]\n",
            "24\n"
          ]
        }
      ]
    },
    {
      "cell_type": "code",
      "source": [
        "#4041\n",
        "a = list(input())\n",
        "print(f'{int(\"\".join(a[::-1]))}\\n{sum(map(int,a))}')\n",
        "\n",
        "#####################GPT\n",
        "\n",
        "a = input()[::-1]\n",
        "print(f'{int(a)}\\n{sum(map(int,a[::-1]))}')"
      ],
      "metadata": {
        "colab": {
          "base_uri": "https://localhost:8080/"
        },
        "id": "-oG3eTRXhhAv",
        "outputId": "beb8a388-fa97-442e-8638-5e199d613abe"
      },
      "execution_count": 85,
      "outputs": [
        {
          "output_type": "stream",
          "name": "stdout",
          "text": [
            "320\n",
            "23\n",
            "5\n"
          ]
        }
      ]
    },
    {
      "cell_type": "code",
      "source": [
        "#4045\n",
        "def count_ways(n, m):\n",
        "    print(n,m)\n",
        "    if n == 0:\n",
        "        return 1\n",
        "    if n < 0 or m == 0:\n",
        "        return 0\n",
        "    return count_ways(n, m - 1) + count_ways(n - m, m)  # m명을 포함하지 않는 경우 + m명을 포함하는 경우\n",
        "\n",
        "n, m = map(int, input().split())\n",
        "print(count_ways(n, m))"
      ],
      "metadata": {
        "id": "zz7iEpV3YPFa"
      },
      "execution_count": null,
      "outputs": []
    },
    {
      "cell_type": "code",
      "source": [
        "#4085\n",
        "m, n, x, y = map(int, input().split())\n",
        "matrix = [list(map(int, input().split())) for _ in range(n)]\n",
        "\n",
        "max_fertility = 0\n",
        "\n",
        "for i in range(n):\n",
        "    for j in range(m):\n",
        "        if i + y <= n and j + x <= m:\n",
        "            current_fertility = sum(matrix[i+a][j+b] for a in range(y) for b in range(x))\n",
        "            max_fertility = max(max_fertility, current_fertility)\n",
        "\n",
        "print(max_fertility)\n"
      ],
      "metadata": {
        "colab": {
          "base_uri": "https://localhost:8080/"
        },
        "id": "bjd17a0e82Al",
        "outputId": "083d5647-e8b1-4e1f-ebd8-6f03d088c04f"
      },
      "execution_count": null,
      "outputs": [
        {
          "output_type": "stream",
          "name": "stdout",
          "text": [
            "10 3 2 2\n",
            "10 15 11 24 55 21 10 19 14 10\n",
            "10 12 19 19 44 39 24 15 14 11\n",
            "10 77 66 50 50 50 40 35 25 15\n",
            "183\n"
          ]
        }
      ]
    },
    {
      "cell_type": "code",
      "source": [
        "#4506\n",
        "\n",
        "a,b = map(int, input().split())\n",
        "\n",
        "for i in range(min(a,b), 0,-1):\n",
        "  if a%i==0 and b%i==0 :\n",
        "    print(i)\n",
        "    c = i\n",
        "    break\n",
        "\n",
        "d = min(a,b)\n",
        "while True:\n",
        "  if d%a==0 and d%b==0 :\n",
        "    print(d)\n",
        "    break\n",
        "  d+=c"
      ],
      "metadata": {
        "colab": {
          "base_uri": "https://localhost:8080/"
        },
        "id": "IW7uHln7EmzX",
        "outputId": "c55bb7ff-c113-403b-eecf-aa2672a5b31c"
      },
      "execution_count": null,
      "outputs": [
        {
          "output_type": "stream",
          "name": "stdout",
          "text": [
            "24 18\n",
            "6\n",
            "72\n"
          ]
        }
      ]
    },
    {
      "cell_type": "code",
      "source": [
        "#4506\n",
        "a = [int(input()) for i in range(9)]\n",
        "b = max([(i+1,j) for i,j in enumerate(a)], key=lambda x: x[1])\n",
        "print(f'{b[1]}\\n{b[0]}')"
      ],
      "metadata": {
        "id": "DOnRD3fxHlf0"
      },
      "execution_count": null,
      "outputs": []
    },
    {
      "cell_type": "code",
      "source": [
        "#4531\n",
        "a = [int(input()) for i in range(5)]\n",
        "print(f'{sum(a)//5}\\n{sorted(a)[2]}')"
      ],
      "metadata": {
        "colab": {
          "base_uri": "https://localhost:8080/"
        },
        "id": "dobp0wvZd_B6",
        "outputId": "bf332b20-abc9-4299-ac97-82351eda00d9"
      },
      "execution_count": 68,
      "outputs": [
        {
          "output_type": "stream",
          "name": "stdout",
          "text": [
            "10\n",
            "40\n",
            "30\n",
            "60\n",
            "30\n",
            "170\n",
            "30\n"
          ]
        }
      ]
    },
    {
      "cell_type": "code",
      "source": [
        "#4681\n",
        "a = list(map(int, input().split()))\n",
        "b = sum([i**2 for i in a])\n",
        "print(b%10)"
      ],
      "metadata": {
        "colab": {
          "base_uri": "https://localhost:8080/"
        },
        "id": "xpYAjNXZIviW",
        "outputId": "8eb87db1-c209-4e26-9319-cd0bf8fca9b8"
      },
      "execution_count": null,
      "outputs": [
        {
          "output_type": "stream",
          "name": "stdout",
          "text": [
            "0 4 2 5 6\n",
            "1\n"
          ]
        }
      ]
    },
    {
      "cell_type": "code",
      "source": [
        "#4891\n",
        "a = input()\n",
        "b = list(map(int, input().split()))\n",
        "print(max(b)-min(b))"
      ],
      "metadata": {
        "colab": {
          "base_uri": "https://localhost:8080/"
        },
        "id": "qj6Vcd8YJslH",
        "outputId": "254f8ab1-1b06-47f3-8ec1-540069b85fce"
      },
      "execution_count": null,
      "outputs": [
        {
          "output_type": "stream",
          "name": "stdout",
          "text": [
            "5\n",
            "27 35 92 75 42\n",
            "65\n"
          ]
        }
      ]
    },
    {
      "cell_type": "code",
      "source": [
        "#4991\n",
        "\n",
        "a = [int(input()) for i in range(int(input()))]\n",
        "\n",
        "mxc, vis = 0,0\n",
        "for i in reversed(a):\n",
        "  if i > mxc:\n",
        "    mxc = i\n",
        "    vis +=1\n",
        "\n",
        "print(vis)"
      ],
      "metadata": {
        "colab": {
          "base_uri": "https://localhost:8080/"
        },
        "id": "-ZVjLtC1DGko",
        "outputId": "59586a85-18de-46bd-aae0-6c1261c33913"
      },
      "execution_count": null,
      "outputs": [
        {
          "output_type": "stream",
          "name": "stdout",
          "text": [
            "10\n",
            "3\n",
            "4\n",
            "5\n",
            "5\n",
            "4\n",
            "1\n",
            "2\n",
            "3\n",
            "4\n",
            "1\n",
            "3\n"
          ]
        }
      ]
    },
    {
      "cell_type": "code",
      "source": [
        "#2030\n",
        "a = [['.'] * 60 for _ in range(30)]\n",
        "\n",
        "for _ in range(int(input())):\n",
        "    cmd = input().split()\n",
        "    name, x1, y1, x2, y2 = cmd[0], int(cmd[1]) - 1, int(cmd[2]) - 1, int(cmd[3]) - 1, int(cmd[4]) - 1\n",
        "\n",
        "    # 윈도우 상단 테두리\n",
        "    a[y1][x1] = '+'\n",
        "    for j in range(x1 + 1, min(x2, x1 + len(name) + 1)):\n",
        "        a[y1][j] = name[j - x1 - 1]\n",
        "    for j in range(x1 + len(name) + 1, x2):\n",
        "        a[y1][j] = '-'\n",
        "    a[y1][x2] = '+'\n",
        "\n",
        "    # 윈도우 중간 부분\n",
        "    for i in range(y1 + 1, y2):\n",
        "        a[i][x1] = '|'\n",
        "        for j in range(x1 + 1, x2):\n",
        "            a[i][j] = ' '\n",
        "        a[i][x2] = '|'\n",
        "\n",
        "    # 윈도우 하단 테두리\n",
        "    a[y2][x1] = '+'\n",
        "    for j in range(x1 + 1, x2):\n",
        "        a[y2][j] = '-'\n",
        "    a[y2][x2] = '+'\n",
        "\n",
        "# 결과 출력\n",
        "for row in a:\n",
        "    print(\"\".join(row))\n",
        "\n",
        "\n",
        "\n",
        "\n"
      ],
      "metadata": {
        "colab": {
          "base_uri": "https://localhost:8080/"
        },
        "id": "m4ezbyR0MNq3",
        "outputId": "a3601544-f7bc-41ac-e6d5-adeb42615a34"
      },
      "execution_count": 21,
      "outputs": [
        {
          "output_type": "stream",
          "name": "stdout",
          "text": [
            "1\n",
            "ie9 2 3 15 6\n",
            "............................................................\n",
            "............................................................\n",
            ".+ie9---------+.............................................\n",
            ".|            |.............................................\n",
            ".|            |.............................................\n",
            ".+------------+.............................................\n",
            "............................................................\n",
            "............................................................\n",
            "............................................................\n",
            "............................................................\n",
            "............................................................\n",
            "............................................................\n",
            "............................................................\n",
            "............................................................\n",
            "............................................................\n",
            "............................................................\n",
            "............................................................\n",
            "............................................................\n",
            "............................................................\n",
            "............................................................\n",
            "............................................................\n",
            "............................................................\n",
            "............................................................\n",
            "............................................................\n",
            "............................................................\n",
            "............................................................\n",
            "............................................................\n",
            "............................................................\n",
            "............................................................\n",
            "............................................................\n"
          ]
        }
      ]
    },
    {
      "cell_type": "code",
      "source": [
        "#2044\n",
        "a = input()\n",
        "a = list(a[a.rfind('C') + 1:])\n",
        "\n",
        "while 'A' in a or 'B' in a:\n",
        "    if 'B' in a and a.index('B') <= a.index('A'):\n",
        "        idx = a.index('B')\n",
        "        del a[idx-2:idx+1]\n",
        "    elif 'A' in a:\n",
        "        idx = a.index('A')\n",
        "        del a[idx-1:idx+1]\n",
        "\n",
        "print(\"\".join(a))"
      ],
      "metadata": {
        "colab": {
          "base_uri": "https://localhost:8080/"
        },
        "id": "T2thi_xIQSCH",
        "outputId": "ac5448cc-481f-4c1a-b03c-fe16d4fff0e6"
      },
      "execution_count": 50,
      "outputs": [
        {
          "output_type": "stream",
          "name": "stdout",
          "text": [
            "011B1C11A122B11A\n",
            "111\n"
          ]
        }
      ]
    },
    {
      "cell_type": "code",
      "source": [
        "# 2081\n",
        "a = [input() for i in range(9)]\n",
        "b = [(i+1,j) for i,j in enumerate(a)]\n",
        "c = max(b, key=lambda x: x[1])\n",
        "print(f'{c[1]}\\n{c[0]}')"
      ],
      "metadata": {
        "colab": {
          "base_uri": "https://localhost:8080/"
        },
        "id": "8DRC3v_XaHFP",
        "outputId": "465b73f0-9f98-4d4e-83fd-577999f0abe4"
      },
      "execution_count": 57,
      "outputs": [
        {
          "output_type": "stream",
          "name": "stdout",
          "text": [
            "1\n",
            "9\n",
            "9\n",
            "2\n"
          ]
        }
      ]
    },
    {
      "cell_type": "code",
      "source": [
        "n,k = map(int, input().split())\n",
        "c = list(map(int, input().split()))\n",
        "print(c.index(k)+1 if k in c else -1)"
      ],
      "metadata": {
        "colab": {
          "base_uri": "https://localhost:8080/"
        },
        "id": "26vz8JuBcLpr",
        "outputId": "af823971-d329-4440-a091-9ac3365e228e"
      },
      "execution_count": 65,
      "outputs": [
        {
          "output_type": "stream",
          "name": "stdout",
          "text": [
            "5 3\n",
            "5 2 9 7 3\n",
            "5\n"
          ]
        }
      ]
    }
  ]
}