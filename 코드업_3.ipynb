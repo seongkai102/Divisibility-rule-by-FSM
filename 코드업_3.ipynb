{
  "nbformat": 4,
  "nbformat_minor": 0,
  "metadata": {
    "colab": {
      "provenance": [],
      "authorship_tag": "ABX9TyOHflYsZcKDFZeQlhfFA39u",
      "include_colab_link": true
    },
    "kernelspec": {
      "name": "python3",
      "display_name": "Python 3"
    },
    "language_info": {
      "name": "python"
    }
  },
  "cells": [
    {
      "cell_type": "markdown",
      "metadata": {
        "id": "view-in-github",
        "colab_type": "text"
      },
      "source": [
        "<a href=\"https://colab.research.google.com/github/seongkai102/Divisibility-rule-by-FSM/blob/main/%EC%BD%94%EB%93%9C%EC%97%85_3.ipynb\" target=\"_parent\"><img src=\"https://colab.research.google.com/assets/colab-badge.svg\" alt=\"Open In Colab\"/></a>"
      ]
    },
    {
      "cell_type": "code",
      "source": [
        "matrix = []\n",
        "\n",
        "\n",
        "for i in range(100):\n",
        "  matrix.append([0 for j in range(100)])\n",
        "\n",
        "N = int(input())\n",
        "for k in range(N):\n",
        "  x, y = map(int, input().split())\n",
        "  for i in range(x, x + 10):\n",
        "    for j in range(y, y + 10):\n",
        "      matrix[i][j] = 1\n",
        "\n",
        "myeonjuck = 0\n",
        "for i in range(100):\n",
        "  for j in range(100):\n",
        "    if matrix[i][j] == 1:\n",
        "      myeonjuck += 1\n",
        "print(myeonjuck)"
      ],
      "metadata": {
        "colab": {
          "base_uri": "https://localhost:8080/"
        },
        "id": "BvG5e8Z1B83z",
        "outputId": "a9189e60-93d9-428c-9104-3c3fac3b05a2"
      },
      "execution_count": null,
      "outputs": [
        {
          "output_type": "stream",
          "name": "stdout",
          "text": [
            "3\n",
            "3 7\n",
            "15 7\n",
            "5 2\n",
            "260\n"
          ]
        }
      ]
    },
    {
      "cell_type": "code",
      "execution_count": null,
      "metadata": {
        "colab": {
          "base_uri": "https://localhost:8080/"
        },
        "id": "rfTXy4CIVEZ1",
        "outputId": "571fc6f2-fb30-4af8-9a02-1dbb939c61a0"
      },
      "outputs": [
        {
          "output_type": "stream",
          "name": "stdout",
          "text": [
            "2\n",
            "AMOLED\n",
            "AMOLED\n",
            "AMOLED\n",
            "AMOLED\n",
            "AMOLED\n"
          ]
        }
      ],
      "source": [
        "a = int(input())\n",
        "b = [input() for i in range(a)]\n",
        "\n",
        "for i in range(a):\n",
        "  if i+1 == a:\n",
        "    print(b[i])\n",
        "  else:\n",
        "    print(f'{b[i]}\\nAMOLED')"
      ]
    },
    {
      "cell_type": "code",
      "source": [
        "a = int(input())\n",
        "\n",
        "b = sorted([input() for _ in range(a)])\n",
        "output_count = len(b) // a\n",
        "\n",
        "for i in range(a):\n",
        "    print(b[i])"
      ],
      "metadata": {
        "colab": {
          "base_uri": "https://localhost:8080/"
        },
        "id": "rxPP34VHVYlw",
        "outputId": "889c7718-69cd-48ce-ca34-751932dfa0e1"
      },
      "execution_count": null,
      "outputs": [
        {
          "output_type": "stream",
          "name": "stdout",
          "text": [
            "2\n",
            "def\n",
            "avc\n",
            "avc\n",
            "def\n"
          ]
        }
      ]
    },
    {
      "cell_type": "code",
      "source": [
        "a = [input() for i in range(int(input()))]\n",
        "b = 0\n",
        "for i in a:\n",
        "  if len(i) <= 3 or ('tap' in i or 'xocure' in i):\n",
        "    b+=1\n",
        "    print(i)\n",
        "\n",
        "print(\"safe\" if b <= 3 else (\"warning\" if b <= 6 else \"danger\"))"
      ],
      "metadata": {
        "colab": {
          "base_uri": "https://localhost:8080/"
        },
        "id": "Q_2mmbLven7z",
        "outputId": "c74cc235-14f2-49a4-f5b4-2ad8e792635d"
      },
      "execution_count": null,
      "outputs": [
        {
          "output_type": "stream",
          "name": "stdout",
          "text": [
            "8\n",
            "windows tap\n",
            "hi\n",
            "microsoft office 2013\n",
            "xocure web player\n",
            "xecure safe\n",
            "goclean\n",
            "alyac\n",
            "von\n",
            "windows tap\n",
            "hi\n",
            "xocure web player\n",
            "von\n",
            "warning\n"
          ]
        }
      ]
    },
    {
      "cell_type": "code",
      "source": [
        "w,h,n = map(int, input().split())\n",
        "\n",
        "matr = [input() for i in range(n)]\n",
        "\n",
        "new_m = ''\n",
        "for i in matr:\n",
        "  for j in range(h):\n",
        "    for k in range(len(i)):\n",
        "      a = i[k]*w\n",
        "      new_m+=a\n",
        "    new_m+='\\n'\n",
        "\n",
        "print(new_m)"
      ],
      "metadata": {
        "colab": {
          "base_uri": "https://localhost:8080/"
        },
        "id": "iQZTjBwZox0Y",
        "outputId": "13c55bee-90c3-4601-c6b7-91c43ebe02eb"
      },
      "execution_count": null,
      "outputs": [
        {
          "output_type": "stream",
          "name": "stdout",
          "text": [
            "3 3 5\n",
            "**_**_**_**_**\n",
            "_**_**_**_**_**\n",
            "__**_**_**_**_**\n",
            "___**_**_**_**_**\n",
            "____**_**_**_**_**\n",
            "******___******___******___******___******\n",
            "******___******___******___******___******\n",
            "******___******___******___******___******\n",
            "___******___******___******___******___******\n",
            "___******___******___******___******___******\n",
            "___******___******___******___******___******\n",
            "______******___******___******___******___******\n",
            "______******___******___******___******___******\n",
            "______******___******___******___******___******\n",
            "_________******___******___******___******___******\n",
            "_________******___******___******___******___******\n",
            "_________******___******___******___******___******\n",
            "____________******___******___******___******___******\n",
            "____________******___******___******___******___******\n",
            "____________******___******___******___******___******\n",
            "\n"
          ]
        }
      ]
    },
    {
      "cell_type": "code",
      "source": [
        "print(*(input().split(',')))"
      ],
      "metadata": {
        "colab": {
          "base_uri": "https://localhost:8080/"
        },
        "id": "NClL15qQoxur",
        "outputId": "bd66e0dc-371f-437f-b1d4-ed4b81d89ebd"
      },
      "execution_count": null,
      "outputs": [
        {
          "output_type": "stream",
          "name": "stdout",
          "text": [
            "4,52,600,-5,0\n",
            "4 52 600 -5 0\n"
          ]
        }
      ]
    },
    {
      "cell_type": "code",
      "source": [
        "a = input().split(';')\n",
        "\n",
        "for i in a:\n",
        "    b = i.split(',')\n",
        "    for j in b:\n",
        "        c = j.split()\n",
        "        print(f'{c[0]}',end=' ')\n",
        "    print()"
      ],
      "metadata": {
        "id": "IqP_ACDGoxP0"
      },
      "execution_count": null,
      "outputs": []
    },
    {
      "cell_type": "code",
      "source": [
        "a, b = map(int, input().split())\n",
        "\n",
        "print(\"tie\" if a == b else \"win\" if (a == 0 and b == 1) or (a == 1 and b == 2) or (a == 2 and b == 0) else \"lose\")\n"
      ],
      "metadata": {
        "id": "B2NaRbwXthax"
      },
      "execution_count": null,
      "outputs": []
    },
    {
      "cell_type": "code",
      "source": [
        "a,b = map(int, input().split())\n",
        "c = a // b\n",
        "\n",
        "if c > 9999:\n",
        "  print('번호 초과 오류')\n",
        "else:\n",
        "  for i in range(1,c+1):\n",
        "    print(f\"F-{i:04}\")\n"
      ],
      "metadata": {
        "colab": {
          "base_uri": "https://localhost:8080/"
        },
        "id": "ONikSgVPthYk",
        "outputId": "08626dbe-5acb-4b1a-b388-c1de757a4a36"
      },
      "execution_count": null,
      "outputs": [
        {
          "output_type": "stream",
          "name": "stdout",
          "text": [
            "19 6\n",
            "f-0001\n",
            "f-0002\n",
            "f-0003\n"
          ]
        }
      ]
    },
    {
      "cell_type": "code",
      "source": [
        "a,b,c = map(int, input().split())\n",
        "\n",
        "for i in range(c, 0, -1):\n",
        "  if a % i == 0 and b % i == 0 and c % i == 0 :\n",
        "    print(i)\n",
        "    break"
      ],
      "metadata": {
        "colab": {
          "base_uri": "https://localhost:8080/"
        },
        "id": "HgQ74gnCthS6",
        "outputId": "12012535-d02b-4a3a-cefe-88343a66c577"
      },
      "execution_count": null,
      "outputs": [
        {
          "output_type": "stream",
          "name": "stdout",
          "text": [
            "10 20 30\n",
            "10\n"
          ]
        }
      ]
    },
    {
      "cell_type": "code",
      "source": [
        "a = sum([ int(i) for i in input() ])\n",
        "print('Bad' if a % 7 == 4 else 'Good')"
      ],
      "metadata": {
        "colab": {
          "base_uri": "https://localhost:8080/"
        },
        "id": "3190bW5kthQK",
        "outputId": "3341d14c-cc95-41df-f1d3-699d1cf7584a"
      },
      "execution_count": null,
      "outputs": [
        {
          "output_type": "stream",
          "name": "stdout",
          "text": [
            "1234567890\n",
            "Good\n"
          ]
        }
      ]
    },
    {
      "cell_type": "code",
      "source": [
        "a = int(input())\n",
        "b = [int(input()) for i in range(a)]\n",
        "c = sorted(b, reverse=True)\n",
        "\n",
        "for i in b:\n",
        "  print(c.index(i)+1)"
      ],
      "metadata": {
        "colab": {
          "base_uri": "https://localhost:8080/"
        },
        "id": "fG10-ZhVthNA",
        "outputId": "abed7b07-f502-4141-b691-47eff32a4e20"
      },
      "execution_count": null,
      "outputs": [
        {
          "output_type": "stream",
          "name": "stdout",
          "text": [
            "3\n",
            "100\n",
            "90\n",
            "90\n",
            "1\n",
            "2\n",
            "2\n"
          ]
        }
      ]
    },
    {
      "cell_type": "code",
      "source": [
        "a,b = map(int, input().split())\n",
        "\n",
        "print(f'+{\"-\"*(a-2)}+')\n",
        "for i in range(b-2):\n",
        "  print(f\"|{' '*(a-2)}|\")\n",
        "print(f'+{\"-\"*(a-2)}+')"
      ],
      "metadata": {
        "colab": {
          "base_uri": "https://localhost:8080/"
        },
        "id": "jnXBs5i8IJDg",
        "outputId": "c464571b-38d1-4f9c-87bf-10e225592c9a"
      },
      "execution_count": null,
      "outputs": [
        {
          "output_type": "stream",
          "name": "stdout",
          "text": [
            "3 3\n",
            "+-+\n",
            "| |\n",
            "+-+\n"
          ]
        }
      ]
    },
    {
      "cell_type": "code",
      "source": [
        "mat = [list(map(int, input().split())) for i in range(5)]\n",
        "\n",
        "dir = [(-1, -1), (-1, 0), (-1, 1), (0, -1), (0, 1), (1, -1), (1, 0), (1, 1)]\n",
        "\n",
        "cnt = []\n",
        "\n",
        "for x in range(5):\n",
        "  for y in range(5):\n",
        "    c = []\n",
        "    c.append(mat[x][y])\n",
        "    for dx, dy in dir:\n",
        "      nx, ny = x + dx, y + dy\n",
        "      if 0 <= nx < 5 and 0 <= ny < 5:\n",
        "        c.append(mat[nx][ny])\n",
        "    cnt.append(sum(c))\n",
        "\n",
        "print(max(cnt))"
      ],
      "metadata": {
        "colab": {
          "base_uri": "https://localhost:8080/"
        },
        "id": "tgl2g9r_KELx",
        "outputId": "ec1b00be-67ad-49ff-f228-f4f86016f322"
      },
      "execution_count": null,
      "outputs": [
        {
          "output_type": "stream",
          "name": "stdout",
          "text": [
            "1 1 1 1 1 \n",
            "1 1 2 2 2 \n",
            "1 1 2 2 2\n",
            "1 1 2 2 2\n",
            "1 1 1 1 1\n",
            "18\n",
            "[4, 7, 8, 9, 6, 6, 11, 13, 15, 10, 6, 12, 15, 18, 12, 6, 11, 13, 15, 10, 4, 7, 8, 9, 6]\n"
          ]
        }
      ]
    },
    {
      "cell_type": "code",
      "source": [
        "n = int(input())\n",
        "\n",
        "cnt = 0\n",
        "for a in range(1, n):\n",
        "    for b in range(a, n):\n",
        "        c = n - (a + b)\n",
        "        if c < b:\n",
        "            break\n",
        "        if b + a > c:\n",
        "            print(f\"{a} {b} {c}\")\n",
        "            cnt += 1\n",
        "if cnt == 0:\n",
        "    print(\"-1\")"
      ],
      "metadata": {
        "colab": {
          "base_uri": "https://localhost:8080/"
        },
        "id": "5XXnnXXDLr7p",
        "outputId": "96b3de8a-1001-493d-d13f-def616279613"
      },
      "execution_count": null,
      "outputs": [
        {
          "output_type": "stream",
          "name": "stdout",
          "text": [
            "9\n",
            "1 4 4\n",
            "2 3 4\n",
            "3 3 3\n"
          ]
        }
      ]
    },
    {
      "cell_type": "code",
      "source": [
        "for s in range(10):\n",
        "    for o in range(10):\n",
        "        for t in range(10):\n",
        "            if len(set([s, o, t])) != 3:\n",
        "                continue\n",
        "\n",
        "            so = 10 * s + o\n",
        "            too = 100 * t + 10 * o + o\n",
        "\n",
        "            if so + so == too:\n",
        "                print(f\"{so}+{so}={too}\")\n",
        "\n"
      ],
      "metadata": {
        "colab": {
          "base_uri": "https://localhost:8080/"
        },
        "id": "m7C-WGl-Lr48",
        "outputId": "b27d07c7-1b19-466f-d191-72804d5af545"
      },
      "execution_count": null,
      "outputs": [
        {
          "output_type": "stream",
          "name": "stdout",
          "text": [
            "50 + 50 = 100\n"
          ]
        }
      ]
    },
    {
      "cell_type": "code",
      "source": [
        "a = list(map(int, input().split()))\n",
        "print(*a[::-1])"
      ],
      "metadata": {
        "colab": {
          "base_uri": "https://localhost:8080/"
        },
        "id": "-oWXGRozlJ8v",
        "outputId": "95b6eb95-d6d2-4895-9583-6cedb8b04413"
      },
      "execution_count": null,
      "outputs": [
        {
          "output_type": "stream",
          "name": "stdout",
          "text": [
            "5 7 2\n",
            "2 7 5\n"
          ]
        }
      ]
    },
    {
      "cell_type": "code",
      "source": [
        "b = list(map(int, input().split()))\n",
        "a = ''.join(map(str, b))\n",
        "print( f'{a} {a}' if int(b[1])% 2 == 0 else a)"
      ],
      "metadata": {
        "colab": {
          "base_uri": "https://localhost:8080/"
        },
        "id": "z740NuNxlJ56",
        "outputId": "85e67d0d-f22e-42d7-f544-442466e91687"
      },
      "execution_count": null,
      "outputs": [
        {
          "output_type": "stream",
          "name": "stdout",
          "text": [
            "2 2 14\n",
            "2214 2214\n"
          ]
        }
      ]
    },
    {
      "cell_type": "code",
      "source": [
        "a = int(input())\n",
        "\n",
        "hout = a // 3600\n",
        "remaining_after_hours = a % 3600\n",
        "mit = remaining_after_hours // 60\n",
        "sec = remaining_after_hours % 60\n",
        "\n",
        "print(hout, mit, sec)"
      ],
      "metadata": {
        "colab": {
          "base_uri": "https://localhost:8080/"
        },
        "id": "GrjP19sllJ0k",
        "outputId": "0e5bf274-abfc-4e34-9e7b-57ab4c8c4f99"
      },
      "execution_count": null,
      "outputs": [
        {
          "output_type": "stream",
          "name": "stdout",
          "text": [
            "3602\n",
            "1 0 2\n"
          ]
        }
      ]
    },
    {
      "cell_type": "code",
      "source": [
        "a = input()\n",
        "b = '20'+a[:2] if int(a[7]) > 2 else '19'+a[:2]\n",
        "c =  'M' if int(a[7]) % 2 != 0 else 'F'\n",
        "print(2013 - int(b) ,c)"
      ],
      "metadata": {
        "colab": {
          "base_uri": "https://localhost:8080/"
        },
        "id": "b_w_YIERlJxZ",
        "outputId": "f40bd1f7-ca7b-4a6c-f37d-ddb8943c621b"
      },
      "execution_count": null,
      "outputs": [
        {
          "output_type": "stream",
          "name": "stdout",
          "text": [
            "020111 4421234 \n",
            "11 F\n"
          ]
        }
      ]
    },
    {
      "cell_type": "code",
      "source": [
        "a = input()\n",
        "b = a.count('3') + a.count('6') + a.count('9')\n",
        "print(a if b ==0 else 'K' if b==1 else 'KK' if b==2 else 'KKK')"
      ],
      "metadata": {
        "colab": {
          "base_uri": "https://localhost:8080/"
        },
        "id": "m1BPEHNHlJs6",
        "outputId": "19673055-32cd-4a45-e126-0fe2de3976c0"
      },
      "execution_count": null,
      "outputs": [
        {
          "output_type": "stream",
          "name": "stdout",
          "text": [
            "93\n",
            "KK\n"
          ]
        }
      ]
    },
    {
      "cell_type": "code",
      "source": [
        "a = list(map(int, input().split()))\n",
        "b = f'{sum(a)/len(a):.01f}'\n",
        "c,d=0,0\n",
        "for i in a:\n",
        "  if i >= float(b):\n",
        "    c+=1\n",
        "  else:\n",
        "    d+=1\n",
        "\n",
        "print(f'{b}\\n{c} {d}')"
      ],
      "metadata": {
        "colab": {
          "base_uri": "https://localhost:8080/"
        },
        "id": "pbuNEnMYlJp-",
        "outputId": "455d841d-4167-4bc4-bad0-b1ff8021c2e9"
      },
      "execution_count": null,
      "outputs": [
        {
          "output_type": "stream",
          "name": "stdout",
          "text": [
            "0 0 0 0 0 0 0 0 0 0\n",
            "0.0\n",
            "10 0\n"
          ]
        }
      ]
    },
    {
      "cell_type": "code",
      "source": [
        "z = input()\n",
        "a = list(map(int, input().split()))\n",
        "b = sorted(a, reverse=True)\n",
        "\n",
        "for i in a:\n",
        "  print(i,b.index(i)+1)"
      ],
      "metadata": {
        "colab": {
          "base_uri": "https://localhost:8080/"
        },
        "id": "AXe2863AlJlQ",
        "outputId": "c80a4ecb-646d-40e9-84c7-1c56cefa3647"
      },
      "execution_count": null,
      "outputs": [
        {
          "output_type": "stream",
          "name": "stdout",
          "text": [
            "97 65 84 84 91\n",
            "97 65 84 84 91\n",
            "97 1\n",
            "65 5\n",
            "84 3\n",
            "84 3\n",
            "91 2\n"
          ]
        }
      ]
    },
    {
      "cell_type": "code",
      "source": [
        "a = input()\n",
        "print(*sorted(list(map(int, input().split())), reverse=True))"
      ],
      "metadata": {
        "colab": {
          "base_uri": "https://localhost:8080/"
        },
        "id": "hZLSv0EelJbw",
        "outputId": "2a9950d9-5e3b-4311-c637-cfc627344dab"
      },
      "execution_count": null,
      "outputs": [
        {
          "output_type": "stream",
          "name": "stdout",
          "text": [
            "7\n",
            "51 44 81 1 9 12 25\n",
            "81 51 44 25 12 9 1\n"
          ]
        }
      ]
    },
    {
      "cell_type": "code",
      "source": [
        "#1711\n",
        "x1, y1 = map(int, input().split())\n",
        "x2, y2 = map(int, input().split())\n",
        "x3, y3 = map(int, input().split())\n",
        "\n",
        "max_x = max(x1, x2)\n",
        "max_y = max(y1, y2)\n",
        "\n",
        "matrix = [[0] * (max_y + 1) for _ in range(max_x + 1)]\n",
        "\n",
        "# 사각형 그리기\n",
        "for x in range(min(x1, x2), max(x1, x2) + 1):\n",
        "    for y in range(min(y1, y2), max(y1, y2) + 1):\n",
        "        matrix[x][y] = 1\n",
        "\n",
        "print('비충돌' if x3 > max_x or y3 > max_y else '충돌' if matrix[x3][y3] == 1  else '비충돌')"
      ],
      "metadata": {
        "colab": {
          "base_uri": "https://localhost:8080/"
        },
        "id": "xravmUrwlJZb",
        "outputId": "374f8a95-c309-4631-aed8-78d19bb84f31"
      },
      "execution_count": null,
      "outputs": [
        {
          "output_type": "stream",
          "name": "stdout",
          "text": [
            "10 3\n",
            "15 8\n",
            "1 1\n",
            "비충돌\n"
          ]
        }
      ]
    },
    {
      "cell_type": "code",
      "source": [
        "a,b,c = map(int, input().split())\n",
        "print(*[i for i in range(a,c+1,b-a)])"
      ],
      "metadata": {
        "colab": {
          "base_uri": "https://localhost:8080/"
        },
        "id": "Jhjx36bQlJXF",
        "outputId": "7c90db3d-fce6-419c-8eb3-1c2c879c194c"
      },
      "execution_count": null,
      "outputs": [
        {
          "output_type": "stream",
          "name": "stdout",
          "text": [
            "1 3 40\n",
            "1 3 5 7 9 11 13 15 17 19 21 23 25 27 29 31 33 35 37 39\n"
          ]
        }
      ]
    },
    {
      "cell_type": "code",
      "source": [
        "a, b = map(int, input().split())\n",
        "\n",
        "x,y = 0,0\n",
        "for i in range(a,b+1):\n",
        "  if i % 3 == 0 and i % 4 == 0:\n",
        "    pass\n",
        "  elif i % 3 == 0:\n",
        "    x+=i\n",
        "  elif i % 4 == 0:\n",
        "    y+=i\n",
        "\n",
        "print(x-y)"
      ],
      "metadata": {
        "id": "74S9qeHyBft5",
        "colab": {
          "base_uri": "https://localhost:8080/"
        },
        "outputId": "20e61015-3685-4b3a-8f37-ede3c88ab84f"
      },
      "execution_count": null,
      "outputs": [
        {
          "output_type": "stream",
          "name": "stdout",
          "text": [
            "3 16\n",
            "5\n"
          ]
        }
      ]
    },
    {
      "cell_type": "code",
      "source": [
        "print(input()[::-1])"
      ],
      "metadata": {
        "id": "78Q_ZgncBfrP",
        "colab": {
          "base_uri": "https://localhost:8080/"
        },
        "outputId": "4a1ab4f3-5e2a-4cd3-da17-f9963b48acbb"
      },
      "execution_count": null,
      "outputs": [
        {
          "output_type": "stream",
          "name": "stdout",
          "text": [
            "123456\n",
            "654321\n"
          ]
        }
      ]
    },
    {
      "cell_type": "code",
      "source": [
        "from math import gcd\n",
        "\n",
        "a, b = map(int, input().split())\n",
        "g = gcd(a, b)\n",
        "print(a // g, b // g)"
      ],
      "metadata": {
        "id": "n0RrhiWxBfom",
        "colab": {
          "base_uri": "https://localhost:8080/"
        },
        "outputId": "1d6f0017-e2a5-42fd-dfcf-fae7af4270db"
      },
      "execution_count": null,
      "outputs": [
        {
          "output_type": "stream",
          "name": "stdout",
          "text": [
            "2802 9628\n",
            "1401 4814\n"
          ]
        }
      ]
    },
    {
      "cell_type": "code",
      "source": [
        "a, b = map(int, input().split())\n",
        "\n",
        "c = 0\n",
        "for i in range(1, a):\n",
        "  if i % 2 == 0:\n",
        "    c+=30\n",
        "  else:\n",
        "    c+=31\n",
        "\n",
        "\n",
        "print(306-c+b)"
      ],
      "metadata": {
        "id": "AC5DrZ0qBfmA",
        "colab": {
          "base_uri": "https://localhost:8080/"
        },
        "outputId": "f52c69a6-fa84-4587-956c-f7ee7605fcb7"
      },
      "execution_count": null,
      "outputs": [
        {
          "output_type": "stream",
          "name": "stdout",
          "text": [
            "10 29\n",
            "60\n"
          ]
        }
      ]
    },
    {
      "cell_type": "code",
      "source": [
        "a, b = map(int, input().split())\n",
        "\n",
        "c = 0\n",
        "for i in range(1, a):\n",
        "    if i % 2 == 0:\n",
        "        c += 30\n",
        "    else:\n",
        "        c += 31\n",
        "\n",
        "print(305 - (c + (b - 1))-1)\n"
      ],
      "metadata": {
        "id": "QNYnxTtJBfi-",
        "colab": {
          "base_uri": "https://localhost:8080/"
        },
        "outputId": "cc6b0579-2039-452c-e226-00071f450e9b"
      },
      "execution_count": null,
      "outputs": [
        {
          "output_type": "stream",
          "name": "stdout",
          "text": [
            "10 29\n",
            "1\n"
          ]
        }
      ]
    },
    {
      "cell_type": "code",
      "source": [],
      "metadata": {
        "id": "GNKKotquBfcY",
        "colab": {
          "base_uri": "https://localhost:8080/"
        },
        "outputId": "111b3bb4-4c74-40cf-86bb-e40223dedcd3"
      },
      "execution_count": null,
      "outputs": [
        {
          "output_type": "execute_result",
          "data": {
            "text/plain": [
              "305"
            ]
          },
          "metadata": {},
          "execution_count": 68
        }
      ]
    },
    {
      "cell_type": "code",
      "source": [
        "a = input()\n",
        "C = int(a[a.find('C')+1:a.find('H')]) if a[a.find('C')+1] != 'H' else 1\n",
        "H = int(a[a.find('H') + 1:]) if a.find('H') != -1 and a[a.find('H') + 1:].isdigit() else 1\n",
        "print(C*12+H*1)\n"
      ],
      "metadata": {
        "colab": {
          "base_uri": "https://localhost:8080/"
        },
        "id": "JIt-9mAsCrWQ",
        "outputId": "cf4b0d36-ad71-4cb2-b4e4-7321c0b79093"
      },
      "execution_count": null,
      "outputs": [
        {
          "output_type": "stream",
          "name": "stdout",
          "text": [
            "C12H12\n",
            "156\n"
          ]
        }
      ]
    },
    {
      "cell_type": "code",
      "source": [
        "a = int(input())\n",
        "b = [list(map(int, input().split())) for i in range(a)]\n",
        "\n",
        "c = True\n",
        "for i in range(a):\n",
        "  if min(b[i][0:3]) != b[i][-1]:\n",
        "    print(i+1, min(b[i][0:3]))\n",
        "    c = False\n",
        "    break\n",
        "\n",
        "if c:\n",
        "  print(-1)"
      ],
      "metadata": {
        "colab": {
          "base_uri": "https://localhost:8080/"
        },
        "id": "mzbLqaPiCrRP",
        "outputId": "48189092-62d3-49a8-bb8a-563a61f15779"
      },
      "execution_count": null,
      "outputs": [
        {
          "output_type": "stream",
          "name": "stdout",
          "text": [
            "3\n",
            "3 5 8 3\n",
            "3 9 8 8\n",
            "8 3 9 3\n",
            "2 3\n"
          ]
        }
      ]
    },
    {
      "cell_type": "code",
      "source": [
        "import math\n",
        "z = input()\n",
        "x1, y1 = map(int, input().split())\n",
        "\n",
        "x2, y2 = map(int, input().split())\n",
        "\n",
        "x3, y3 = map(int, input().split())\n",
        "\n",
        "distance1 = math.sqrt((x2 - x1)**2 + (y2 - y1)**2)\n",
        "distance2 = math.sqrt((x3 - x2)**2 + (y3 - y2)**2)\n",
        "print(f\"{distance1+distance2:.2f}\")\n",
        "\n"
      ],
      "metadata": {
        "id": "xT17j6imCrOx"
      },
      "execution_count": null,
      "outputs": []
    },
    {
      "cell_type": "code",
      "source": [
        "import math\n",
        "a = int(input())\n",
        "b = [list(map(int, input().split())) for _ in range(a)]\n",
        "\n",
        "distance = 0\n",
        "for i in range(len(b)-1):\n",
        "  distance += math.sqrt((b[i][0] - b[i+1][0])**2 + (b[i][1] - b[i+1][1])**2)\n",
        "\n",
        "print(f'{distance:.02f}')\n"
      ],
      "metadata": {
        "colab": {
          "base_uri": "https://localhost:8080/"
        },
        "id": "_hv3FSSJCrMG",
        "outputId": "a8350db7-e79d-4c05-bf26-e2930aaf73a3"
      },
      "execution_count": null,
      "outputs": [
        {
          "output_type": "stream",
          "name": "stdout",
          "text": [
            "3\n",
            "0 0\n",
            "3 4\n",
            "6 0\n",
            "10.00\n"
          ]
        }
      ]
    },
    {
      "cell_type": "code",
      "source": [
        "print('special characters')\n",
        "print('[\\\\n,\\\\\",\\\\\\\\] is very important.')"
      ],
      "metadata": {
        "colab": {
          "base_uri": "https://localhost:8080/"
        },
        "id": "KFADt7IHCrJY",
        "outputId": "27c087e3-4f32-4404-d78c-bbeca0638aeb"
      },
      "execution_count": null,
      "outputs": [
        {
          "output_type": "stream",
          "name": "stdout",
          "text": [
            "special characters\n",
            "[\\n,\\\",\\\\] is very important.\n"
          ]
        }
      ]
    },
    {
      "cell_type": "code",
      "source": [
        "a, b = map(int, input().split())\n",
        "print(f'{a/b:.1f}\\n{a//b}\\n{a**b}')"
      ],
      "metadata": {
        "colab": {
          "base_uri": "https://localhost:8080/"
        },
        "id": "g4WzpSzsCrGu",
        "outputId": "db571bc4-ec80-464c-e98d-0e08513ff83b"
      },
      "execution_count": null,
      "outputs": [
        {
          "output_type": "stream",
          "name": "stdout",
          "text": [
            "4 3\n",
            "1.3\n",
            "1\n",
            "64\n"
          ]
        }
      ]
    },
    {
      "cell_type": "code",
      "source": [
        "print('IOI is the International Olympiad in Informatics.' if input() == 'IOI' else 'I don\\'t care.')"
      ],
      "metadata": {
        "colab": {
          "base_uri": "https://localhost:8080/"
        },
        "id": "Msts587iCrEC",
        "outputId": "a928b930-947a-46b2-885f-7b4767b334d3"
      },
      "execution_count": null,
      "outputs": [
        {
          "output_type": "stream",
          "name": "stdout",
          "text": [
            "IOI\n",
            "IOI is the International Olympiad in Informatics.\n"
          ]
        }
      ]
    },
    {
      "cell_type": "code",
      "source": [
        "print('welcome! ' +  input())"
      ],
      "metadata": {
        "colab": {
          "base_uri": "https://localhost:8080/"
        },
        "id": "kOy9GMKmCqxg",
        "outputId": "1da01d55-496e-4e1e-f896-467029cd26da"
      },
      "execution_count": null,
      "outputs": [
        {
          "output_type": "stream",
          "name": "stdout",
          "text": [
            "anaki\n",
            "welcome! anaki\n"
          ]
        }
      ]
    },
    {
      "cell_type": "code",
      "source": [
        "a = int(input())\n",
        "\n",
        "date = a// 86400\n",
        "hout = (a-86400*date) // 3600\n",
        "remaining_after_hours = a % 3600\n",
        "mit = remaining_after_hours // 60\n",
        "sec = remaining_after_hours % 60\n",
        "\n",
        "print(date ,hout, mit, sec)"
      ],
      "metadata": {
        "colab": {
          "base_uri": "https://localhost:8080/"
        },
        "id": "4GZAQUtQN1b2",
        "outputId": "dfe50580-33b7-4a82-d3ca-e71705ab3094"
      },
      "execution_count": null,
      "outputs": [
        {
          "output_type": "stream",
          "name": "stdout",
          "text": [
            "\t 302090\n",
            "3 11 54 50\n"
          ]
        }
      ]
    },
    {
      "cell_type": "code",
      "source": [
        "print(len(input()))"
      ],
      "metadata": {
        "colab": {
          "base_uri": "https://localhost:8080/"
        },
        "id": "mjpZA9OfN1Zt",
        "outputId": "a7373f49-dd45-4388-cad2-0b319a01e0e8"
      },
      "execution_count": null,
      "outputs": [
        {
          "output_type": "stream",
          "name": "stdout",
          "text": [
            "black sheep wall\n",
            "16\n"
          ]
        }
      ]
    },
    {
      "cell_type": "code",
      "source": [
        "print(input()[::-1])"
      ],
      "metadata": {
        "colab": {
          "base_uri": "https://localhost:8080/"
        },
        "id": "l7yUqfQeN1Xf",
        "outputId": "6471f225-6e02-44f3-a043-ba9c8b7e6a11"
      },
      "execution_count": null,
      "outputs": [
        {
          "output_type": "stream",
          "name": "stdout",
          "text": [
            "KAIST\n",
            "TSIAK\n"
          ]
        }
      ]
    },
    {
      "cell_type": "code",
      "source": [
        "b = [input() for i in range(int(input()))]\n",
        "for i in b:\n",
        "  print(i[::-1])"
      ],
      "metadata": {
        "colab": {
          "base_uri": "https://localhost:8080/"
        },
        "id": "oAVSKQayN1TL",
        "outputId": "868ecc24-9b8a-4c14-a2b5-edf63da686d2"
      },
      "execution_count": null,
      "outputs": [
        {
          "output_type": "stream",
          "name": "stdout",
          "text": [
            "3\n",
            "taehyeon\n",
            "hyeonmin\n",
            "sera\n",
            "noeyheat\n",
            "nimnoeyh\n",
            "ares\n"
          ]
        }
      ]
    },
    {
      "cell_type": "code",
      "source": [
        "a = list(map(int, input().split()))\n",
        "print(min(a), max(a))"
      ],
      "metadata": {
        "colab": {
          "base_uri": "https://localhost:8080/"
        },
        "id": "nT403ycgN1Q4",
        "outputId": "cd47d6c6-b745-4ac6-9eea-8a70f4d57d61"
      },
      "execution_count": null,
      "outputs": [
        {
          "output_type": "stream",
          "name": "stdout",
          "text": [
            "9999999999999999999999999 9999999999999999999999998\n",
            "9999999999999999999999998 9999999999999999999999999\n"
          ]
        }
      ]
    },
    {
      "cell_type": "code",
      "source": [
        "a =  {\n",
        "    \"dib\": \"Paint.Picture\",\n",
        "    \"doc\": \"Word.Document.8\",\n",
        "    \"docx\": \"Word.Document.12\",\n",
        "    \"htm\": \"htmfile\",\n",
        "    \"html\": \"htmlfile\",\n",
        "    \"hwp\": \"Hwp.Document.96\",\n",
        "    \"hwpx\": \"Hwp.Document.hwpx.96\",\n",
        "    \"hwt\": \"Hwp.Document.hwt.96\",\n",
        "    \"jpe\": \"jpegfile\",\n",
        "    \"jpeg\": \"jpegfile\",\n",
        "    \"jpg\": \"jpegfile\",\n",
        "    \"ppt\": \"PowerPoint.Show.8\",\n",
        "    \"pptx\": \"PowerPoint.Show.12\",\n",
        "    \"pptxml\": \"powerpointxmlfile\"\n",
        "}\n",
        "\n",
        "print(a[input().split('.')[-1]])"
      ],
      "metadata": {
        "colab": {
          "base_uri": "https://localhost:8080/"
        },
        "id": "Pb9lPvW7N1Np",
        "outputId": "ad270fb7-5e9d-4f8d-87b4-822a41f10a70"
      },
      "execution_count": null,
      "outputs": [
        {
          "output_type": "stream",
          "name": "stdout",
          "text": [
            "codeup.pptx\n",
            "PowerPoint.Show.12\n"
          ]
        }
      ]
    },
    {
      "cell_type": "code",
      "source": [
        "a = input()\n",
        "b = {a[i]: i for i in range(len(a))}\n",
        "c = input().split()\n",
        "for i in c:\n",
        "  for j in range(len(i)):\n",
        "    print(f'{b[i[j]]}', end = '')\n",
        "  print('', end = ' ')\n"
      ],
      "metadata": {
        "colab": {
          "base_uri": "https://localhost:8080/"
        },
        "id": "r1FBBnaGQPQh",
        "outputId": "31874422-d74e-409f-c997-4e96c4a77d2f"
      },
      "execution_count": null,
      "outputs": [
        {
          "output_type": "stream",
          "name": "stdout",
          "text": [
            "lohcgpdabk\n",
            "lol abk abk\n",
            "010 789 789 "
          ]
        }
      ]
    },
    {
      "cell_type": "code",
      "source": [
        "a = sorted(\n",
        "    [list(map(int, input().split())) for _ in range(int(input()))],\n",
        "    key=lambda x: x[0]\n",
        ")\n",
        "for i in a:\n",
        "  print(*i)"
      ],
      "metadata": {
        "colab": {
          "base_uri": "https://localhost:8080/"
        },
        "id": "MQ6Qp6UdQPOY",
        "outputId": "eca80b30-fa70-4015-ed93-287a5c1a5200"
      },
      "execution_count": null,
      "outputs": [
        {
          "output_type": "stream",
          "name": "stdout",
          "text": [
            "3\n",
            "2 10\n",
            "3 20\n",
            "1 30\n",
            "1 30\n",
            "2 10\n",
            "3 20\n"
          ]
        }
      ]
    },
    {
      "cell_type": "code",
      "source": [
        "def ubs(n, hs = 1):\n",
        "  if n == 1:\n",
        "    return hs\n",
        "  elif n % 2 == 0:\n",
        "    hs += 1\n",
        "    return ubs(n//2, hs)\n",
        "  else:\n",
        "    hs += 1\n",
        "    return ubs((3*n+1), hs)\n",
        "\n",
        "a, b=map(int, input().split())\n",
        "\n",
        "c = []\n",
        "for i in range(a, b+1):\n",
        "  c.append((i, ubs(i)))\n",
        "\n",
        "print(*max(c, key = lambda x: x[1]))\n"
      ],
      "metadata": {
        "id": "OwTU7sBSQPMa",
        "colab": {
          "base_uri": "https://localhost:8080/"
        },
        "outputId": "e184e7cb-af43-4260-f955-4aa6e84820dc"
      },
      "execution_count": null,
      "outputs": [
        {
          "output_type": "stream",
          "name": "stdout",
          "text": [
            "1 10\n",
            "9 20\n"
          ]
        }
      ]
    },
    {
      "cell_type": "code",
      "source": [
        "def h():\n",
        "    print(\"Hello, world!\", end=\" \")\n",
        "\n",
        "def q(code):\n",
        "    print(code, end=\" \")\n",
        "\n",
        "def b():\n",
        "    for i in range(99, 2, -1):\n",
        "        print(f\"{i} bottles of beer on the wall, {i} bottles of beer.\")\n",
        "        print(f\"Take one down and pass it around, {i-1} bottles of beer on the wall.\")\n",
        "    print(\"2 bottles of beer on the wall, 2 bottles of beer.\")\n",
        "    print(\"Take one down and pass it around, 1 bottle of beer on the wall.\")\n",
        "    print(\"1 bottle of beer on the wall, 1 bottle of beer.\")\n",
        "    print(\"Take one down and pass it around, no more bottles of beer on the wall.\")\n",
        "    print(\"No more bottles of beer on the wall, no more bottles of beer.\")\n",
        "    print(\"Go to the store and buy some more, 99 bottles of beer on the wall.\")\n",
        "\n",
        "def main():\n",
        "    code = input()\n",
        "    for char in code:\n",
        "        if char == 'H':\n",
        "            h()\n",
        "        if char == 'Q':\n",
        "            q(code)\n",
        "        if char == '9':\n",
        "            b()\n",
        "\n",
        "if __name__ == \"__main__\":\n",
        "    main()\n"
      ],
      "metadata": {
        "id": "V8zcH37DQPJr"
      },
      "execution_count": null,
      "outputs": []
    },
    {
      "cell_type": "code",
      "source": [
        "a = input()\n",
        "b,c = map(int, input().split())\n",
        "print(a[b-1:c])"
      ],
      "metadata": {
        "id": "778HRQP1QPHe",
        "colab": {
          "base_uri": "https://localhost:8080/"
        },
        "outputId": "6c43711d-0862-4ebf-dd30-d97ea7e510f2"
      },
      "execution_count": null,
      "outputs": [
        {
          "output_type": "stream",
          "name": "stdout",
          "text": [
            "abcde\n",
            "1 3\n",
            "abc\n"
          ]
        }
      ]
    },
    {
      "cell_type": "code",
      "source": [
        "def a(a):\n",
        "  return '*'*a\n",
        "\n",
        "print(a(int(input())))"
      ],
      "metadata": {
        "id": "S9KEvWhJQPFC",
        "colab": {
          "base_uri": "https://localhost:8080/"
        },
        "outputId": "add8463c-c83a-4aa8-854f-ab93d0bf91e9"
      },
      "execution_count": null,
      "outputs": [
        {
          "output_type": "stream",
          "name": "stdout",
          "text": [
            "3\n",
            "***\n"
          ]
        }
      ]
    },
    {
      "cell_type": "code",
      "source": [
        "def print_numbers(n,i=1):\n",
        "    if i > n:\n",
        "        return\n",
        "    else:\n",
        "        print(i, end = ' ')\n",
        "        return print_numbers(n, i+1)\n",
        "\n",
        "print_numbers(int(input()))"
      ],
      "metadata": {
        "id": "GnyBlngEQPCe",
        "colab": {
          "base_uri": "https://localhost:8080/"
        },
        "outputId": "4128540d-f744-4b5e-f259-dcd6c1652437"
      },
      "execution_count": null,
      "outputs": [
        {
          "name": "stdout",
          "output_type": "stream",
          "text": [
            "10\n"
          ]
        },
        {
          "output_type": "execute_result",
          "data": {
            "text/plain": [
              "55"
            ]
          },
          "metadata": {},
          "execution_count": 30
        }
      ]
    },
    {
      "cell_type": "code",
      "source": [
        "def print_numbers(n,i=1,b=[]):\n",
        "    if i > n:\n",
        "        return sum(b)\n",
        "    else:\n",
        "        b.append(i)\n",
        "        return print_numbers(n, i+1, b)\n",
        "\n",
        "print(print_numbers(int(input())))"
      ],
      "metadata": {
        "id": "cq6P2PH4QPAN",
        "colab": {
          "base_uri": "https://localhost:8080/"
        },
        "outputId": "1a24ea36-3d89-460e-fbf2-49234bb315f1"
      },
      "execution_count": null,
      "outputs": [
        {
          "output_type": "stream",
          "name": "stdout",
          "text": [
            "10\n",
            "55\n"
          ]
        }
      ]
    },
    {
      "cell_type": "code",
      "source": [
        "print(sum(map(int, input())))"
      ],
      "metadata": {
        "colab": {
          "base_uri": "https://localhost:8080/"
        },
        "id": "JlIUx4nFcCxl",
        "outputId": "138a0e91-a2a3-4853-cb09-348efef8e6c8"
      },
      "execution_count": null,
      "outputs": [
        {
          "output_type": "stream",
          "name": "stdout",
          "text": [
            "1234\n",
            "10\n"
          ]
        }
      ]
    },
    {
      "cell_type": "code",
      "source": [
        "def fib(n):\n",
        "    if n == 0:\n",
        "        return 0\n",
        "    elif n == 1 or n == 2:\n",
        "        return 1\n",
        "    else:\n",
        "        return fib(n - 1) + fib(n - 2)\n",
        "\n",
        "print(fib(int(input())))"
      ],
      "metadata": {
        "colab": {
          "base_uri": "https://localhost:8080/"
        },
        "id": "-MN5blm-cCtM",
        "outputId": "eec685ff-be84-42d8-92f4-ad764145f2dd"
      },
      "execution_count": null,
      "outputs": [
        {
          "output_type": "stream",
          "name": "stdout",
          "text": [
            "6\n",
            "8\n"
          ]
        }
      ]
    },
    {
      "cell_type": "code",
      "source": [
        "def count_ways(n):\n",
        "    if n == 1:\n",
        "        return 1\n",
        "    elif n == 2:\n",
        "        return 2\n",
        "    elif n == 3:\n",
        "        return 4\n",
        "    else:\n",
        "        return count_ways(n - 3) + count_ways(n - 2) + count_ways(n - 1)\n",
        "\n",
        "n = int(input())\n",
        "print(count_ways(n))\n"
      ],
      "metadata": {
        "colab": {
          "base_uri": "https://localhost:8080/"
        },
        "id": "i_SAkS5zcCq_",
        "outputId": "35d5e2c1-8729-4480-c176-fdd8ef138fee"
      },
      "execution_count": null,
      "outputs": [
        {
          "output_type": "stream",
          "name": "stdout",
          "text": [
            "3\n",
            "4\n"
          ]
        }
      ]
    },
    {
      "cell_type": "code",
      "source": [
        "import math\n",
        "a,b = map(int, input().split())\n",
        "print(math.comb(a,b))"
      ],
      "metadata": {
        "id": "rmPhSDDLcCou"
      },
      "execution_count": null,
      "outputs": []
    },
    {
      "cell_type": "code",
      "source": [
        "def pascal(n, k):\n",
        "    if k == 0 or k == n:\n",
        "        return 1\n",
        "    return pascal(n-1, k-1) + pascal(n-1, k)\n",
        "\n",
        "n, k = map(int, input().split())\n",
        "print(pascal(n-1, k-1))\n"
      ],
      "metadata": {
        "colab": {
          "base_uri": "https://localhost:8080/"
        },
        "id": "5Op2hHEycCj4",
        "outputId": "f929c2e6-15ed-4665-bfaa-b50a18c33127"
      },
      "execution_count": null,
      "outputs": [
        {
          "output_type": "stream",
          "name": "stdout",
          "text": [
            "5 3\n",
            "6\n"
          ]
        }
      ]
    },
    {
      "cell_type": "code",
      "source": [
        "def star(n,b=1):\n",
        "  print('*'*b)\n",
        "  if b == n:\n",
        "    return ''\n",
        "  return star(n,b+1)\n",
        "\n",
        "\n",
        "print(star(int(input())))"
      ],
      "metadata": {
        "colab": {
          "base_uri": "https://localhost:8080/"
        },
        "id": "PFsF2N9XcChH",
        "outputId": "11b8c725-2137-459d-f1dd-4a17dfdac31a"
      },
      "execution_count": null,
      "outputs": [
        {
          "output_type": "stream",
          "name": "stdout",
          "text": [
            "5\n",
            "*\n",
            "**\n",
            "***\n",
            "****\n",
            "*****\n",
            "\n"
          ]
        }
      ]
    },
    {
      "cell_type": "code",
      "source": [
        "def sp(n, b=[1]):\n",
        "\n",
        "  print(*b)\n",
        "  if len(b) == n:\n",
        "    return ''\n",
        "  b.append(b[-1]+1)\n",
        "  return sp(n, b)\n",
        "\n",
        "print(sp(int(input())))"
      ],
      "metadata": {
        "colab": {
          "base_uri": "https://localhost:8080/"
        },
        "id": "_S8gdRLTcCem",
        "outputId": "4ec14dd4-4ec3-408e-81e8-b52b6f5b129c"
      },
      "execution_count": null,
      "outputs": [
        {
          "output_type": "stream",
          "name": "stdout",
          "text": [
            "5\n",
            "1\n",
            "1 2\n",
            "1 2 3\n",
            "1 2 3 4\n",
            "1 2 3 4 5\n",
            "\n"
          ]
        }
      ]
    },
    {
      "cell_type": "code",
      "source": [
        "#1861\n",
        "def pascal_triangle(n, row=0, col=0):\n",
        "    if row == n:\n",
        "        return ''\n",
        "    if col > row:\n",
        "        print()\n",
        "        return pascal_triangle(n, row + 1, 0)\n",
        "    print(1 if col == 0 or col == row else pascal_triangle_value(row, col), end=\" \")\n",
        "    return pascal_triangle(n, row, col + 1)\n",
        "\n",
        "def pascal_triangle_value(row, col):\n",
        "    if col == 0 or col == row:\n",
        "        return 1\n",
        "    return pascal_triangle_value(row - 1, col - 1) + pascal_triangle_value(row - 1, col)\n",
        "\n",
        "num_rows = int(input())\n",
        "print(pascal_triangle(num_rows))\n"
      ],
      "metadata": {
        "colab": {
          "base_uri": "https://localhost:8080/"
        },
        "id": "8f7WQws8cCYh",
        "outputId": "193e7e30-0141-453b-dbe3-b3585792c5cf"
      },
      "execution_count": null,
      "outputs": [
        {
          "output_type": "stream",
          "name": "stdout",
          "text": [
            "5\n",
            "1 \n",
            "1 1 \n",
            "1 2 1 \n",
            "1 3 3 1 \n",
            "1 4 6 4 1 \n",
            "\n"
          ]
        }
      ]
    },
    {
      "cell_type": "code",
      "source": [
        "#1862\n",
        "MOD = 1000000007\n",
        "\n",
        "def fibonacci(n, memo={1: 1, 2: 1}):\n",
        "    if n in memo: #종료 코드\n",
        "        return memo[n]\n",
        "    memo[n] = (fibonacci(n - 1, memo) + fibonacci(n - 2, memo)) % MOD\n",
        "    # print(f\"n = {n}, memo = {memo}\")\n",
        "    return memo[n] #중간 상태 저장 (if문이 실행되기 전까지)\n",
        "\n",
        "n = int(input())\n",
        "print(fibonacci(n))\n"
      ],
      "metadata": {
        "colab": {
          "base_uri": "https://localhost:8080/"
        },
        "id": "o7ql_wMPBLHP",
        "outputId": "87ec2d2d-c209-40c3-bfdc-c71b330c57dd"
      },
      "execution_count": null,
      "outputs": [
        {
          "output_type": "stream",
          "name": "stdout",
          "text": [
            "67\n",
            "569898238\n"
          ]
        }
      ]
    },
    {
      "cell_type": "code",
      "source": [
        "def hs(a,b=1,c=[]):\n",
        "  if b>a:\n",
        "    return c\n",
        "  c.append(b)\n",
        "  return hs(a,b+1,c)\n",
        "\n",
        "a = int(input())\n",
        "print(sum(hs(a)))"
      ],
      "metadata": {
        "id": "eg4Aztr1BK_d",
        "colab": {
          "base_uri": "https://localhost:8080/"
        },
        "outputId": "e87d7f3b-b8e9-4908-ed21-b3e813d1c714"
      },
      "execution_count": null,
      "outputs": [
        {
          "output_type": "stream",
          "name": "stdout",
          "text": [
            "100\n",
            "5050\n"
          ]
        }
      ]
    },
    {
      "cell_type": "code",
      "source": [
        "import sys\n",
        "\n",
        "sys.setrecursionlimit(100000)\n",
        "\n",
        "def hs(a, b=0):\n",
        "    if a == 0:\n",
        "        return b\n",
        "    return hs(a - 1, b + a)\n",
        "\n",
        "a = int(input())\n",
        "print(hs(a))\n"
      ],
      "metadata": {
        "id": "WvU82pgdBK5c"
      },
      "execution_count": null,
      "outputs": []
    },
    {
      "cell_type": "code",
      "source": [
        "def fac(n):\n",
        "  if n ==0:\n",
        "    return 1\n",
        "  return n*fac(n-1)\n",
        "\n",
        "print(fac(int(input())))"
      ],
      "metadata": {
        "id": "aE3aJX0ZBK0U",
        "colab": {
          "base_uri": "https://localhost:8080/"
        },
        "outputId": "bf6bcb5e-a0cd-49a9-eb0a-2d4cb9464d83"
      },
      "execution_count": null,
      "outputs": [
        {
          "output_type": "stream",
          "name": "stdout",
          "text": [
            "5\n",
            "120\n"
          ]
        }
      ]
    },
    {
      "cell_type": "code",
      "source": [
        "def fib(n):\n",
        "    if n == 0:\n",
        "        return 0\n",
        "    elif n == 1 or n == 2:\n",
        "        return 1\n",
        "    else:\n",
        "        return fib(n - 1) + fib(n - 2)\n",
        "\n",
        "print(fib(int(input())))"
      ],
      "metadata": {
        "id": "5uIAVJl_BKxt",
        "colab": {
          "base_uri": "https://localhost:8080/"
        },
        "outputId": "67c419d0-9ece-4fd2-9d3d-3c633ff4c07a"
      },
      "execution_count": null,
      "outputs": [
        {
          "output_type": "stream",
          "name": "stdout",
          "text": [
            "7\n",
            "13\n"
          ]
        }
      ]
    },
    {
      "cell_type": "code",
      "source": [
        "from functools import lru_cache\n",
        "\n",
        "@lru_cache(None)\n",
        "def fib(n):\n",
        "    if n == 0:\n",
        "        return 0\n",
        "    elif n == 1 or n == 2:\n",
        "        return 1\n",
        "    else:\n",
        "        return fib(n - 1) + fib(n - 2)\n",
        "\n",
        "print(fib(int(input())) % 10009)\n"
      ],
      "metadata": {
        "id": "OMHyZ4iqBKu9",
        "colab": {
          "base_uri": "https://localhost:8080/"
        },
        "outputId": "2fe28c9b-f26a-4ceb-eaf5-d93ddb97ca50"
      },
      "execution_count": null,
      "outputs": [
        {
          "output_type": "stream",
          "name": "stdout",
          "text": [
            "151\n",
            "3081\n"
          ]
        }
      ]
    },
    {
      "cell_type": "code",
      "source": [
        "import sys\n",
        "sys.setrecursionlimit(100000)\n",
        "\n",
        "def ss(base, exponent):\n",
        "    if exponent == 0:\n",
        "        return 1\n",
        "    if exponent % 2 == 0:\n",
        "        half_result = ss(base, exponent // 2)\n",
        "        return half_result * half_result\n",
        "    else:\n",
        "        return base * ss(base, exponent - 1)\n",
        "\n",
        "base, exponent = map(int, input().split())\n",
        "print(ss(base, exponent))\n"
      ],
      "metadata": {
        "id": "q2wqA7yg8OPP"
      },
      "execution_count": null,
      "outputs": []
    },
    {
      "cell_type": "code",
      "source": [
        "print(int(input()[::-1]))"
      ],
      "metadata": {
        "colab": {
          "base_uri": "https://localhost:8080/"
        },
        "id": "gCafeDft9u_X",
        "outputId": "bf03de94-65df-473f-ee73-a8071d465270"
      },
      "execution_count": null,
      "outputs": [
        {
          "name": "stdout",
          "output_type": "stream",
          "text": [
            "1200\n"
          ]
        },
        {
          "output_type": "execute_result",
          "data": {
            "text/plain": [
              "21"
            ]
          },
          "metadata": {},
          "execution_count": 11
        }
      ]
    },
    {
      "cell_type": "code",
      "source": [
        "print(bin(int(input()))[2:])"
      ],
      "metadata": {
        "colab": {
          "base_uri": "https://localhost:8080/"
        },
        "id": "UVwO7E9X9u8h",
        "outputId": "186d360e-858d-452b-c756-2c038e0a900f"
      },
      "execution_count": null,
      "outputs": [
        {
          "output_type": "stream",
          "name": "stdout",
          "text": [
            "7\n",
            "111\n"
          ]
        }
      ]
    },
    {
      "cell_type": "code",
      "source": [
        "def to_base_recursive(n, k):\n",
        "    return (to_base_recursive(n // k, k) if n >= k else '') + \"0123456789ABCDEF\"[n % k]\n",
        "\n",
        "n, k = map(int, input().split())\n",
        "print(to_base_recursive(n, k))"
      ],
      "metadata": {
        "colab": {
          "base_uri": "https://localhost:8080/"
        },
        "id": "NxyS4irW9u6B",
        "outputId": "58384527-3409-435b-a67f-fa6271143d0f"
      },
      "execution_count": null,
      "outputs": [
        {
          "output_type": "stream",
          "name": "stdout",
          "text": [
            "14 16\n",
            "E\n"
          ]
        }
      ]
    },
    {
      "cell_type": "code",
      "source": [
        "def hc(a, hs=1):\n",
        "    return hs if a == 1 else hc(3*a + 1 if a % 2 else a // 2, hs + 1)\n",
        "\n",
        "a = int(input())\n",
        "print(hc(a))"
      ],
      "metadata": {
        "colab": {
          "base_uri": "https://localhost:8080/"
        },
        "id": "eJFWxQ7B9u3f",
        "outputId": "94a13a53-580b-415e-c4db-f70c2e9fb672"
      },
      "execution_count": null,
      "outputs": [
        {
          "output_type": "stream",
          "name": "stdout",
          "text": [
            "21\n",
            "8\n"
          ]
        }
      ]
    },
    {
      "cell_type": "code",
      "source": [
        "import math\n",
        "a,b = map(int, input().split())\n",
        "print(math.comb(a,b))"
      ],
      "metadata": {
        "colab": {
          "base_uri": "https://localhost:8080/",
          "height": 184
        },
        "id": "VQDH9SFgEQT7",
        "outputId": "1b6c4a5b-2a12-4eb5-87c9-8c4d5c9a4ed2"
      },
      "execution_count": null,
      "outputs": [
        {
          "output_type": "error",
          "ename": "TypeError",
          "evalue": "'str' object is not callable",
          "traceback": [
            "\u001b[0;31m---------------------------------------------------------------------------\u001b[0m",
            "\u001b[0;31mTypeError\u001b[0m                                 Traceback (most recent call last)",
            "\u001b[0;32m<ipython-input-50-e5b1579f5d66>\u001b[0m in \u001b[0;36m<cell line: 2>\u001b[0;34m()\u001b[0m\n\u001b[1;32m      1\u001b[0m \u001b[0;32mimport\u001b[0m \u001b[0mmath\u001b[0m\u001b[0;34m\u001b[0m\u001b[0;34m\u001b[0m\u001b[0m\n\u001b[0;32m----> 2\u001b[0;31m \u001b[0ma\u001b[0m\u001b[0;34m,\u001b[0m\u001b[0mb\u001b[0m \u001b[0;34m=\u001b[0m \u001b[0mmap\u001b[0m\u001b[0;34m(\u001b[0m\u001b[0mint\u001b[0m\u001b[0;34m,\u001b[0m \u001b[0minput\u001b[0m\u001b[0;34m(\u001b[0m\u001b[0;34m)\u001b[0m\u001b[0;34m.\u001b[0m\u001b[0msplit\u001b[0m\u001b[0;34m(\u001b[0m\u001b[0;34m)\u001b[0m\u001b[0;34m)\u001b[0m\u001b[0;34m\u001b[0m\u001b[0;34m\u001b[0m\u001b[0m\n\u001b[0m\u001b[1;32m      3\u001b[0m \u001b[0mprint\u001b[0m\u001b[0;34m(\u001b[0m\u001b[0mmath\u001b[0m\u001b[0;34m.\u001b[0m\u001b[0mcomb\u001b[0m\u001b[0;34m(\u001b[0m\u001b[0ma\u001b[0m\u001b[0;34m,\u001b[0m\u001b[0mb\u001b[0m\u001b[0;34m)\u001b[0m\u001b[0;34m)\u001b[0m\u001b[0;34m\u001b[0m\u001b[0;34m\u001b[0m\u001b[0m\n",
            "\u001b[0;31mTypeError\u001b[0m: 'str' object is not callable"
          ]
        }
      ]
    },
    {
      "cell_type": "code",
      "source": [
        "def hc(a, hs=[]):\n",
        "  hs.append(a)\n",
        "  return hs if a == 1 else hc(3*a + 1 if a % 2 else a // 2, hs)\n",
        "\n",
        "a = int(input())\n",
        "print(hc(a))"
      ],
      "metadata": {
        "colab": {
          "base_uri": "https://localhost:8080/"
        },
        "id": "gEo-rlmCEQRw",
        "outputId": "3dd8f121-f295-42ad-c940-97e5984a5e88"
      },
      "execution_count": null,
      "outputs": [
        {
          "output_type": "stream",
          "name": "stdout",
          "text": [
            "5\n",
            "[5, 16, 8, 4, 2, 1]\n"
          ]
        }
      ]
    },
    {
      "cell_type": "code",
      "source": [
        "def hc(a, hs=[]):\n",
        "  hs.append(a)\n",
        "  return hs if a == 1 else hc(3*a + 1 if a % 2 else a // 2, hs)\n",
        "\n",
        "def pp(a = hc(int(input())), hs=0):\n",
        "\n",
        "    if len(a) == hs:\n",
        "        return ''\n",
        "    print(a[-(hs + 1)])\n",
        "    return pp(a, hs + 1)\n",
        "\n",
        "print(pp())"
      ],
      "metadata": {
        "colab": {
          "base_uri": "https://localhost:8080/",
          "height": 221
        },
        "id": "8-rGL0M9EQPw",
        "outputId": "16a38b91-0c84-4744-d926-8a7f3b2ac0f4"
      },
      "execution_count": null,
      "outputs": [
        {
          "output_type": "error",
          "ename": "TypeError",
          "evalue": "'str' object is not callable",
          "traceback": [
            "\u001b[0;31m---------------------------------------------------------------------------\u001b[0m",
            "\u001b[0;31mTypeError\u001b[0m                                 Traceback (most recent call last)",
            "\u001b[0;32m<ipython-input-48-ca3be9015f44>\u001b[0m in \u001b[0;36m<cell line: 5>\u001b[0;34m()\u001b[0m\n\u001b[1;32m      3\u001b[0m   \u001b[0;32mreturn\u001b[0m \u001b[0mhs\u001b[0m \u001b[0;32mif\u001b[0m \u001b[0ma\u001b[0m \u001b[0;34m==\u001b[0m \u001b[0;36m1\u001b[0m \u001b[0;32melse\u001b[0m \u001b[0mhc\u001b[0m\u001b[0;34m(\u001b[0m\u001b[0;36m3\u001b[0m\u001b[0;34m*\u001b[0m\u001b[0ma\u001b[0m \u001b[0;34m+\u001b[0m \u001b[0;36m1\u001b[0m \u001b[0;32mif\u001b[0m \u001b[0ma\u001b[0m \u001b[0;34m%\u001b[0m \u001b[0;36m2\u001b[0m \u001b[0;32melse\u001b[0m \u001b[0ma\u001b[0m \u001b[0;34m//\u001b[0m \u001b[0;36m2\u001b[0m\u001b[0;34m,\u001b[0m \u001b[0mhs\u001b[0m\u001b[0;34m)\u001b[0m\u001b[0;34m\u001b[0m\u001b[0;34m\u001b[0m\u001b[0m\n\u001b[1;32m      4\u001b[0m \u001b[0;34m\u001b[0m\u001b[0m\n\u001b[0;32m----> 5\u001b[0;31m \u001b[0;32mdef\u001b[0m \u001b[0mpp\u001b[0m\u001b[0;34m(\u001b[0m\u001b[0ma\u001b[0m \u001b[0;34m=\u001b[0m \u001b[0mhc\u001b[0m\u001b[0;34m(\u001b[0m\u001b[0mint\u001b[0m\u001b[0;34m(\u001b[0m\u001b[0minput\u001b[0m\u001b[0;34m(\u001b[0m\u001b[0;34m)\u001b[0m\u001b[0;34m)\u001b[0m\u001b[0;34m)\u001b[0m\u001b[0;34m,\u001b[0m \u001b[0mhs\u001b[0m\u001b[0;34m=\u001b[0m\u001b[0;36m0\u001b[0m\u001b[0;34m)\u001b[0m\u001b[0;34m:\u001b[0m\u001b[0;34m\u001b[0m\u001b[0;34m\u001b[0m\u001b[0m\n\u001b[0m\u001b[1;32m      6\u001b[0m     \u001b[0;32mif\u001b[0m \u001b[0mlen\u001b[0m\u001b[0;34m(\u001b[0m\u001b[0ma\u001b[0m\u001b[0;34m)\u001b[0m \u001b[0;34m==\u001b[0m \u001b[0mhs\u001b[0m\u001b[0;34m:\u001b[0m\u001b[0;34m\u001b[0m\u001b[0;34m\u001b[0m\u001b[0m\n\u001b[1;32m      7\u001b[0m         \u001b[0;32mreturn\u001b[0m \u001b[0;34m''\u001b[0m\u001b[0;34m\u001b[0m\u001b[0;34m\u001b[0m\u001b[0m\n",
            "\u001b[0;31mTypeError\u001b[0m: 'str' object is not callable"
          ]
        }
      ]
    },
    {
      "cell_type": "code",
      "source": [
        "import sys\n",
        "from functools import lru_cache\n",
        "\n",
        "@lru_cache(None)\n",
        "def SuperSum(k, n):\n",
        "    if k == 0:\n",
        "        return n\n",
        "    return sum(SuperSum(k - 1, i) for i in range(1, n + 1))\n",
        "\n",
        "#input = sys.stdin.read()\n",
        "data = input.split()\n",
        "\n",
        "i = 0\n",
        "while i < len(data):\n",
        "    k = int(data[i])\n",
        "    n = int(data[i + 1])\n",
        "    print(SuperSum(k, n))\n",
        "    i += 2"
      ],
      "metadata": {
        "id": "hW0YSnlqEQNy"
      },
      "execution_count": null,
      "outputs": []
    },
    {
      "cell_type": "code",
      "source": [
        "def find_lca(a, b):\n",
        "    if a == b:\n",
        "        return a\n",
        "    if a > b:\n",
        "        return find_lca(a // 2, b)\n",
        "    return find_lca(a, b // 2)\n",
        "\n",
        "\n",
        "a, b = map(int, input().split())\n",
        "\n",
        "print(find_lca(a, b))"
      ],
      "metadata": {
        "id": "rdeUTYuHEQLP"
      },
      "execution_count": null,
      "outputs": []
    },
    {
      "cell_type": "code",
      "source": [
        "def find_lca(a, b, hs=0):\n",
        "    if a == b:\n",
        "        return hs\n",
        "    if a > b:\n",
        "        return find_lca(a // 2, b,hs+1)\n",
        "    return find_lca(a, b // 2,hs+1)\n",
        "\n",
        "\n",
        "a, b = map(int, input().split())\n",
        "\n",
        "print(find_lca(a, b))"
      ],
      "metadata": {
        "colab": {
          "base_uri": "https://localhost:8080/"
        },
        "id": "vN2eqVZyzWpU",
        "outputId": "10590546-8c44-4991-8d3f-6360e075787e"
      },
      "execution_count": null,
      "outputs": [
        {
          "output_type": "stream",
          "name": "stdout",
          "text": [
            "3 4\n",
            "3\n"
          ]
        }
      ]
    },
    {
      "cell_type": "code",
      "source": [
        "def see(a,b=1):\n",
        "  print('*'*b)\n",
        "  if b == a:\n",
        "    return ''\n",
        "  return see(a,b+1)\n",
        "\n",
        "print(see(int(input())))"
      ],
      "metadata": {
        "colab": {
          "base_uri": "https://localhost:8080/"
        },
        "id": "rVoMFIgzzYEk",
        "outputId": "4b1dcd08-929d-408c-b191-9cdee226c8cc"
      },
      "execution_count": null,
      "outputs": [
        {
          "output_type": "stream",
          "name": "stdout",
          "text": [
            "3\n",
            "*\n",
            "**\n",
            "***\n",
            "\n"
          ]
        }
      ]
    },
    {
      "cell_type": "code",
      "source": [
        "def see(a):\n",
        "  print('*'*a)\n",
        "  if a == 1:\n",
        "    return ''\n",
        "  return see(a-1)\n",
        "\n",
        "print(see(int(input())))"
      ],
      "metadata": {
        "colab": {
          "base_uri": "https://localhost:8080/"
        },
        "id": "bQqPIxYvzYBu",
        "outputId": "a10f9e4c-ed20-4c92-e33e-3a6db9fce804"
      },
      "execution_count": null,
      "outputs": [
        {
          "output_type": "stream",
          "name": "stdout",
          "text": [
            "3\n",
            "***\n",
            "**\n",
            "*\n",
            "\n"
          ]
        }
      ]
    },
    {
      "cell_type": "code",
      "source": [
        "def L(n):\n",
        "  line = 1+(n*(n+1)//2)\n",
        "  return line\n",
        "\n",
        "print(L(2)%137)"
      ],
      "metadata": {
        "colab": {
          "base_uri": "https://localhost:8080/"
        },
        "id": "v2tRIhdGzX_W",
        "outputId": "5a06bad9-8100-4d51-95e2-fd81660fa3c1"
      },
      "execution_count": null,
      "outputs": [
        {
          "output_type": "stream",
          "name": "stdout",
          "text": [
            "4\n"
          ]
        }
      ]
    },
    {
      "cell_type": "code",
      "source": [
        "n = int(input())\n",
        "print(1+(n*(n+1)//2)%137)"
      ],
      "metadata": {
        "colab": {
          "base_uri": "https://localhost:8080/"
        },
        "id": "koKZFOMWzX8k",
        "outputId": "25cb9974-ced5-47e5-ce27-5f0b6ef10248"
      },
      "execution_count": null,
      "outputs": [
        {
          "output_type": "stream",
          "name": "stdout",
          "text": [
            "3\n",
            "7\n"
          ]
        }
      ]
    },
    {
      "cell_type": "code",
      "source": [
        "(700+198)+((700+198))*(10/100)\n",
        "a = [int(input()) for i in range(3)]\n",
        "b = [int(input()) for i in range(2)]"
      ],
      "metadata": {
        "id": "zN2SaK3K00gq",
        "colab": {
          "base_uri": "https://localhost:8080/"
        },
        "outputId": "25780174-361e-4b49-e3c1-359e795783af"
      },
      "execution_count": null,
      "outputs": [
        {
          "output_type": "execute_result",
          "data": {
            "text/plain": [
              "987.8"
            ]
          },
          "metadata": {},
          "execution_count": 5
        }
      ]
    },
    {
      "cell_type": "code",
      "source": [
        "#1373\n",
        "\n",
        "import sys\n",
        "\n",
        "def mn(m, n, p):\n",
        "    if m < n:\n",
        "        m, n = n, m\n",
        "\n",
        "    remains = [0] * 2400\n",
        "    c = 1\n",
        "\n",
        "    for i in range(m + n, m, -1):\n",
        "        k = i\n",
        "        for j in range(2, k + 1):\n",
        "            while k % j == 0:\n",
        "                k //= j\n",
        "                remains[j] += 1\n",
        "\n",
        "        if i - m > 0:\n",
        "            k = i - m\n",
        "            for j in range(2, k + 1):\n",
        "                while k % j == 0:\n",
        "                    k //= j\n",
        "                    remains[j] -= 1\n",
        "\n",
        "    if p != 0:\n",
        "        for i in range(2400):\n",
        "            if remains[i] != 0:\n",
        "                j = remains[i]\n",
        "                while j > 0:\n",
        "                    c *= i\n",
        "                    c %= p\n",
        "                    j -= 1\n",
        "    else:\n",
        "        for i in range(2400):\n",
        "            if remains[i] != 0:\n",
        "                j = remains[i]\n",
        "                while j > 0:\n",
        "                    c *= i\n",
        "                    j -= 1\n",
        "\n",
        "    return c\n",
        "\n",
        "n, m, k, p = map(int, input().split())\n",
        "m = abs(m)\n",
        "n = abs(n)\n",
        "\n",
        "if m < n:\n",
        "    m, n = n, m\n",
        "\n",
        "if p != 0:\n",
        "    if m == 1 and n == 1:\n",
        "        print(4, 4 % p)\n",
        "        sys.exit()\n",
        "    if m == 2 and n == 1:\n",
        "        if k == 0:\n",
        "            print(3, 1 % p)\n",
        "        else:\n",
        "            print(5, 8 % p)\n",
        "        sys.exit()\n",
        "    if n == 0:\n",
        "        if m == 0:\n",
        "            if k == 0:\n",
        "                print(4, 8 % p)\n",
        "            else:\n",
        "                print(6, 24 % p)\n",
        "        else:\n",
        "            if k:\n",
        "                if m == 3:\n",
        "                    print(5, 10 % p)\n",
        "                elif m == 2:\n",
        "                    print(4, 2 % p)\n",
        "                elif m == 1:\n",
        "                    print(5, 10 % p)\n",
        "                else:\n",
        "                    print(m + 2, (((m * (m - 1) // 2) + m) * 2) % p)\n",
        "            else:\n",
        "                print(m + 2, (((m * (m - 1) // 2) + m) * 2) % p)\n",
        "        sys.exit()\n",
        "    if k:\n",
        "        if m == n:\n",
        "            print(m + n, (mn(m, n, p) - 4 + p) % p)\n",
        "        elif abs(m - n) == 1:\n",
        "            print(m + n, (mn(m, n, p) - 3 + p) % p)\n",
        "        else:\n",
        "            print(m + n, (mn(m, n, p) - 2 + p) % p)\n",
        "    else:\n",
        "        print(m + n, (mn(m, n, p) - 2 + p) % p)\n",
        "else:\n",
        "    if m == 1 and n == 1:\n",
        "        print(4, 4)\n",
        "        sys.exit()\n",
        "    if m == 2 and n == 1:\n",
        "        if k == 0:\n",
        "            print(3, 1)\n",
        "        else:\n",
        "            print(5, 8)\n",
        "        sys.exit()\n",
        "    if n == 0:\n",
        "        if m == 0:\n",
        "            if k == 0:\n",
        "                print(4, 8)\n",
        "            else:\n",
        "                print(6, 24)\n",
        "        else:\n",
        "            if k:\n",
        "                if m == 3:\n",
        "                    print(5, 10)\n",
        "                elif m == 2:\n",
        "                    print(4, 2)\n",
        "                elif m == 1:\n",
        "                    print(5, 10)\n",
        "                else:\n",
        "                    print(m + 2, ((m * (m - 1) // 2) + m) * 2)\n",
        "            else:\n",
        "                print(m + 2, ((m * (m - 1) // 2) + m) * 2)\n",
        "        sys.exit()\n",
        "    if k:\n",
        "        if m == n:\n",
        "            print(m + n, mn(m, n, p) - 4)\n",
        "        elif abs(m - n) == 1:\n",
        "            print(m + n, mn(m, n, p) - 3)\n",
        "        else:\n",
        "            print(m + n, mn(m, n, p) - 2)\n",
        "    else:\n",
        "        print(m + n, mn(m, n, p) - 2)\n"
      ],
      "metadata": {
        "colab": {
          "base_uri": "https://localhost:8080/"
        },
        "id": "znUVwI0AX0I6",
        "outputId": "fd12a474-bf85-4f09-8699-a6416d8d1cdb"
      },
      "execution_count": 36,
      "outputs": [
        {
          "output_type": "stream",
          "name": "stdout",
          "text": [
            "3 0 1 0\n",
            "5 10\n",
            "3 -1\n"
          ]
        }
      ]
    },
    {
      "cell_type": "code",
      "source": [
        "#2001\n",
        "a = [int(input()) for i in range(3)]\n",
        "b = [int(input()) for i in range(2)]\n",
        "\n",
        "c = []\n",
        "for i in b:\n",
        "  for j in a:\n",
        "    c.append((i + j) + ((i + j) * (10 / 100)))\n",
        "\n",
        "print(f'{min(c):.01f}')"
      ],
      "metadata": {
        "id": "S4QO-cJp00eQ",
        "colab": {
          "base_uri": "https://localhost:8080/"
        },
        "outputId": "87e11008-7d9e-42f7-b3da-98f209b99727"
      },
      "execution_count": null,
      "outputs": [
        {
          "output_type": "stream",
          "name": "stdout",
          "text": [
            "800\n",
            "700\n",
            "900\n",
            "198\n",
            "330\n",
            "987.8\n"
          ]
        }
      ]
    },
    {
      "cell_type": "code",
      "source": [
        "#2002\n",
        "k = int(input())\n",
        "a = input()\n",
        "b = {'A': 1, 'B': 2, 'C': 3, 'D': 4, 'E': 5, 'F': 6, 'G': 7, 'H': 8, 'I': 9, 'J': 10, 'K': 11, 'L': 12, 'M': 13, 'N': 14, 'O': 15, 'P': 16, 'Q': 17, 'R': 18, 'S': 19, 'T': 20, 'U': 21, 'V': 22, 'W': 23, 'X': 24, 'Y': 25, 'Z': 26}\n",
        "\n",
        "def get_key_from_value(dictionary, value):\n",
        "    for key in dictionary:\n",
        "        if dictionary[key] == value:\n",
        "            return key\n",
        "    return None\n",
        "\n",
        "for i in range(1,len(a)+1):\n",
        "  s = 3*i+k\n",
        "  next = (b[a[i-1]] - s)+26 if b[a[i-1]] - s < 1 else b[a[i-1]] - s\n",
        "  print(get_key_from_value(b, next),end = '')"
      ],
      "metadata": {
        "id": "KLII6MfMvTtu"
      },
      "execution_count": null,
      "outputs": []
    },
    {
      "cell_type": "code",
      "source": [
        "a = ['*x*', ' xx','* *']\n",
        "b = int(input())\n",
        "c = []\n",
        "for i in a:\n",
        "  for j in range(b):\n",
        "    print(f'{i[0]*b}{i[1]*b}{i[2]*b}')"
      ],
      "metadata": {
        "colab": {
          "base_uri": "https://localhost:8080/"
        },
        "id": "gg7-qe8IvVw0",
        "outputId": "565d2703-a7a6-4798-b9f0-d8eca126d9ed"
      },
      "execution_count": null,
      "outputs": [
        {
          "output_type": "stream",
          "name": "stdout",
          "text": [
            "3\n",
            "***xxx***\n",
            "***xxx***\n",
            "***xxx***\n",
            "   xxxxxx\n",
            "   xxxxxx\n",
            "   xxxxxx\n",
            "***   ***\n",
            "***   ***\n",
            "***   ***\n"
          ]
        }
      ]
    },
    {
      "cell_type": "code",
      "source": [
        "#2007\n",
        "a = int(input())\n",
        "b = list(map(int, input().split()))\n",
        "\n",
        "srt, n_srt = False, False\n",
        "for i in range(len(b)-1):\n",
        "  if b[i] < b[i+1]:\n",
        "    srt = True\n",
        "  elif b [i] > b[i+1]:\n",
        "    n_srt = True\n",
        "\n",
        "\n",
        "print('섞임' if srt == True and n_srt == True else '오름차순' if srt else '내림차순')\n",
        "srt,n_srt"
      ],
      "metadata": {
        "id": "C5RmUuwZ-Hwj",
        "colab": {
          "base_uri": "https://localhost:8080/"
        },
        "outputId": "4072fd7a-48b7-403c-9519-f6baf87141f1"
      },
      "execution_count": null,
      "outputs": [
        {
          "output_type": "stream",
          "name": "stdout",
          "text": [
            "1\n",
            "2992 444 123 111 74 33333\n",
            "섞임\n"
          ]
        },
        {
          "output_type": "execute_result",
          "data": {
            "text/plain": [
              "(True, True)"
            ]
          },
          "metadata": {},
          "execution_count": 92
        }
      ]
    },
    {
      "cell_type": "code",
      "source": [
        "#2008\n",
        "a = int(input())\n",
        "b = list(map(int, input().split()))\n",
        "\n",
        "srt, n_srt = False, False\n",
        "for i in range(len(b)-1):\n",
        "  if b[i] < b[i+1]:\n",
        "    srt = True\n",
        "  elif b [i] > b[i+1]:\n",
        "    n_srt = True\n",
        "  else:\n",
        "    pass\n",
        "\n",
        "print('섞임' if srt == True and n_srt == True or len(set(b)) == 1 else '오름차순' if srt else '내림차순')"
      ],
      "metadata": {
        "colab": {
          "base_uri": "https://localhost:8080/"
        },
        "id": "PPoxgffwiZ8B",
        "outputId": "b5998312-06b1-4866-cd33-4ad36d6c01db"
      },
      "execution_count": null,
      "outputs": [
        {
          "output_type": "stream",
          "name": "stdout",
          "text": [
            "3\n",
            "4 4 4\n",
            "섞임\n"
          ]
        }
      ]
    },
    {
      "cell_type": "code",
      "source": [
        "#2004\n",
        "# 입력\n",
        "rows, cols = map(int, input().split())\n",
        "cell_rows, cell_cols = map(int, input().split())\n",
        "\n",
        "# 체크보드 생성\n",
        "for i in range(rows):\n",
        "    for k in range(cell_rows):\n",
        "        line = []\n",
        "        for j in range(cols):\n",
        "            if (i + j) % 2 == 0:\n",
        "                line.append('X' * cell_cols)\n",
        "            else:\n",
        "                line.append('.' * cell_cols)\n",
        "        print(''.join(line))\n"
      ],
      "metadata": {
        "id": "C-JtW-0iyW1t"
      },
      "execution_count": null,
      "outputs": []
    },
    {
      "cell_type": "code",
      "source": [
        "#2005\n",
        "\n",
        "n = int(input())\n",
        "a = list(map(int, input().split()))\n",
        "m = int(input())\n",
        "\n",
        "is_residue_system = True\n",
        "\n",
        "for i in range(n):\n",
        "    for j in range(i + 1, n):\n",
        "        if abs(a[i] - a[j]) % m == 0:\n",
        "            print('no')\n",
        "            is_residue_system = False\n",
        "            break\n",
        "    if not is_residue_system:\n",
        "        break\n",
        "\n",
        "if is_residue_system:\n",
        "    print('yes')"
      ],
      "metadata": {
        "colab": {
          "base_uri": "https://localhost:8080/"
        },
        "id": "-_yTaT3OymqS",
        "outputId": "16a26968-37e7-4bf5-e0f0-8f3e3c3b401d"
      },
      "execution_count": null,
      "outputs": [
        {
          "output_type": "stream",
          "name": "stdout",
          "text": [
            "7\n",
            "22 5 648 40 334 246 97 \n",
            "9\n",
            "no\n"
          ]
        }
      ]
    },
    {
      "cell_type": "code",
      "source": [
        "#2006\n",
        "a, b, c, d, s = [int(input()) for _ in range(5)]\n",
        "\n",
        "def dist(a, b, s):\n",
        "    q, r = divmod(s, a + b)\n",
        "    res = q * (a - b) + min(r, a) - (r - a if r > a else 0)\n",
        "    return res\n",
        "\n",
        "nd = dist(a, b, s)\n",
        "bd = dist(c, d, s)\n",
        "\n",
        "print(\"Tied\" if nd == bd else \"Nikky\" if nd > bd else \"Byron\")\n"
      ],
      "metadata": {
        "colab": {
          "base_uri": "https://localhost:8080/"
        },
        "id": "MdnKMSJu0H4x",
        "outputId": "049e7bd4-9fd3-4c22-8270-2ec4a1080885"
      },
      "execution_count": null,
      "outputs": [
        {
          "output_type": "stream",
          "name": "stdout",
          "text": [
            "4\n",
            "2\n",
            "5\n",
            "3\n",
            "12\n",
            "Byron\n"
          ]
        }
      ]
    },
    {
      "cell_type": "code",
      "source": [
        "a, b = map(int, input().split())\n",
        "\n",
        "ame = 0\n",
        "\n",
        "while a >= b:\n",
        "    new_ame = a // b\n",
        "    ame += new_ame\n",
        "    a = a % b + new_ame\n",
        "\n",
        "print(ame)"
      ],
      "metadata": {
        "colab": {
          "base_uri": "https://localhost:8080/"
        },
        "id": "NpYK-0Xa2Seq",
        "outputId": "b77f1625-26e2-4f1f-a111-5ae91d1d2150"
      },
      "execution_count": null,
      "outputs": [
        {
          "output_type": "stream",
          "name": "stdout",
          "text": [
            "10 3\n",
            "4\n"
          ]
        }
      ]
    },
    {
      "cell_type": "code",
      "source": [
        "b, n = map(int, input().split())\n",
        "\n",
        "a = round(b ** (1 / n))\n",
        "\n",
        "candidates = [a, a - 1, a + 1]\n",
        "\n",
        "print(min(candidates, key=lambda x: abs(b - x ** n)))"
      ],
      "metadata": {
        "colab": {
          "base_uri": "https://localhost:8080/"
        },
        "id": "ACJkSWFA4Mga",
        "outputId": "aad8911a-edb6-4029-a3ab-2f41e38cde3e"
      },
      "execution_count": null,
      "outputs": [
        {
          "output_type": "stream",
          "name": "stdout",
          "text": [
            "1000000 9\n",
            "4\n",
            "4\n"
          ]
        }
      ]
    },
    {
      "cell_type": "code",
      "source": [
        "for star in range(1, 10):\n",
        "    for tri in range(0, 10):\n",
        "        for sqa in range(0, 10):\n",
        "            left = star * 100 + tri * 10 + sqa\n",
        "            right = star * 10 + tri\n",
        "            if left - right == sqa * 10 + sqa:\n",
        "                print(f\"{left}-{right}={sqa * 10 + sqa}\")\n"
      ],
      "metadata": {
        "colab": {
          "base_uri": "https://localhost:8080/"
        },
        "id": "dk7aUaTM8rJg",
        "outputId": "6a37caff-38dc-438d-bc8c-c4eae1396dbd"
      },
      "execution_count": null,
      "outputs": [
        {
          "output_type": "stream",
          "name": "stdout",
          "text": [
            "109 - 10 = 99\n"
          ]
        }
      ]
    },
    {
      "cell_type": "code",
      "source": [
        "#2016\n",
        "a = int(input()) // 3\n",
        "b = input()[::-1]\n",
        "\n",
        "c = [b[3*i:3*i+3] for i in range(a)]\n",
        "if b[3*a:]:\n",
        "    c.append(b[3*a:])\n",
        "\n",
        "d = ','.join([i[::-1] for i in c[::-1]])\n",
        "\n",
        "print(d)\n"
      ],
      "metadata": {
        "colab": {
          "base_uri": "https://localhost:8080/"
        },
        "id": "HA3zon1pdkCK",
        "outputId": "d287b16f-0281-4133-e6c0-ff783077765d"
      },
      "execution_count": null,
      "outputs": [
        {
          "output_type": "stream",
          "name": "stdout",
          "text": [
            "8\n",
            "12421421\n",
            "12,421,421\n"
          ]
        }
      ]
    },
    {
      "cell_type": "code",
      "source": [
        "#2020\n",
        "a = input()\n",
        "symbol = {'I':1,'V':5,'X':10,\"L\":50,'C':100, 'D':500, 'M':1000}\n",
        "\n",
        "num,mjy  = [],[]\n",
        "for i in a:\n",
        "  try:\n",
        "    num.append(int(i))\n",
        "  except:\n",
        "    mjy.append(i)\n",
        "\n",
        "b = 0\n",
        "for i in range(len(mjy)):\n",
        "    if i == len(mjy) - 1:\n",
        "        b += symbol[mjy[i]] * num[i]\n",
        "    elif symbol[mjy[i]] >= symbol[mjy[i + 1]]:\n",
        "        b += symbol[mjy[i]] * num[i]\n",
        "    else:\n",
        "        b -= symbol[mjy[i]] * num[i]\n",
        "\n",
        "print(b)"
      ],
      "metadata": {
        "colab": {
          "base_uri": "https://localhost:8080/"
        },
        "id": "mudABnB0PK6M",
        "outputId": "705ff34e-93d8-4c9e-f435-bd3f8dd74b06"
      },
      "execution_count": null,
      "outputs": [
        {
          "output_type": "stream",
          "name": "stdout",
          "text": [
            "3M1D2C\n",
            "3700\n"
          ]
        }
      ]
    },
    {
      "cell_type": "code",
      "source": [
        "#2043\n",
        "word = input()\n",
        "\n",
        "fst = word[0].upper()\n",
        "\n",
        "map = {\n",
        "    'b': '1', 'f': '1', 'p': '1', 'v': '1',\n",
        "    'c': '2', 'g': '2', 'j': '2', 'k': '2', 'q': '2', 's': '2', 'x': '2', 'z': '2',\n",
        "    'd': '3', 't': '3',\n",
        "    'l': '4',\n",
        "    'm': '5', 'n': '5',\n",
        "    'r': '6'\n",
        "}\n",
        "\n",
        "enc = []\n",
        "prev = None\n",
        "for ch in word[1:].lower():\n",
        "    if ch in \"aehiouwy\":\n",
        "        prev = None\n",
        "        continue\n",
        "    dig = map.get(ch, '')\n",
        "    if dig != prev or prev is None:\n",
        "        enc.append(dig)\n",
        "        prev = dig\n",
        "\n",
        "res = fst + ''.join(enc)\n",
        "\n",
        "print(res[:4].ljust(4, '0'))"
      ],
      "metadata": {
        "id": "_9KdML-Q8sD0",
        "colab": {
          "base_uri": "https://localhost:8080/"
        },
        "outputId": "8a49b243-c92c-45d1-cce4-7ad6172f91d1"
      },
      "execution_count": null,
      "outputs": [
        {
          "output_type": "stream",
          "name": "stdout",
          "text": [
            "Codeup\n",
            "C310\n"
          ]
        }
      ]
    },
    {
      "cell_type": "code",
      "source": [
        "a, b = map(int, input().split())\n",
        "\n",
        "for i in range(a, b+1):\n",
        "  count = sum(1 for digit in str(i) if digit in '369')\n",
        "  if count > 0:\n",
        "      print('K' * count)\n",
        "  else:\n",
        "      print(i)"
      ],
      "metadata": {
        "colab": {
          "base_uri": "https://localhost:8080/"
        },
        "id": "ec9FAyhu1YWc",
        "outputId": "69ee9d8c-a1a0-4112-c82f-8be9a27e1a04"
      },
      "execution_count": null,
      "outputs": [
        {
          "output_type": "stream",
          "name": "stdout",
          "text": [
            "3 16\n",
            "K\n",
            "4\n",
            "5\n",
            "K\n",
            "7\n",
            "8\n",
            "K\n",
            "10\n",
            "11\n",
            "12\n",
            "K\n",
            "14\n",
            "15\n",
            "K\n"
          ]
        }
      ]
    },
    {
      "cell_type": "code",
      "source": [
        "a, b = map(int, input().split())\n",
        "c = sum([1 for i in range(a, b+1) for j in range(len(str(i))) if str(i)[j] == '1'])\n",
        "print(c)"
      ],
      "metadata": {
        "colab": {
          "base_uri": "https://localhost:8080/"
        },
        "id": "O0riHrlD1YUV",
        "outputId": "030767a8-f64f-403c-da67-a9c5f786f751"
      },
      "execution_count": null,
      "outputs": [
        {
          "output_type": "stream",
          "name": "stdout",
          "text": [
            "9 13\n",
            "5\n"
          ]
        }
      ]
    },
    {
      "cell_type": "code",
      "source": [
        "from itertools import groupby\n",
        "\n",
        "def look_and_say(sequence):\n",
        "    return ''.join(str(len(list(group))) + digit for digit, group in groupby(sequence))\n",
        "\n",
        "def look_and_say_range(a, b):\n",
        "    sequence = \"1\"\n",
        "    for i in range(1, b + 1):\n",
        "        if i >= a:\n",
        "            reversed_sequence = ' '.join(sequence[::-1])\n",
        "            print(reversed_sequence)\n",
        "        sequence = look_and_say(sequence)\n",
        "    return ''\n",
        "\n",
        "a,b = map(int, input().split())\n",
        "print(look_and_say_range(a, b))\n"
      ],
      "metadata": {
        "colab": {
          "base_uri": "https://localhost:8080/"
        },
        "id": "O7zAbIYsfHtD",
        "outputId": "bf0a2e85-02a6-4291-b16f-e1abfd032fb2"
      },
      "execution_count": null,
      "outputs": [
        {
          "output_type": "stream",
          "name": "stdout",
          "text": [
            "1 6\n",
            "1\n",
            "1 1\n",
            "1 2\n",
            "1 1 2 1\n",
            "1 2 2 1 1 1\n",
            "1 1 2 2 1 3\n",
            "\n"
          ]
        }
      ]
    },
    {
      "cell_type": "code",
      "source": [
        "#2017\n",
        "def f(n, k):\n",
        "    if n == 0:\n",
        "        return\n",
        "    f(n // k, k)\n",
        "    if n % k < 10:\n",
        "        print(a[n % k], end='')\n",
        "    else:\n",
        "        print(a[n % k], end='')\n",
        "\n",
        "a = ['0', '1', '2', '3', '4', '5', '6', '7', '8', '9',\n",
        "     'A', 'B', 'C', 'D', 'E', 'F', 'G', 'H', 'I', 'J',\n",
        "     'K', 'L', 'M', 'N', 'O', 'P', 'Q', 'R', 'S', 'T',\n",
        "     'U', 'V', 'W', 'X', 'Y', 'Z']\n",
        "\n",
        "n, k = map(int, input().split())\n",
        "if n == 0:\n",
        "    print(\"0\")\n",
        "else:\n",
        "    f(n, k)"
      ],
      "metadata": {
        "id": "ITjs6AHf5okT"
      },
      "execution_count": null,
      "outputs": []
    },
    {
      "cell_type": "code",
      "source": [
        "#2019\n",
        "import math\n",
        "\n",
        "a,b,c = map(int, input().split())\n",
        "\n",
        "d = b**2 - 4*a*c\n",
        "\n",
        "if d > 0:\n",
        "    x1 = (-b + math.sqrt(d)) / (2*a)\n",
        "    x2 = (-b - math.sqrt(d)) / (2*a)\n",
        "    print(f\"{x1:.02f}\\n{x2:.02f}\")\n",
        "elif d == 0:\n",
        "    x = -b / (2*a)\n",
        "    print(f'{x:.02f}')\n",
        "else:\n",
        "    real_part = -b / (2*a)\n",
        "    imaginary_part = math.sqrt(-d) / (2*a)\n",
        "    print(f\"{real_part:.02f}+{imaginary_part*-1 if imaginary_part < 0 else imaginary_part:.02f}i\\n{real_part:.02f}-{imaginary_part*-1 if imaginary_part < 0 else imaginary_part:.02f}i\")"
      ],
      "metadata": {
        "colab": {
          "base_uri": "https://localhost:8080/"
        },
        "id": "ZDb543ibxAph",
        "outputId": "18056b63-7f2a-49d9-e3bc-bcf0618fd5d1"
      },
      "execution_count": null,
      "outputs": [
        {
          "output_type": "stream",
          "name": "stdout",
          "text": [
            "-9 -8 -4\n",
            "-0.44+0.50i\n",
            "-0.44-0.50i\n"
          ]
        }
      ]
    },
    {
      "cell_type": "code",
      "source": [
        "#2025\n",
        "\n",
        "a = input().split('/')\n",
        "c = a[1]+a[2]\n",
        "b = []\n",
        "\n",
        "a0_list = list(a[0])\n",
        "e = True\n",
        "try:\n",
        "  for i in c:\n",
        "    if i in a[0]:\n",
        "      b.append(i)\n",
        "      a0_list[a0_list.index(i)] = ''\n",
        "except:\n",
        "  print('no')\n",
        "  e = False\n",
        "\n",
        "if e and len(b) == 4:\n",
        "  print('yes')\n",
        "elif len(b) < 4 and e:\n",
        "  print('no')"
      ],
      "metadata": {
        "colab": {
          "base_uri": "https://localhost:8080/"
        },
        "id": "gxFje2xpIgaD",
        "outputId": "56ee1998-be37-43af-ab1c-5064f4bd9da1"
      },
      "execution_count": null,
      "outputs": [
        {
          "output_type": "stream",
          "name": "stdout",
          "text": [
            "1001/10/11\n",
            "no\n"
          ]
        }
      ]
    },
    {
      "cell_type": "code",
      "source": [
        "#2035\n",
        "a = int(input())\n",
        "b = list(map(int, input().split()))\n",
        "\n",
        "c = 0\n",
        "\n",
        "if b[0] == 0 and (a == 1 or b[1] == 0):\n",
        "    c += 1\n",
        "\n",
        "for i in range(1,a-1):\n",
        "  if b[i] == 1:\n",
        "    pass\n",
        "  elif b[i-1] == 0 and  b[i] == 0 and  b[i+1] == 0:\n",
        "    c+=1\n",
        "\n",
        "if b[-1] == 0 and (a == 1 or b[-2] == 0):\n",
        "    c += 1\n",
        "\n",
        "print(c if a != 1 else 1 if b[0] == 0 else 0)"
      ],
      "metadata": {
        "colab": {
          "base_uri": "https://localhost:8080/"
        },
        "id": "hEMrCWsn7xZc",
        "outputId": "9627b8b5-d607-42d8-e544-514d26babc92"
      },
      "execution_count": 58,
      "outputs": [
        {
          "output_type": "stream",
          "name": "stdout",
          "text": [
            "1 \n",
            "1\n",
            "0\n"
          ]
        }
      ]
    },
    {
      "cell_type": "code",
      "source": [
        "#2037\n",
        "\n",
        "a = int(input())\n",
        "\n",
        "b = set()\n",
        "i = a\n",
        "while True:\n",
        "  if i // a == 1:\n",
        "    b.add(i)\n",
        "  else:\n",
        "    break\n",
        "  i+=1\n",
        "\n",
        "print(b)\n"
      ],
      "metadata": {
        "colab": {
          "base_uri": "https://localhost:8080/"
        },
        "id": "U7hteLnzk8lm",
        "outputId": "e4ed9a77-561f-427d-8358-38e29f1343f8"
      },
      "execution_count": null,
      "outputs": [
        {
          "output_type": "stream",
          "name": "stdout",
          "text": [
            "8\n",
            "{8, 9, 10, 11, 12, 13, 14, 15}\n"
          ]
        }
      ]
    },
    {
      "cell_type": "code",
      "source": [
        "#2055\n",
        "\n",
        "def f(n):\n",
        "    divisors = set()\n",
        "\n",
        "    for i in range(1, int(n**0.5) + 1):\n",
        "        if n % i == 0:\n",
        "            divisors.add(i)\n",
        "            divisors.add(n // i)\n",
        "\n",
        "    return sorted(divisors)\n",
        "\n",
        "a,b = map(int, input().split())\n",
        "print(*sorted(set(f(a)+f(b))))"
      ],
      "metadata": {
        "colab": {
          "base_uri": "https://localhost:8080/"
        },
        "id": "6YdDGfl5v5hD",
        "outputId": "d9b102f6-32f6-4047-fc68-d512ab175afb"
      },
      "execution_count": null,
      "outputs": [
        {
          "output_type": "stream",
          "name": "stdout",
          "text": [
            "61 4\n",
            "1 2 4 61\n"
          ]
        }
      ]
    },
    {
      "cell_type": "code",
      "source": [
        "#2083\n",
        "a, b = map(int, input().split())\n",
        "c = list(map(int, input().split()))\n",
        "\n",
        "print(c.index(b)+1 if b in c else -1)\n",
        "\n",
        "left, right = 0, len(c) - 1\n",
        "position = -1\n",
        "\n",
        "while left <= right:\n",
        "    mid = (left + right) // 2\n",
        "    if c[mid] >= b:\n",
        "        position = mid + 1\n",
        "        right = mid - 1\n",
        "    else:\n",
        "        left = mid + 1\n",
        "\n",
        "print(position)"
      ],
      "metadata": {
        "colab": {
          "base_uri": "https://localhost:8080/"
        },
        "id": "BFPUaDeIMZwm",
        "outputId": "d08c5c46-5f43-4f6e-c1c8-a0b3a7272d5c"
      },
      "execution_count": null,
      "outputs": [
        {
          "output_type": "stream",
          "name": "stdout",
          "text": [
            "3 7\n",
            "2 3 4\n",
            "-1\n"
          ]
        }
      ]
    },
    {
      "cell_type": "code",
      "source": [
        "#2364\n",
        "n = int(input())\n",
        "print((n + 4) // 5 , 150000*(n//5))"
      ],
      "metadata": {
        "colab": {
          "base_uri": "https://localhost:8080/"
        },
        "id": "tvVlK39lkeT5",
        "outputId": "94ff4dfa-a51e-4eec-b766-95ecfee49422"
      },
      "execution_count": null,
      "outputs": [
        {
          "output_type": "stream",
          "name": "stdout",
          "text": [
            "6\n",
            "2 150000\n"
          ]
        }
      ]
    },
    {
      "cell_type": "code",
      "source": [
        "n = int(input()) * 10\n",
        "c = 0\n",
        "for i in [25, 15, 10]:\n",
        "    c += n // i\n",
        "    n %= i\n",
        "print(c+1 if n > 0 else c)"
      ],
      "metadata": {
        "id": "ho_wi4LexMK7"
      },
      "execution_count": null,
      "outputs": []
    },
    {
      "cell_type": "code",
      "source": [
        "#2379\n",
        "n = 20240\n",
        "c = 0\n",
        "for i in [25, 15, 10]:\n",
        "    c += n // i\n",
        "    n %= i\n",
        "print(c+1 if n > 0 else c)"
      ],
      "metadata": {
        "colab": {
          "base_uri": "https://localhost:8080/"
        },
        "id": "ZnfETDzqIMwR",
        "outputId": "d23bd1f8-d97f-4e72-bdd6-8eda2cc882bb"
      },
      "execution_count": null,
      "outputs": [
        {
          "output_type": "stream",
          "name": "stdout",
          "text": [
            "810\n"
          ]
        }
      ]
    },
    {
      "cell_type": "code",
      "source": [
        "#2441\n",
        "\n",
        "a = int(input())\n",
        "b = [input().split(',')[1] for i in range(a)]\n",
        "\n",
        "print(b.count('M'),b.count('F'))"
      ],
      "metadata": {
        "colab": {
          "base_uri": "https://localhost:8080/"
        },
        "id": "r8Io23PjCmj3",
        "outputId": "fdced068-31b3-473b-fe49-7f0168d78464"
      },
      "execution_count": 68,
      "outputs": [
        {
          "output_type": "stream",
          "name": "stdout",
          "text": [
            "2\n",
            "Addison,F,18,Sharon,Kimberly,Joshua\n",
            "Addison,F,18,Sharon,Kimberly,Joshua\n",
            "0 2\n"
          ]
        }
      ]
    },
    {
      "cell_type": "code",
      "source": [
        "#2602\n",
        "a = [list(map(int, input().split())) for i in range(3)]\n",
        "\n",
        "for i in range(3):\n",
        "  print(*a[i], sum(a[i]))\n",
        "  a[i].append(sum(a[i]))\n",
        "\n",
        "for i in range(4):\n",
        "  b = 0\n",
        "  for j in range(3):\n",
        "    b+=a[j][i]\n",
        "  print(b, end = ' ')\n"
      ],
      "metadata": {
        "colab": {
          "base_uri": "https://localhost:8080/"
        },
        "id": "7mK8JlyIqznD",
        "outputId": "2c02a1aa-05a5-438b-a1c4-a82e33616a8f"
      },
      "execution_count": null,
      "outputs": [
        {
          "output_type": "stream",
          "name": "stdout",
          "text": [
            "93 94 87 \n",
            "82 75 91 \n",
            "78 89 92 \n",
            "93 94 87 274\n",
            "82 75 91 248\n",
            "78 89 92 259\n",
            "253 258 270 781 "
          ]
        }
      ]
    },
    {
      "cell_type": "code",
      "source": [
        "#2603\n",
        "a = [i//10 for i in list(map(int, input().split()))]\n",
        "b = [[' ']*10 for i in range(10)]\n",
        "\n",
        "for i in range(10):\n",
        "  for j in range(9,(9-a[i]),-1):\n",
        "    b[j][i] = '#'\n",
        "\n",
        "for i in b:\n",
        "  print(*i)"
      ],
      "metadata": {
        "colab": {
          "base_uri": "https://localhost:8080/"
        },
        "id": "JDCt2HDXxj96",
        "outputId": "b6e2271b-6672-4ead-cbf3-1b7a3a932969"
      },
      "execution_count": 23,
      "outputs": [
        {
          "output_type": "stream",
          "name": "stdout",
          "text": [
            "25 20 30 40 56 79 8 15 90 52\n",
            "                   \n",
            "                #  \n",
            "                #  \n",
            "          #     #  \n",
            "          #     #  \n",
            "        # #     # #\n",
            "      # # #     # #\n",
            "    # # # #     # #\n",
            "# # # # # #     # #\n",
            "# # # # # #   # # #\n"
          ]
        }
      ]
    },
    {
      "cell_type": "code",
      "source": [
        "#2605\n",
        "def dfs(board, visited, x, y, color):\n",
        "    dx = [-1, 1, 0, 0]\n",
        "    dy = [0, 0, -1, 1]\n",
        "\n",
        "    stack = [(x, y)]\n",
        "    visited[x][y] = True\n",
        "    count = 1\n",
        "\n",
        "    while stack:\n",
        "        cx, cy = stack.pop()\n",
        "\n",
        "        for i in range(4):\n",
        "            nx, ny = cx + dx[i], cy + dy[i]\n",
        "\n",
        "            if 0 <= nx < 7 and 0 <= ny < 7 and not visited[nx][ny]:\n",
        "                if board[nx][ny] == color:\n",
        "                    visited[nx][ny] = True\n",
        "                    stack.append((nx, ny))\n",
        "                    count += 1\n",
        "\n",
        "    return count\n",
        "\n",
        "def count_touchable_areas(board):\n",
        "    visited = [[False] * 7 for _ in range(7)]\n",
        "    touchable_areas_count = 0\n",
        "\n",
        "    for i in range(7):\n",
        "        for j in range(7):\n",
        "            if not visited[i][j]:\n",
        "                connected_cells_count = dfs(board, visited, i, j, board[i][j])\n",
        "                if connected_cells_count >= 3:\n",
        "                    touchable_areas_count += 1\n",
        "\n",
        "    return touchable_areas_count\n",
        "\n",
        "board = [list(map(int, input().split())) for _ in range(7)]\n",
        "\n",
        "print(count_touchable_areas(board))"
      ],
      "metadata": {
        "colab": {
          "base_uri": "https://localhost:8080/"
        },
        "id": "02na0FsQHQ0C",
        "outputId": "09132852-baf3-4215-e74b-02602f51e7bd"
      },
      "execution_count": null,
      "outputs": [
        {
          "output_type": "stream",
          "name": "stdout",
          "text": [
            "2 1 5 1 1 3 4\n",
            "2 1 5 1 3 5 3\n",
            "2 3 4 5 2 2 4\n",
            "4 4 3 2 3 1 3\n",
            "4 3 5 3 1 4 3\n",
            "5 4 4 3 3 5 5\n",
            "2 1 3 5 1 1 2\n",
            "34\n"
          ]
        }
      ]
    },
    {
      "cell_type": "code",
      "source": [
        "#2607 에라토스테네스의 체 알고리즘\n",
        "def sieve_of_eratosthenes(limit):\n",
        "    is_prime = [True] * (limit + 1)\n",
        "    p = 2\n",
        "    while (p * p <= limit):\n",
        "        if is_prime[p]:\n",
        "            for i in range(p * p, limit + 1, p):\n",
        "                is_prime[i] = False\n",
        "        p += 1\n",
        "    return is_prime\n",
        "\n",
        "def find_twin_primes(a, b):\n",
        "    primes = sieve_of_eratosthenes(b)\n",
        "    twin_primes = []\n",
        "\n",
        "    for i in range(a, b - 1):\n",
        "        if primes[i] and primes[i + 2]:\n",
        "            twin_primes.append((i, i + 2))\n",
        "\n",
        "    return twin_primes\n",
        "\n",
        "a, b = map(int, input().split())\n",
        "\n",
        "twin_primes = find_twin_primes(a, b)\n",
        "\n",
        "for tp in twin_primes:\n",
        "    print(tp[0], tp[1])"
      ],
      "metadata": {
        "colab": {
          "base_uri": "https://localhost:8080/"
        },
        "id": "8x3J_gpwgZrH",
        "outputId": "0b596e79-7717-4c69-bc68-bab057fc7ce5"
      },
      "execution_count": null,
      "outputs": [
        {
          "output_type": "stream",
          "name": "stdout",
          "text": [
            "2 20\n",
            "3 5\n",
            "5 7\n",
            "11 13\n",
            "17 19\n"
          ]
        }
      ]
    },
    {
      "cell_type": "code",
      "source": [
        "#2608 백트래킹\n",
        "def generate_votes(n, current_vote=\"\"):\n",
        "    if len(current_vote) == n:\n",
        "        print(current_vote)\n",
        "        return\n",
        "\n",
        "    generate_votes(n, current_vote + \"O\")\n",
        "\n",
        "    generate_votes(n, current_vote + \"X\")\n",
        "\n",
        "\n",
        "n = int(input())\n",
        "generate_votes(n)"
      ],
      "metadata": {
        "id": "Ua6Wfc2GMvxH"
      },
      "execution_count": null,
      "outputs": []
    },
    {
      "cell_type": "code",
      "source": [
        "#2621\n",
        "a =int(input())\n",
        "print(sum([i for i in range(1,a+1) if a % i ==0]))"
      ],
      "metadata": {
        "colab": {
          "base_uri": "https://localhost:8080/"
        },
        "id": "gzmM9RH_imzM",
        "outputId": "22c70b16-3d29-47b1-d6a8-3ca365df9adc"
      },
      "execution_count": null,
      "outputs": [
        {
          "output_type": "stream",
          "name": "stdout",
          "text": [
            "10\n",
            "18\n"
          ]
        }
      ]
    },
    {
      "cell_type": "code",
      "source": [
        "#2622\n",
        "a = input()\n",
        "b = list(enumerate(map(int,input().split())))\n",
        "c , d = min(b,key = lambda x : x [1]), max(b,key = lambda x : x [1])\n",
        "\n",
        "print(d[0]+1,':',d[1])\n",
        "print(c[0]+1,':',c[1])"
      ],
      "metadata": {
        "colab": {
          "base_uri": "https://localhost:8080/"
        },
        "id": "HEWcp4ske_NX",
        "outputId": "90205030-73a5-4887-916c-c79c53cbb1c0"
      },
      "execution_count": null,
      "outputs": [
        {
          "output_type": "stream",
          "name": "stdout",
          "text": [
            "3\n",
            "100 36 55\n",
            "2 36\n",
            "1 100\n"
          ]
        }
      ]
    },
    {
      "cell_type": "code",
      "source": [
        "#2624\n",
        "limit = int(input())\n",
        "\n",
        "is_prime = [True] * (limit + 1)\n",
        "p = 2\n",
        "while (p * p <= limit):\n",
        "    if is_prime[p]:\n",
        "        for i in range(p * p, limit + 1, p):\n",
        "            is_prime[i] = False\n",
        "    p += 1\n",
        "\n",
        "primes = is_prime\n",
        "twin_primes = []\n",
        "\n",
        "for i in range(2, limit+1):\n",
        "    if primes[i]:\n",
        "        twin_primes.append(i)\n",
        "\n",
        "print(sum(twin_primes))"
      ],
      "metadata": {
        "colab": {
          "base_uri": "https://localhost:8080/"
        },
        "id": "UP5P8voWhO1a",
        "outputId": "4281f9e0-e2f5-4230-9969-1a504b84fb87"
      },
      "execution_count": null,
      "outputs": [
        {
          "output_type": "stream",
          "name": "stdout",
          "text": [
            "10\n",
            "17\n"
          ]
        }
      ]
    },
    {
      "cell_type": "code",
      "source": [
        "#2628\n",
        "\n",
        "def is_between(x, a, b):\n",
        "    if a < b:\n",
        "        return a < x < b\n",
        "    else:\n",
        "        return a < x or x < b\n",
        "\n",
        "A, B = map(int, input().split())\n",
        "C, D = map(int, input().split())\n",
        "\n",
        "e = False\n",
        "if (is_between(C, A, B) != is_between(D, A, B)) and (is_between(A, C, D) != is_between(B, C, D)):\n",
        "    e = True\n",
        "\n",
        "print('cross' if e else 'not cross')\n"
      ],
      "metadata": {
        "colab": {
          "base_uri": "https://localhost:8080/"
        },
        "id": "eA2BpyiwaJjz",
        "outputId": "a6368534-3ea3-4b18-dd29-1b334e62e28a"
      },
      "execution_count": null,
      "outputs": [
        {
          "output_type": "stream",
          "name": "stdout",
          "text": [
            "12 53\n",
            "99 45\n",
            "cross\n"
          ]
        }
      ]
    },
    {
      "cell_type": "code",
      "source": [
        "#2632\n",
        "def count_ways(n, current):\n",
        "    if current > n:\n",
        "        return 0\n",
        "\n",
        "    if current == n: #만약 더한게 n과 같다면 +1\n",
        "        return 1\n",
        "\n",
        "    ways = 0\n",
        "\n",
        "    ways += count_ways(n, current + 1) #경우의수\n",
        "\n",
        "    ways += count_ways(n, current + 2) # 경우의수 1과 2로 만들수 있는 n\n",
        "\n",
        "    return ways\n",
        "\n",
        "\n",
        "n = int(input())\n",
        "result = count_ways(n, 0)\n",
        "print(result)"
      ],
      "metadata": {
        "colab": {
          "base_uri": "https://localhost:8080/"
        },
        "id": "krGa8TYV4iR5",
        "outputId": "b852e07b-4cd1-4b06-f73a-55d3f82c1325"
      },
      "execution_count": null,
      "outputs": [
        {
          "output_type": "stream",
          "name": "stdout",
          "text": [
            "3\n",
            "3\n"
          ]
        }
      ]
    },
    {
      "cell_type": "code",
      "source": [
        "#2640\n",
        "a,b = map(int, input().split())\n",
        "print(pow(a,b,1000000007))"
      ],
      "metadata": {
        "colab": {
          "base_uri": "https://localhost:8080/"
        },
        "id": "mpjFPyBAnGwq",
        "outputId": "df710a89-0264-41d3-e736-aeb54cd7ae27"
      },
      "execution_count": null,
      "outputs": [
        {
          "output_type": "stream",
          "name": "stdout",
          "text": [
            "4 2\n",
            "16\n"
          ]
        }
      ]
    },
    {
      "cell_type": "code",
      "source": [
        "#2641 백트래킹(Backtracking)은 가능한 모든 해를 탐색하는 알고리즘\n",
        "def count_ways(n, current, consecutive_three_steps):\n",
        "    if current > n:\n",
        "        return 0\n",
        "\n",
        "    if current == n:\n",
        "        return 1\n",
        "\n",
        "    ways = 0\n",
        "\n",
        "    ways += count_ways(n, current + 1, max(0, consecutive_three_steps - 1))\n",
        "\n",
        "    ways += count_ways(n, current + 2, max(0, consecutive_three_steps - 1))\n",
        "\n",
        "    if consecutive_three_steps == 0:\n",
        "        ways += count_ways(n, current + 3, 2)\n",
        "\n",
        "    return ways\n",
        "\n",
        "\n",
        "n = int(input())\n",
        "result = count_ways(n, 0, 0)\n",
        "print(result)"
      ],
      "metadata": {
        "colab": {
          "base_uri": "https://localhost:8080/"
        },
        "id": "HNl7MBELO4bV",
        "outputId": "e6a975a6-5b1a-4e06-da24-9d57106611a7"
      },
      "execution_count": null,
      "outputs": [
        {
          "output_type": "stream",
          "name": "stdout",
          "text": [
            "4\n",
            "7\n"
          ]
        }
      ]
    },
    {
      "cell_type": "code",
      "source": [
        "#2651\n",
        "def count_seating_arrangements(n, k, start, chosen):\n",
        "\n",
        "    if len(chosen) == k:\n",
        "        return 1\n",
        "\n",
        "    count = 0\n",
        "\n",
        "    for i in range(start, n):\n",
        "\n",
        "        chosen.append(i)\n",
        "\n",
        "        count += count_seating_arrangements(n, k, i + 1, chosen)\n",
        "\n",
        "        chosen.pop()\n",
        "\n",
        "    return count\n",
        "\n",
        "n, k = map(int, input().split())\n",
        "result = count_seating_arrangements(n, k, 0, [])\n",
        "print(result)"
      ],
      "metadata": {
        "colab": {
          "base_uri": "https://localhost:8080/"
        },
        "id": "gxZr78VBPx3U",
        "outputId": "4f5e86e8-fe8e-4a80-f012-af0ab41e0f14"
      },
      "execution_count": null,
      "outputs": [
        {
          "output_type": "stream",
          "name": "stdout",
          "text": [
            "4 2\n",
            "3\n"
          ]
        }
      ]
    },
    {
      "cell_type": "code",
      "source": [
        "#2652\n",
        "def count_seating_arrangements(n, k, start, chosen):\n",
        "\n",
        "    if len(chosen) == k:\n",
        "        return 1\n",
        "\n",
        "    count = 0\n",
        "\n",
        "    for i in range(start, n):\n",
        "        if (i in chosen) or (i-1 in chosen) or (i+1 in chosen):\n",
        "          continue\n",
        "\n",
        "        chosen.append(i)\n",
        "\n",
        "        count += count_seating_arrangements(n, k, i + 1, chosen)\n",
        "\n",
        "        chosen.pop() #다른거 탐색\n",
        "\n",
        "    return count\n",
        "\n",
        "n, k = map(int, input().split())\n",
        "result = count_seating_arrangements(n, k, 0, [])\n",
        "print(result)"
      ],
      "metadata": {
        "id": "CMos7ZFJVBj1"
      },
      "execution_count": null,
      "outputs": []
    },
    {
      "cell_type": "code",
      "source": [
        "#2624 해결 실패!\n",
        "a = int(input())\n"
      ],
      "metadata": {
        "colab": {
          "base_uri": "https://localhost:8080/"
        },
        "id": "zTgzQpYAo00O",
        "outputId": "91fd6f1e-d160-458d-c56d-741407f89358"
      },
      "execution_count": null,
      "outputs": [
        {
          "output_type": "stream",
          "name": "stdout",
          "text": [
            "10\n",
            "17\n"
          ]
        },
        {
          "output_type": "execute_result",
          "data": {
            "text/plain": [
              "[0, 2, 3, 6, 5, 11, 7, 14, 12, 17]"
            ]
          },
          "metadata": {},
          "execution_count": 120
        }
      ]
    },
    {
      "cell_type": "code",
      "source": [
        "#2625\n",
        "a = int(input())\n",
        "b = []\n",
        "for i in range(1, a // 2 + 1):\n",
        "    for j in range(1, a // 2 + 1):\n",
        "        for k in range(1, a // 2 + 1):\n",
        "            if i + j + k == a:\n",
        "                triplet = sorted((i, j, k))\n",
        "                if triplet not in b:\n",
        "                    b.append(triplet)\n",
        "\n",
        "print(len(b)) #실패! 예상 for문 범위\n",
        "\n",
        "#########################GPT\n",
        "\n",
        "n = int(input())\n",
        "count = 0\n",
        "\n",
        "for i in range(1, n // 2 + 1):\n",
        "    for j in range(i, n // 2 + 1):\n",
        "        k = n - i - j\n",
        "        if k >= j and i + j > k: #k >= j 중복된 삼각형 피기\n",
        "            count += 1\n",
        "\n",
        "print(count)\n"
      ],
      "metadata": {
        "colab": {
          "base_uri": "https://localhost:8080/"
        },
        "id": "Nfl1nxvvJfrM",
        "outputId": "ae74f9f3-6b4f-48f3-ba4e-f81ecb489d9c"
      },
      "execution_count": null,
      "outputs": [
        {
          "output_type": "stream",
          "name": "stdout",
          "text": [
            "78\n",
            "127\n"
          ]
        }
      ]
    },
    {
      "cell_type": "code",
      "source": [
        "#2633\n",
        "def find_first_position(nums, k):\n",
        "    left, right = 0, len(nums) - 1\n",
        "    position = len(nums) + 1\n",
        "\n",
        "    while left <= right:\n",
        "        mid = (left + right) // 2\n",
        "        if nums[mid] >= k:\n",
        "            position = mid + 1\n",
        "            right = mid - 1\n",
        "        else:\n",
        "            left = mid + 1\n",
        "\n",
        "    return position\n",
        "\n",
        "n, k = map(int, input().split())\n",
        "nums = list(map(int, input().split()))\n",
        "result = find_first_position(nums, k)\n",
        "print(result)"
      ],
      "metadata": {
        "colab": {
          "base_uri": "https://localhost:8080/"
        },
        "id": "jibBzupyZyYv",
        "outputId": "67c34172-e392-4f42-e76b-2b160aef64ba"
      },
      "execution_count": null,
      "outputs": [
        {
          "output_type": "stream",
          "name": "stdout",
          "text": [
            "5 7\n",
            "1 3 5 7 7\n",
            "4\n"
          ]
        }
      ]
    },
    {
      "cell_type": "code",
      "source": [
        "#2650\n",
        "a = sorted(list(map(int, input().split())))\n",
        "b = [i for i in range(a[0]+1, 0, -1) if a[0] % i == 0]\n",
        "for i in b:\n",
        "  if a[1]%i == 0 and a[2]%i==0:\n",
        "    print(i)\n",
        "    break\n"
      ],
      "metadata": {
        "colab": {
          "base_uri": "https://localhost:8080/"
        },
        "id": "3oxiiqav_Cn2",
        "outputId": "54555d7c-c40e-428e-ccd7-4f830d5469ad"
      },
      "execution_count": null,
      "outputs": [
        {
          "output_type": "stream",
          "name": "stdout",
          "text": [
            "10 20 30\n",
            "10\n"
          ]
        }
      ]
    },
    {
      "cell_type": "code",
      "source": [
        "#2653\n",
        "\n",
        "def generate_votes(n, current_vote=\"\", b=None):\n",
        "    if b is None:\n",
        "        b = []\n",
        "\n",
        "    if len(current_vote) == n:\n",
        "        b.append(current_vote)\n",
        "        return b\n",
        "\n",
        "    generate_votes(n, current_vote + \"O\", b)\n",
        "    generate_votes(n, current_vote + \"X\", b)\n",
        "\n",
        "    return b\n",
        "\n",
        "\n",
        "n = int(input())\n",
        "a = generate_votes(n)\n",
        "c = []\n",
        "for i in a:\n",
        "  if 'OO' not in i:\n",
        "     c.append(i)\n",
        "\n",
        "print(len(c))"
      ],
      "metadata": {
        "colab": {
          "base_uri": "https://localhost:8080/"
        },
        "id": "1vd1CP_z-zHT",
        "outputId": "bd7e9979-9441-4ab5-8adf-66b4bf314f45"
      },
      "execution_count": null,
      "outputs": [
        {
          "output_type": "stream",
          "name": "stdout",
          "text": [
            "3\n",
            "['OXO', 'OXX', 'XOX', 'XXO', 'XXX']\n"
          ]
        }
      ]
    },
    {
      "cell_type": "code",
      "source": [
        "#2655\n",
        "def binary_search(arr, target):\n",
        "    left, right = 0, len(arr) - 1\n",
        "\n",
        "    while left <= right:\n",
        "        mid = (left + right) // 2\n",
        "\n",
        "        if arr[mid] == target:\n",
        "            return mid+1\n",
        "        elif arr[mid] < target:\n",
        "            left = mid + 1\n",
        "        else:\n",
        "            right = mid - 1\n",
        "\n",
        "    return -1\n",
        "\n",
        "a,b = map(int, input().split())\n",
        "print(f'{(b *-1)/a:.04f}')"
      ],
      "metadata": {
        "colab": {
          "base_uri": "https://localhost:8080/"
        },
        "id": "4sAwHVVvVy3b",
        "outputId": "aa37eccf-21de-4855-c473-e9fb45d21383"
      },
      "execution_count": null,
      "outputs": [
        {
          "output_type": "stream",
          "name": "stdout",
          "text": [
            "1 5\n",
            "-5.0000\n"
          ]
        }
      ]
    },
    {
      "cell_type": "code",
      "source": [
        "def find_x_intercept(a, b):\n",
        "    left = -999\n",
        "    right = 999\n",
        "    epsilon = 1e-9\n",
        "\n",
        "    while right - left > epsilon:\n",
        "        mid = (left + right) / 2.0\n",
        "        y = a * mid + b\n",
        "\n",
        "        if abs(y) < epsilon:\n",
        "            return mid\n",
        "\n",
        "        if y > 0:\n",
        "            right = mid\n",
        "        else:\n",
        "            left = mid\n",
        "\n",
        "    return (left + right) / 2.0\n",
        "\n",
        "a,b = map(int,input().split())\n",
        "print(f'{find_x_intercept(a,b,list(range(-b,b+1))):.04f}')"
      ],
      "metadata": {
        "id": "mMAZNIZhVy0o"
      },
      "execution_count": null,
      "outputs": []
    },
    {
      "cell_type": "code",
      "source": [
        "#2701\n",
        "\n",
        "a = int(input())\n",
        "b = sorted(list(map(int, input().split())))\n",
        "\n",
        "c = 501\n",
        "for i in b:\n",
        "  c = abs(a-i) if abs(a-i) < c else c\n",
        "\n",
        "print(c)"
      ],
      "metadata": {
        "colab": {
          "base_uri": "https://localhost:8080/"
        },
        "id": "LSQbdu7YqacC",
        "outputId": "75b26b29-97ba-42de-98d3-6fbf8306b206"
      },
      "execution_count": 46,
      "outputs": [
        {
          "output_type": "stream",
          "name": "stdout",
          "text": [
            "437\n",
            "5 21 168 202 227\n",
            "210\n"
          ]
        }
      ]
    },
    {
      "cell_type": "code",
      "source": [
        "#2703\n",
        "\n",
        "a = int(input())\n",
        "b = list(map(int,input().split()))\n",
        "\n",
        "c,d = 0,0\n",
        "for i in range(1,a):\n",
        "  if b[i-1] < b[i]:\n",
        "    c += 1\n",
        "  elif b[i-1] > b[i]:\n",
        "    d += 1\n",
        "\n",
        "print(c, d)"
      ],
      "metadata": {
        "colab": {
          "base_uri": "https://localhost:8080/"
        },
        "id": "QWYCIPA33gHf",
        "outputId": "4ec7a2d0-747e-4c56-d3fb-cd6c6bdde6d9"
      },
      "execution_count": 49,
      "outputs": [
        {
          "output_type": "stream",
          "name": "stdout",
          "text": [
            "5\n",
            "3 7 5 5 6 \n",
            "2 1\n"
          ]
        }
      ]
    },
    {
      "cell_type": "code",
      "source": [
        "#2733\n",
        "\n",
        "def tomato_game(sequence):\n",
        "    expected_sequence = ['t', 'm', 't', 't', 'm', 't']\n",
        "    expected_index = 0\n",
        "\n",
        "    for i, char in enumerate(sequence):\n",
        "        if char != expected_sequence[expected_index]:\n",
        "            if i % 2 == 0:\n",
        "                return \"현지인 승리\"\n",
        "            else:\n",
        "                return \"효환이 승리\"\n",
        "\n",
        "        expected_index = (expected_index + 1) % 6\n",
        "\n",
        "    return \"현지인 승리\"\n",
        "\n",
        "sequence = input().strip()\n",
        "print(tomato_game(sequence))"
      ],
      "metadata": {
        "colab": {
          "base_uri": "https://localhost:8080/"
        },
        "id": "WQswsW0ZP5CS",
        "outputId": "f921f96c-3909-4dd6-fca7-678ddd7ac688"
      },
      "execution_count": null,
      "outputs": [
        {
          "output_type": "stream",
          "name": "stdout",
          "text": [
            "tmttmttt\n",
            "효환 승리\n"
          ]
        }
      ]
    },
    {
      "cell_type": "code",
      "source": [
        "#2733 오각형의 점의수 구하기\n",
        "# 점화식  5 + (n * (n - 1) // 2) * 3 + (n - 1) * 4\n",
        "n = int(input())\n",
        "print(( 5 + (n * (n - 1) // 2) * 3 + (n - 1) * 4)%1000000004)\n"
      ],
      "metadata": {
        "colab": {
          "base_uri": "https://localhost:8080/"
        },
        "id": "19K0Uy_vPfWY",
        "outputId": "ce1293f7-4fab-48d2-f454-1b1c862cdde2"
      },
      "execution_count": null,
      "outputs": [
        {
          "output_type": "stream",
          "name": "stdout",
          "text": [
            "3\n",
            "22\n"
          ]
        }
      ]
    },
    {
      "cell_type": "code",
      "source": [
        "#2761\n",
        "a,b = map(int, input().split())\n",
        "print(sorted([a+b,a-b,a*b])[1])"
      ],
      "metadata": {
        "colab": {
          "base_uri": "https://localhost:8080/"
        },
        "id": "ijvB21xiHBU1",
        "outputId": "e3c0ffd1-4224-4792-ecf7-f9f74e184b4e"
      },
      "execution_count": null,
      "outputs": [
        {
          "output_type": "stream",
          "name": "stdout",
          "text": [
            "5 2\n",
            "7\n"
          ]
        }
      ]
    },
    {
      "cell_type": "code",
      "source": [
        "#2762\n",
        "\n",
        "a = input().split(',')\n",
        "\n",
        "for i in a:\n",
        "  print(i[0], end = '')"
      ],
      "metadata": {
        "colab": {
          "base_uri": "https://localhost:8080/"
        },
        "id": "aa4mtp_Db-oB",
        "outputId": "dfdd33b9-4e35-4d71-ab21-308e31b800a7"
      },
      "execution_count": null,
      "outputs": [
        {
          "output_type": "stream",
          "name": "stdout",
          "text": [
            "Changwon,Science,High,School\n",
            "CSHS"
          ]
        }
      ]
    },
    {
      "cell_type": "code",
      "source": [
        "#2763\n",
        "\n",
        "a,b = map(int, input().split())\n",
        "\n",
        "f_list = [ i for i in range(1, a+1) if  a % i == 0]\n",
        "sls = [i for i in f_list if b % i == 0]\n",
        "\n",
        "print('coprime' if len(sls) == 1  else 'no')\n",
        "\n",
        "\n",
        "\n",
        "\n"
      ],
      "metadata": {
        "colab": {
          "base_uri": "https://localhost:8080/"
        },
        "id": "He7wf39j0oLz",
        "outputId": "ce6db4fc-0058-479d-c151-bfe0709bc48c"
      },
      "execution_count": null,
      "outputs": [
        {
          "output_type": "stream",
          "name": "stdout",
          "text": [
            "8 11\n",
            "coprime\n"
          ]
        }
      ]
    },
    {
      "cell_type": "code",
      "source": [
        "a,b = map(int, input().split())\n",
        "\n",
        "f_list = [ i for i in range(1, a+1) if  a % i == 0]\n",
        "\n"
      ],
      "metadata": {
        "id": "KnlOIhS52azN"
      },
      "execution_count": null,
      "outputs": []
    },
    {
      "cell_type": "code",
      "source": [
        "#2764\n",
        "a = list(input())\n",
        "\n",
        "for i in range(len(a)*2+1):\n",
        "  print('+' if i % 2 == 0 else '-',end = '')\n",
        "\n",
        "print(f\"\\n|{'|'.join(a)}|\")\n",
        "\n",
        "for i in range(len(a)*2+1):\n",
        "  print('+' if i % 2 == 0 else '-',end = '')\n",
        "\n"
      ],
      "metadata": {
        "colab": {
          "base_uri": "https://localhost:8080/"
        },
        "id": "1phImXX3TZdu",
        "outputId": "4393e745-e998-44db-e69e-fc9b46f93469"
      },
      "execution_count": null,
      "outputs": [
        {
          "output_type": "stream",
          "name": "stdout",
          "text": [
            " 가나다라마바사아자차카타파하훈민정음만만세세종대왕만만세\n",
            "+-+-+-+-+-+-+-+-+-+-+-+-+-+-+-+-+-+-+-+-+-+-+-+-+-+-+-+-+-+\n",
            "| |가|나|다|라|마|바|사|아|자|차|카|타|파|하|훈|민|정|음|만|만|세|세|종|대|왕|만|만|세|\n",
            "+-+-+-+-+-+-+-+-+-+-+-+-+-+-+-+-+-+-+-+-+-+-+-+-+-+-+-+-+-+"
          ]
        }
      ]
    },
    {
      "cell_type": "code",
      "source": [
        "#2769\n",
        "a,b,c = map(int, input().split())\n",
        "\n",
        "print(min(a//2,b,(a+b-c)//3))"
      ],
      "metadata": {
        "colab": {
          "base_uri": "https://localhost:8080/"
        },
        "id": "c5SyCQocdO6s",
        "outputId": "172e3ad5-946e-43c4-826e-a5ed09b76db5"
      },
      "execution_count": 45,
      "outputs": [
        {
          "output_type": "stream",
          "name": "stdout",
          "text": [
            "6 10 3\n",
            "3\n"
          ]
        }
      ]
    },
    {
      "cell_type": "code",
      "source": [],
      "metadata": {
        "colab": {
          "base_uri": "https://localhost:8080/"
        },
        "id": "E7dNIOun2gkI",
        "outputId": "2d6955e1-f188-4202-d33c-1927258a64ce"
      },
      "execution_count": 47,
      "outputs": [
        {
          "output_type": "execute_result",
          "data": {
            "text/plain": [
              "4.333333333333333"
            ]
          },
          "metadata": {},
          "execution_count": 47
        }
      ]
    },
    {
      "cell_type": "code",
      "source": [
        "#2770\n",
        "def m(n, s):\n",
        "    o = s.count(1)\n",
        "    t = n - o # 전체중에서 차지하는 2의 개수\n",
        "    c = min(o, t) #누가더 적나\n",
        "    l1 = 0\n",
        "    l2 = 0\n",
        "\n",
        "    for i in range(n):\n",
        "        if s[i] == 1:\n",
        "            l1 += 1\n",
        "        else:\n",
        "            l2 += 1\n",
        "        ch = (l2) + (o - l1)\n",
        "        c = min(c, ch)\n",
        "\n",
        "    return c\n",
        "\n",
        "n = int(input())\n",
        "s = [int(input()) for _ in range(n)]\n",
        "print(m(n, s))\n",
        "\n"
      ],
      "metadata": {
        "id": "tJPPW5grP2g2"
      },
      "execution_count": null,
      "outputs": []
    },
    {
      "cell_type": "code",
      "source": [
        "#2771 탐색 알고리즘 우,하 탐색\n",
        "\n",
        "def count_paths(grid):\n",
        "    n = len(grid)\n",
        "    dp = [[0] * n for _ in range(n)]\n",
        "    dp[0][0] = 1\n",
        "\n",
        "    for i in range(n):\n",
        "        for j in range(n):\n",
        "            if dp[i][j] > 0 and grid[i][j] > 0:\n",
        "                steps = grid[i][j]\n",
        "                if i + steps < n:\n",
        "                    dp[i + steps][j] += dp[i][j]\n",
        "                if j + steps < n:\n",
        "                    dp[i][j + steps] += dp[i][j]\n",
        "\n",
        "    return dp[n-1][n-1]\n",
        "\n",
        "N = int(input())\n",
        "grid = [list(map(int, input().split())) for i in range(N)]\n",
        "\n",
        "print(count_paths(grid))\n"
      ],
      "metadata": {
        "colab": {
          "base_uri": "https://localhost:8080/"
        },
        "id": "PlaWLwwdMPIp",
        "outputId": "c17e54fb-b2f0-40ad-e362-302ed3d5d4aa"
      },
      "execution_count": 2,
      "outputs": [
        {
          "output_type": "stream",
          "name": "stdout",
          "text": [
            "4\n",
            "2 3 3 1\n",
            "1 2 1 3\n",
            "1 2 3 1\n",
            "3 1 1 0\n",
            "3\n"
          ]
        }
      ]
    },
    {
      "cell_type": "code",
      "source": [
        "#2793\n",
        "n = int(input())\n",
        "tasks = [tuple(map(int, input().split())) for _ in range(n)]\n",
        "\n",
        "tasks.sort(key=lambda x: x[1], reverse=True)\n",
        "\n",
        "latest_start = float('inf')\n",
        "\n",
        "for start, end in tasks:\n",
        "    if latest_start > end:\n",
        "        latest_start = end\n",
        "    latest_start -= 1\n",
        "\n",
        "print(latest_start+1)"
      ],
      "metadata": {
        "colab": {
          "base_uri": "https://localhost:8080/"
        },
        "id": "GmnJ-Gpm3uw-",
        "outputId": "a38afb4c-6fb2-45b1-aa9b-342ff8187aed"
      },
      "execution_count": null,
      "outputs": [
        {
          "output_type": "stream",
          "name": "stdout",
          "text": [
            "4\n",
            "6 7\n",
            "1 4\n",
            "5 5\n",
            "2 6\n",
            "4\n"
          ]
        }
      ]
    },
    {
      "cell_type": "code",
      "source": [
        "#2801\n",
        "const_a = int(input()) * 1130\n",
        "print(const_a )"
      ],
      "metadata": {
        "id": "SasB0VyGJ80r"
      },
      "execution_count": null,
      "outputs": []
    },
    {
      "cell_type": "code",
      "source": [
        "#2802\n",
        "a,b = map(int, input().split())\n",
        "print(a*b)"
      ],
      "metadata": {
        "id": "rfiOf2jdKQ4z"
      },
      "execution_count": null,
      "outputs": []
    },
    {
      "cell_type": "code",
      "source": [
        "#2803 캬 지기네\n",
        "import math\n",
        "\n",
        "a,b,c = map(int, input().split())\n",
        "x,y,z = map(int, input().split())\n",
        "\n",
        "ucle = math.sqrt((a - x)**2 + (b - y)**2)\n",
        "\n",
        "if ucle - (c+z) == 0 or ucle - (c+z) < 0:\n",
        "  print('overlapped')\n",
        "else:\n",
        "  print('not overlapped')"
      ],
      "metadata": {
        "colab": {
          "base_uri": "https://localhost:8080/"
        },
        "id": "-xYBW_jTVJsR",
        "outputId": "334f2877-b612-4eda-8399-a79f78b39aa1"
      },
      "execution_count": 63,
      "outputs": [
        {
          "output_type": "stream",
          "name": "stdout",
          "text": [
            "1 1 1\n",
            "3 3 2\n",
            "overlapped\n"
          ]
        }
      ]
    },
    {
      "cell_type": "code",
      "source": [
        "#3001\n",
        "a = input()\n",
        "b = list(map(int, input().split()))\n",
        "c = int(input())\n",
        "print(b.index(c)+1 if c in b else -1)"
      ],
      "metadata": {
        "colab": {
          "base_uri": "https://localhost:8080/"
        },
        "id": "z7X9QgQXt5pv",
        "outputId": "c116f4c4-5302-4f29-f7e2-e92c9c93dd65"
      },
      "execution_count": null,
      "outputs": [
        {
          "output_type": "stream",
          "name": "stdout",
          "text": [
            "10\n",
            "2 3 7 4 9 10 223 111 23 39\n",
            "111\n",
            "7\n"
          ]
        }
      ]
    },
    {
      "cell_type": "code",
      "source": [
        "#3002\n",
        "def binary_search(arr, target):\n",
        "    left, right = 0, len(arr) - 1\n",
        "\n",
        "    while left <= right:\n",
        "        mid = (left + right) // 2\n",
        "\n",
        "        if arr[mid] == target:\n",
        "            return mid+1\n",
        "        elif arr[mid] < target:\n",
        "            left = mid + 1\n",
        "        else:\n",
        "            right = mid - 1\n",
        "\n",
        "    return -1\n",
        "\n",
        "\n",
        "a = int(input())\n",
        "b = list(map(int, input().split()))\n",
        "c = int(input())\n",
        "d = list(map(int, input().split()))\n",
        "\n",
        "for i in d:\n",
        "  print(binary_search(b,i), end = ' ')"
      ],
      "metadata": {
        "colab": {
          "base_uri": "https://localhost:8080/"
        },
        "id": "p8kFaBVDudRs",
        "outputId": "f62924c1-29cf-4d76-c3a8-88149e0a64d8"
      },
      "execution_count": null,
      "outputs": [
        {
          "output_type": "stream",
          "name": "stdout",
          "text": [
            "5\n",
            "2 23 55 87 100\n",
            "4\n",
            "5 2 100 55\n",
            "-1\n",
            "0\n",
            "4\n",
            "2\n"
          ]
        }
      ]
    },
    {
      "cell_type": "code",
      "source": [
        "#3003\n",
        "#include <iostream>\n",
        "#include <vector>\n",
        "\n",
        "# using namespace std;\n",
        "\n",
        "# int main() {\n",
        "#     ios_base::sync_with_stdio(false);\n",
        "#     cin.tie(NULL);\n",
        "\n",
        "#     int num;\n",
        "#     vector<int> numbers;\n",
        "#     int count = 0;\n",
        "\n",
        "#     while (cin >> num) {\n",
        "#         count++;\n",
        "#         if (count % 50 == 0) {\n",
        "#             cout << num << ' ';\n",
        "#         }\n",
        "#     }\n",
        "\n",
        "#     cout << '\\n';\n",
        "#     return 0;\n",
        "# }\n"
      ],
      "metadata": {
        "id": "xNg2jeVVSMQS"
      },
      "execution_count": null,
      "outputs": []
    },
    {
      "cell_type": "code",
      "source": [
        "#3004\n",
        "a = input()\n",
        "b = list(map(int, input().split()))\n",
        "c = dict((j, i) for i, j in enumerate(sorted(b)))\n",
        "print(*[c[i] for i in b])"
      ],
      "metadata": {
        "colab": {
          "base_uri": "https://localhost:8080/"
        },
        "id": "SV6_tRSXKhCX",
        "outputId": "95953d2f-baaa-4079-e919-74016f1d9748"
      },
      "execution_count": null,
      "outputs": [
        {
          "output_type": "stream",
          "name": "stdout",
          "text": [
            "5\n",
            "50 23 54 24 123 \n",
            "2 0 3 1 4\n"
          ]
        }
      ]
    },
    {
      "cell_type": "code",
      "source": [
        "#3005\n",
        "import math\n",
        "from functools import reduce\n",
        "\n",
        "def lcm(a, b):\n",
        "    return abs(a * b) // math.gcd(a, b)\n",
        "\n",
        "def lcm_multiple(numbers):\n",
        "    return reduce(lcm, numbers)\n",
        "\n",
        "n = int(input())\n",
        "numbers = list(map(int, input().split()))\n",
        "\n",
        "result = lcm_multiple(numbers)\n",
        "print(result)"
      ],
      "metadata": {
        "colab": {
          "base_uri": "https://localhost:8080/"
        },
        "id": "ZapatZf6MNBP",
        "outputId": "800a4072-051f-401b-9c13-ea88900fde07"
      },
      "execution_count": 61,
      "outputs": [
        {
          "output_type": "stream",
          "name": "stdout",
          "text": [
            "42\n",
            "12 11 5 6 5 7 7 11 9 6 6 2 4 2 12 8 3 4 1 4 1 3 10 5 11 10 9 3 12 12 7 12 7 10 5 12 8 8 7 12 4 3 \n",
            "27720\n"
          ]
        }
      ]
    },
    {
      "cell_type": "code",
      "source": [
        "#reduce 예시\n",
        "def lcm(a, b):\n",
        "    return a+b\n",
        "\n",
        "def lcm_multiple(numbers):\n",
        "    return reduce(lcm, numbers)\n",
        "\n",
        "numbers = list(map(int, input().split()))\n",
        "\n",
        "result = lcm_multiple(numbers)\n",
        "print(result)"
      ],
      "metadata": {
        "colab": {
          "base_uri": "https://localhost:8080/"
        },
        "id": "r670idj7Qhoj",
        "outputId": "6e7129b0-e60c-44d9-a1bb-62a7df4408df"
      },
      "execution_count": 62,
      "outputs": [
        {
          "output_type": "stream",
          "name": "stdout",
          "text": [
            "1 2 3\n",
            "6\n"
          ]
        }
      ]
    },
    {
      "cell_type": "code",
      "source": [
        "#3006\n",
        "for _ in range(int(input())):\n",
        "    a = int(input())\n",
        "    b = int(a**0.5)\n",
        "\n",
        "    if b * b == a:\n",
        "        print(a)\n",
        "    else:\n",
        "        print(b * b if b * b <= a else (b - 1) * (b - 1))\n",
        "\n",
        "\n"
      ],
      "metadata": {
        "colab": {
          "base_uri": "https://localhost:8080/"
        },
        "id": "WZl-ercIC3Kt",
        "outputId": "e0c0f78c-f5c4-48a2-c2a8-8b378f1fc9ca"
      },
      "execution_count": 52,
      "outputs": [
        {
          "output_type": "stream",
          "name": "stdout",
          "text": [
            "2\n",
            "10\n",
            "9\n",
            "100000000\n",
            "100000000\n"
          ]
        }
      ]
    },
    {
      "cell_type": "code",
      "source": [
        "int(10**0.5)"
      ],
      "metadata": {
        "colab": {
          "base_uri": "https://localhost:8080/"
        },
        "id": "QlscPlr-LC_D",
        "outputId": "ec9f52ea-5f49-4795-d759-9c172049ca5f"
      },
      "execution_count": 51,
      "outputs": [
        {
          "output_type": "execute_result",
          "data": {
            "text/plain": [
              "3"
            ]
          },
          "metadata": {},
          "execution_count": 51
        }
      ]
    },
    {
      "cell_type": "code",
      "source": [
        "#3007\n",
        "\n",
        "a, b = map(int, input().split())\n",
        "c = list(map(int, input().split()))\n",
        "\n",
        "# 구간 합 배열 생성 #sum보다는 구간합 구하는게 복잡도가 낮음\n",
        "prefix_sum = [0] * (a + 1)\n",
        "for i in range(1, a + 1):\n",
        "    prefix_sum[i] = prefix_sum[i - 1] + c[i - 1]\n",
        "\n",
        "# 각 쿼리에 대해 결과 출력\n",
        "for _ in range(b):\n",
        "    d, e = map(int, input().split())\n",
        "    print(prefix_sum[e] - prefix_sum[d - 1])\n"
      ],
      "metadata": {
        "colab": {
          "base_uri": "https://localhost:8080/"
        },
        "id": "CqtDokWe6p5Z",
        "outputId": "f7cd7240-4453-4027-e54f-7a1264299af4"
      },
      "execution_count": 42,
      "outputs": [
        {
          "output_type": "stream",
          "name": "stdout",
          "text": [
            "6 3\n",
            "3 5 2 1 4 3 \n",
            "2 4\n",
            "8\n",
            "1 1\n",
            "3\n",
            "1 3\n",
            "10\n"
          ]
        }
      ]
    },
    {
      "cell_type": "code",
      "source": [
        "#3008\n",
        "def cnt_sub(arr, tgt, idx, csum, sub):\n",
        "    if csum == tgt and len(sub) == 7:\n",
        "        return sub\n",
        "\n",
        "    if idx >= len(arr):\n",
        "        return None\n",
        "\n",
        "    result = cnt_sub(arr, tgt, idx + 1, csum, sub)\n",
        "    if result:\n",
        "        return result\n",
        "\n",
        "    result = cnt_sub(arr, tgt, idx + 1, csum + arr[idx], sub + [arr[idx]])\n",
        "    if result:\n",
        "        return result\n",
        "\n",
        "    return None\n",
        "\n",
        "a = sorted([int(input()) for i in range(9)])\n",
        "result = cnt_sub(a, 100, 0, 0, [])\n",
        "\n",
        "if result:\n",
        "    for i in result:\n",
        "        print(i)\n"
      ],
      "metadata": {
        "colab": {
          "base_uri": "https://localhost:8080/"
        },
        "id": "ufXlKcTo337D",
        "outputId": "d7c837c1-3117-450a-f332-1e88f0c6bde0"
      },
      "execution_count": 39,
      "outputs": [
        {
          "output_type": "stream",
          "name": "stdout",
          "text": [
            "20\n",
            "7\n",
            "23\n",
            "19\n",
            "10\n",
            "15\n",
            "25\n",
            "8\n",
            "13\n",
            "7\n",
            "8\n",
            "10\n",
            "13\n",
            "19\n",
            "20\n",
            "23\n"
          ]
        }
      ]
    },
    {
      "cell_type": "code",
      "source": [
        "#3009\n",
        "\n",
        "def cnt_sub(arr, tgt, idx, csum):\n",
        "    global cnt\n",
        "    if idx == len(arr):\n",
        "        if csum == tgt:\n",
        "            cnt += 1\n",
        "        return\n",
        "\n",
        "    cnt_sub(arr, tgt, idx + 1, csum)\n",
        "    cnt_sub(arr, tgt, idx + 1, csum + arr[idx])\n",
        "\n",
        "n, s = map(int, input().split())\n",
        "arr = list(map(int, input().split()))\n",
        "\n",
        "cnt = 0\n",
        "cnt_sub(arr, s, 0, 0)\n",
        "\n",
        "if s == 0:\n",
        "    cnt -= 1\n",
        "\n",
        "print(cnt)\n",
        "\n"
      ],
      "metadata": {
        "colab": {
          "base_uri": "https://localhost:8080/"
        },
        "id": "pVYHHqm01CsQ",
        "outputId": "ab70a99a-539c-4a4b-9d9d-b41219348a5a"
      },
      "execution_count": 32,
      "outputs": [
        {
          "output_type": "stream",
          "name": "stdout",
          "text": [
            "5 0\n",
            "-7 -3 -2 5 8\n",
            "1\n"
          ]
        }
      ]
    },
    {
      "cell_type": "code",
      "source": [
        "#3011\n",
        "def bubbleSort(x):\n",
        "    length = len(x) - 1\n",
        "    b = x[:]\n",
        "    a = 0\n",
        "    for i in range(length):\n",
        "        a += 1\n",
        "        for j in range(length - i):\n",
        "            if x[j] > x[j + 1]:\n",
        "                x[j], x[j + 1] = x[j + 1], x[j]\n",
        "        if b == x:\n",
        "            return a - 1\n",
        "        b = x[:]\n",
        "    return a\n",
        "\n",
        "a = input()\n",
        "arr = list(map(int, input().split()))\n",
        "\n",
        "print(bubbleSort(arr))"
      ],
      "metadata": {
        "colab": {
          "base_uri": "https://localhost:8080/"
        },
        "id": "0gachJm0SFuY",
        "outputId": "e621ea43-11f8-4d4c-e6f3-46b77f8449ad"
      },
      "execution_count": null,
      "outputs": [
        {
          "name": "stdout",
          "output_type": "stream",
          "text": [
            "5\n",
            "10 50 30 20 40\n"
          ]
        },
        {
          "output_type": "execute_result",
          "data": {
            "text/plain": [
              "2"
            ]
          },
          "metadata": {},
          "execution_count": 41
        }
      ]
    },
    {
      "cell_type": "code",
      "source": [
        "# #3014\n",
        "# #include <stdio.h>\n",
        "\n",
        "# int partition(int arr[], int low, int high) {\n",
        "#     int pivot = arr[high];\n",
        "#     int i = (low - 1);\n",
        "\n",
        "#     for (int j = low; j < high; j++) {\n",
        "#         if (arr[j] < pivot) {\n",
        "#             i++;\n",
        "#             int temp = arr[i];\n",
        "#             arr[i] = arr[j];\n",
        "#             arr[j] = temp;\n",
        "#         }\n",
        "#     }\n",
        "\n",
        "#     int temp = arr[i + 1];\n",
        "#     arr[i + 1] = arr[high];\n",
        "#     arr[high] = temp;\n",
        "\n",
        "#     return (i + 1);\n",
        "# }\n",
        "\n",
        "# void quick_process(int arr[], int low, int high) {\n",
        "#     if (low < high) {\n",
        "#         int pi = partition(arr, low, high);\n",
        "\n",
        "#         quick_process(arr, low, pi - 1);\n",
        "#         quick_process(arr, pi + 1, high);\n",
        "#     }\n",
        "# }\n",
        "\n",
        "# int main() {\n",
        "#     int n;\n",
        "#     scanf(\"%d\", &n);\n",
        "#     int arr[n];\n",
        "\n",
        "#     for (int i = 0; i < n; i++) {\n",
        "#         scanf(\"%d\", &arr[i]);\n",
        "#     }\n",
        "\n",
        "#     quick_process(arr, 0, n - 1);\n",
        "\n",
        "#     for (int i = 0; i < n; i++) {\n",
        "#         printf(\"%d \", arr[i]);\n",
        "#     }\n",
        "\n",
        "#     return 0;\n",
        "# }\n",
        "\n"
      ],
      "metadata": {
        "colab": {
          "base_uri": "https://localhost:8080/"
        },
        "id": "cxAfObq-Eanq",
        "outputId": "fcb19442-37b7-410a-c2fa-8fcca73fa765"
      },
      "execution_count": null,
      "outputs": [
        {
          "output_type": "stream",
          "name": "stdout",
          "text": [
            "5\n",
            "2 6 4 8 6\n",
            "[2, 4, 6, 6, 8]\n"
          ]
        }
      ]
    },
    {
      "cell_type": "code",
      "source": [
        "#3015\n",
        "a,b = map(int, input().split())\n",
        "d = sorted(list((i,int(j)) for i,j in [list(map(str, input().split())) for i in range(a)]), key = lambda x : x[1], reverse=True)\n",
        "\n",
        "for i,j in d[:b]:\n",
        "  print(i)"
      ],
      "metadata": {
        "colab": {
          "base_uri": "https://localhost:8080/"
        },
        "id": "JZiLoBtfmaJr",
        "outputId": "eda03cfa-c5c6-486c-a784-3ad5cf4d9e8a"
      },
      "execution_count": null,
      "outputs": [
        {
          "output_type": "stream",
          "name": "stdout",
          "text": [
            "4 2\n",
            "Jeon 95\n",
            "Kim 59\n",
            "Lee 90\n",
            "Bae 100\n",
            "Bae\n",
            "Jeon\n"
          ]
        }
      ]
    },
    {
      "cell_type": "code",
      "source": [
        "#3016\n",
        "a = int(input())\n",
        "b = [list(enumerate(map(str, input().split()))) for i in range(a)] #점수 리스트\n",
        "\n",
        "c = max(b, key=lambda x: int(x[1][1])) #첫번째 과목의 점수가 가장 높은 학생\n",
        "\n",
        "d = sorted([int(j) for i in b for k,j in i if k == 2]) #2번째 정렬\n",
        "e = sorted([int(j) for i in b for k,j in i if k == 3]) #3번쨰 정렬\n",
        "\n",
        "print(c[0][1], d[::-1].index(int(c[2][1]))+1 , e[::-1].index(int(c[3][1]))+1) #뒤에서 부터 인덱스를 검사해 중복일 경우 맨뒤에 번호"
      ],
      "metadata": {
        "colab": {
          "base_uri": "https://localhost:8080/"
        },
        "id": "pD-VXsUfHhdI",
        "outputId": "2f1772e8-9778-4e66-e2a8-c4dc20867ace"
      },
      "execution_count": null,
      "outputs": [
        {
          "output_type": "stream",
          "name": "stdout",
          "text": [
            "4\n",
            "Jeon 95 100 100\n",
            "Kim 59 100 80\n",
            "Lee 90 100 80\n",
            "Bae 100 82 80\n",
            "Bae 4 2\n"
          ]
        }
      ]
    },
    {
      "cell_type": "code",
      "source": [
        "#3017\n",
        "a =[list(map(int, input().split())) for i in range(int(input()))]\n",
        "\n",
        "b = []\n",
        "for i,j in enumerate(a):\n",
        "  b.append([i+1, *j])\n",
        "\n",
        "b.sort(key=lambda x: (-x[1], -x[2], x[0]))\n",
        "\n",
        "for i in b:\n",
        "  print(*i)\n"
      ],
      "metadata": {
        "colab": {
          "base_uri": "https://localhost:8080/"
        },
        "id": "o0bG4vzEfLzR",
        "outputId": "37cd3b0f-942b-4717-f50b-621f9e8f1272"
      },
      "execution_count": null,
      "outputs": [
        {
          "output_type": "stream",
          "name": "stdout",
          "text": [
            "5\n",
            "100 90\n",
            "90 100\n",
            "80 80\n",
            "80 90\n",
            "60 50\n",
            "1 100 90\n",
            "2 90 100\n",
            "4 80 90\n",
            "3 80 80\n",
            "5 60 50\n"
          ]
        }
      ]
    },
    {
      "cell_type": "code",
      "source": [
        "a = int(input())\n",
        "b = [list(map(str, input().split())) for i in range(a)]\n",
        "c = max(b, key=lambda x: max(map(int, x[1])))\n"
      ],
      "metadata": {
        "id": "7kka-Q4WNOeG"
      },
      "execution_count": null,
      "outputs": []
    },
    {
      "cell_type": "code",
      "source": [
        "#3019\n",
        "\n",
        "a = int(input())\n",
        "b = [input().split() for i in range(a)]\n",
        "c = sorted(b, key = lambda x : (int(x[1]),int(x[2]),int(x[3]), x[0]))\n",
        "\n",
        "for i in c:\n",
        "  print(i[0])"
      ],
      "metadata": {
        "colab": {
          "base_uri": "https://localhost:8080/",
          "height": 518
        },
        "id": "-Ct8b1Ir_OaI",
        "outputId": "46e4e20e-49cd-4413-9d46-c698bcdfec3f"
      },
      "execution_count": 65,
      "outputs": [
        {
          "name": "stdout",
          "output_type": "stream",
          "text": [
            "20\n",
            "sleepa 2014 05 23\n",
            "golfb 2014 06 02\n",
            "traveljp 2015 11 22\n",
            "basketball 2013 02 01\n",
            "studyabc 2014 05 23\n",
            "sleepk 201 05 23\n"
          ]
        },
        {
          "output_type": "error",
          "ename": "KeyboardInterrupt",
          "evalue": "Interrupted by user",
          "traceback": [
            "\u001b[0;31m---------------------------------------------------------------------------\u001b[0m",
            "\u001b[0;31mKeyboardInterrupt\u001b[0m                         Traceback (most recent call last)",
            "\u001b[0;32m<ipython-input-65-22e423d6bd86>\u001b[0m in \u001b[0;36m<cell line: 4>\u001b[0;34m()\u001b[0m\n\u001b[1;32m      2\u001b[0m \u001b[0;34m\u001b[0m\u001b[0m\n\u001b[1;32m      3\u001b[0m \u001b[0ma\u001b[0m \u001b[0;34m=\u001b[0m \u001b[0mint\u001b[0m\u001b[0;34m(\u001b[0m\u001b[0minput\u001b[0m\u001b[0;34m(\u001b[0m\u001b[0;34m)\u001b[0m\u001b[0;34m)\u001b[0m\u001b[0;34m\u001b[0m\u001b[0;34m\u001b[0m\u001b[0m\n\u001b[0;32m----> 4\u001b[0;31m \u001b[0mb\u001b[0m \u001b[0;34m=\u001b[0m \u001b[0;34m[\u001b[0m\u001b[0minput\u001b[0m\u001b[0;34m(\u001b[0m\u001b[0;34m)\u001b[0m\u001b[0;34m.\u001b[0m\u001b[0msplit\u001b[0m\u001b[0;34m(\u001b[0m\u001b[0;34m)\u001b[0m \u001b[0;32mfor\u001b[0m \u001b[0mi\u001b[0m \u001b[0;32min\u001b[0m \u001b[0mrange\u001b[0m\u001b[0;34m(\u001b[0m\u001b[0ma\u001b[0m\u001b[0;34m)\u001b[0m\u001b[0;34m]\u001b[0m\u001b[0;34m\u001b[0m\u001b[0;34m\u001b[0m\u001b[0m\n\u001b[0m\u001b[1;32m      5\u001b[0m \u001b[0mc\u001b[0m \u001b[0;34m=\u001b[0m \u001b[0msorted\u001b[0m\u001b[0;34m(\u001b[0m\u001b[0mb\u001b[0m\u001b[0;34m,\u001b[0m \u001b[0mkey\u001b[0m \u001b[0;34m=\u001b[0m \u001b[0;32mlambda\u001b[0m \u001b[0mx\u001b[0m \u001b[0;34m:\u001b[0m \u001b[0;34m(\u001b[0m\u001b[0mint\u001b[0m\u001b[0;34m(\u001b[0m\u001b[0mx\u001b[0m\u001b[0;34m[\u001b[0m\u001b[0;36m1\u001b[0m\u001b[0;34m]\u001b[0m\u001b[0;34m)\u001b[0m\u001b[0;34m,\u001b[0m\u001b[0mint\u001b[0m\u001b[0;34m(\u001b[0m\u001b[0mx\u001b[0m\u001b[0;34m[\u001b[0m\u001b[0;36m2\u001b[0m\u001b[0;34m]\u001b[0m\u001b[0;34m)\u001b[0m\u001b[0;34m,\u001b[0m\u001b[0mint\u001b[0m\u001b[0;34m(\u001b[0m\u001b[0mx\u001b[0m\u001b[0;34m[\u001b[0m\u001b[0;36m3\u001b[0m\u001b[0;34m]\u001b[0m\u001b[0;34m)\u001b[0m\u001b[0;34m,\u001b[0m \u001b[0mx\u001b[0m\u001b[0;34m[\u001b[0m\u001b[0;36m0\u001b[0m\u001b[0;34m]\u001b[0m\u001b[0;34m)\u001b[0m\u001b[0;34m)\u001b[0m\u001b[0;34m\u001b[0m\u001b[0;34m\u001b[0m\u001b[0m\n\u001b[1;32m      6\u001b[0m \u001b[0;34m\u001b[0m\u001b[0m\n",
            "\u001b[0;32m<ipython-input-65-22e423d6bd86>\u001b[0m in \u001b[0;36m<listcomp>\u001b[0;34m(.0)\u001b[0m\n\u001b[1;32m      2\u001b[0m \u001b[0;34m\u001b[0m\u001b[0m\n\u001b[1;32m      3\u001b[0m \u001b[0ma\u001b[0m \u001b[0;34m=\u001b[0m \u001b[0mint\u001b[0m\u001b[0;34m(\u001b[0m\u001b[0minput\u001b[0m\u001b[0;34m(\u001b[0m\u001b[0;34m)\u001b[0m\u001b[0;34m)\u001b[0m\u001b[0;34m\u001b[0m\u001b[0;34m\u001b[0m\u001b[0m\n\u001b[0;32m----> 4\u001b[0;31m \u001b[0mb\u001b[0m \u001b[0;34m=\u001b[0m \u001b[0;34m[\u001b[0m\u001b[0minput\u001b[0m\u001b[0;34m(\u001b[0m\u001b[0;34m)\u001b[0m\u001b[0;34m.\u001b[0m\u001b[0msplit\u001b[0m\u001b[0;34m(\u001b[0m\u001b[0;34m)\u001b[0m \u001b[0;32mfor\u001b[0m \u001b[0mi\u001b[0m \u001b[0;32min\u001b[0m \u001b[0mrange\u001b[0m\u001b[0;34m(\u001b[0m\u001b[0ma\u001b[0m\u001b[0;34m)\u001b[0m\u001b[0;34m]\u001b[0m\u001b[0;34m\u001b[0m\u001b[0;34m\u001b[0m\u001b[0m\n\u001b[0m\u001b[1;32m      5\u001b[0m \u001b[0mc\u001b[0m \u001b[0;34m=\u001b[0m \u001b[0msorted\u001b[0m\u001b[0;34m(\u001b[0m\u001b[0mb\u001b[0m\u001b[0;34m,\u001b[0m \u001b[0mkey\u001b[0m \u001b[0;34m=\u001b[0m \u001b[0;32mlambda\u001b[0m \u001b[0mx\u001b[0m \u001b[0;34m:\u001b[0m \u001b[0;34m(\u001b[0m\u001b[0mint\u001b[0m\u001b[0;34m(\u001b[0m\u001b[0mx\u001b[0m\u001b[0;34m[\u001b[0m\u001b[0;36m1\u001b[0m\u001b[0;34m]\u001b[0m\u001b[0;34m)\u001b[0m\u001b[0;34m,\u001b[0m\u001b[0mint\u001b[0m\u001b[0;34m(\u001b[0m\u001b[0mx\u001b[0m\u001b[0;34m[\u001b[0m\u001b[0;36m2\u001b[0m\u001b[0;34m]\u001b[0m\u001b[0;34m)\u001b[0m\u001b[0;34m,\u001b[0m\u001b[0mint\u001b[0m\u001b[0;34m(\u001b[0m\u001b[0mx\u001b[0m\u001b[0;34m[\u001b[0m\u001b[0;36m3\u001b[0m\u001b[0;34m]\u001b[0m\u001b[0;34m)\u001b[0m\u001b[0;34m,\u001b[0m \u001b[0mx\u001b[0m\u001b[0;34m[\u001b[0m\u001b[0;36m0\u001b[0m\u001b[0;34m]\u001b[0m\u001b[0;34m)\u001b[0m\u001b[0;34m)\u001b[0m\u001b[0;34m\u001b[0m\u001b[0;34m\u001b[0m\u001b[0m\n\u001b[1;32m      6\u001b[0m \u001b[0;34m\u001b[0m\u001b[0m\n",
            "\u001b[0;32m/usr/local/lib/python3.10/dist-packages/ipykernel/kernelbase.py\u001b[0m in \u001b[0;36mraw_input\u001b[0;34m(self, prompt)\u001b[0m\n\u001b[1;32m    849\u001b[0m                 \u001b[0;34m\"raw_input was called, but this frontend does not support input requests.\"\u001b[0m\u001b[0;34m\u001b[0m\u001b[0;34m\u001b[0m\u001b[0m\n\u001b[1;32m    850\u001b[0m             )\n\u001b[0;32m--> 851\u001b[0;31m         return self._input_request(str(prompt),\n\u001b[0m\u001b[1;32m    852\u001b[0m             \u001b[0mself\u001b[0m\u001b[0;34m.\u001b[0m\u001b[0m_parent_ident\u001b[0m\u001b[0;34m,\u001b[0m\u001b[0;34m\u001b[0m\u001b[0;34m\u001b[0m\u001b[0m\n\u001b[1;32m    853\u001b[0m             \u001b[0mself\u001b[0m\u001b[0;34m.\u001b[0m\u001b[0m_parent_header\u001b[0m\u001b[0;34m,\u001b[0m\u001b[0;34m\u001b[0m\u001b[0;34m\u001b[0m\u001b[0m\n",
            "\u001b[0;32m/usr/local/lib/python3.10/dist-packages/ipykernel/kernelbase.py\u001b[0m in \u001b[0;36m_input_request\u001b[0;34m(self, prompt, ident, parent, password)\u001b[0m\n\u001b[1;32m    893\u001b[0m             \u001b[0;32mexcept\u001b[0m \u001b[0mKeyboardInterrupt\u001b[0m\u001b[0;34m:\u001b[0m\u001b[0;34m\u001b[0m\u001b[0;34m\u001b[0m\u001b[0m\n\u001b[1;32m    894\u001b[0m                 \u001b[0;31m# re-raise KeyboardInterrupt, to truncate traceback\u001b[0m\u001b[0;34m\u001b[0m\u001b[0;34m\u001b[0m\u001b[0m\n\u001b[0;32m--> 895\u001b[0;31m                 \u001b[0;32mraise\u001b[0m \u001b[0mKeyboardInterrupt\u001b[0m\u001b[0;34m(\u001b[0m\u001b[0;34m\"Interrupted by user\"\u001b[0m\u001b[0;34m)\u001b[0m \u001b[0;32mfrom\u001b[0m \u001b[0;32mNone\u001b[0m\u001b[0;34m\u001b[0m\u001b[0;34m\u001b[0m\u001b[0m\n\u001b[0m\u001b[1;32m    896\u001b[0m             \u001b[0;32mexcept\u001b[0m \u001b[0mException\u001b[0m \u001b[0;32mas\u001b[0m \u001b[0me\u001b[0m\u001b[0;34m:\u001b[0m\u001b[0;34m\u001b[0m\u001b[0;34m\u001b[0m\u001b[0m\n\u001b[1;32m    897\u001b[0m                 \u001b[0mself\u001b[0m\u001b[0;34m.\u001b[0m\u001b[0mlog\u001b[0m\u001b[0;34m.\u001b[0m\u001b[0mwarning\u001b[0m\u001b[0;34m(\u001b[0m\u001b[0;34m\"Invalid Message:\"\u001b[0m\u001b[0;34m,\u001b[0m \u001b[0mexc_info\u001b[0m\u001b[0;34m=\u001b[0m\u001b[0;32mTrue\u001b[0m\u001b[0;34m)\u001b[0m\u001b[0;34m\u001b[0m\u001b[0;34m\u001b[0m\u001b[0m\n",
            "\u001b[0;31mKeyboardInterrupt\u001b[0m: Interrupted by user"
          ]
        }
      ]
    },
    {
      "cell_type": "code",
      "source": [
        "#3021\n",
        "a = int(input())\n",
        "b = int(input())\n",
        "print(a+b)"
      ],
      "metadata": {
        "id": "9Go9eCeY6KW0"
      },
      "execution_count": null,
      "outputs": []
    },
    {
      "cell_type": "code",
      "source": [
        "#3090\n",
        "a = int(input())\n",
        "b = [i for i in range(1,int(input()))]\n",
        "print(b[-1])"
      ],
      "metadata": {
        "colab": {
          "base_uri": "https://localhost:8080/"
        },
        "id": "fcm4t4BaMu3d",
        "outputId": "4665727c-e0ae-4aef-9af9-a098952a5b4d"
      },
      "execution_count": null,
      "outputs": [
        {
          "output_type": "stream",
          "name": "stdout",
          "text": [
            "3\n",
            "7\n",
            "6\n"
          ]
        }
      ]
    },
    {
      "cell_type": "code",
      "source": [
        "#3110 (큐)\n",
        "from collections import deque as d\n",
        "\n",
        "n,k=map(int,input().split())\n",
        "q=d(range(1,n+1))\n",
        "\n",
        "q.popleft() #첫번째값 삭제  FIFO(First In, First Out)\n",
        "while len(q)>1:q.rotate(-((k-1)%len(q)));q.popleft()\n",
        "\n",
        "print(q[0])"
      ],
      "metadata": {
        "id": "YgHcyQLdNm_n"
      },
      "execution_count": null,
      "outputs": []
    },
    {
      "cell_type": "code",
      "source": [
        "#3120 그리디 알고리즘\n",
        "a,b=map(int,input().split())\n",
        "arr=[0,1,2,3,2,1,2,3,3,2]\n",
        "\n",
        "print(abs(b-a)//10 + arr[abs(b-a)%10])"
      ],
      "metadata": {
        "colab": {
          "base_uri": "https://localhost:8080/"
        },
        "id": "v8he9qQ-1QXg",
        "outputId": "a406ca91-cf78-43bb-ef0b-9c49563a5f90"
      },
      "execution_count": null,
      "outputs": [
        {
          "output_type": "stream",
          "name": "stdout",
          "text": [
            "22 3\n",
            "3\n"
          ]
        }
      ]
    },
    {
      "cell_type": "code",
      "source": [
        "#3129 스택 기본 문제\n",
        "\n",
        "def check_parentheses(s):\n",
        "    stack = []\n",
        "\n",
        "    for char in s:\n",
        "        if char == '(':\n",
        "            stack.append(char)\n",
        "        elif char == ')':\n",
        "            if not stack:\n",
        "                return \"bad\"\n",
        "            stack.pop()\n",
        "\n",
        "    if not stack:\n",
        "        return \"good\"\n",
        "    else:\n",
        "        return \"bad\"\n",
        "\n",
        "\n",
        "s = input()\n",
        "print(check_parentheses(s))"
      ],
      "metadata": {
        "colab": {
          "base_uri": "https://localhost:8080/"
        },
        "id": "GiMC7UB5CYoK",
        "outputId": "bdbc4b86-2a05-4939-f5e6-0cd2ee54597d"
      },
      "execution_count": null,
      "outputs": [
        {
          "output_type": "stream",
          "name": "stdout",
          "text": [
            "((((((()(())(()()))))(()(()(())))()()))()))()(()()\n",
            "bad\n"
          ]
        }
      ]
    },
    {
      "cell_type": "code",
      "source": [
        "#3301\n",
        "\n",
        "a = int(input())\n",
        "b = [50000, 10000,5000,1000,500,100,50,10]\n",
        "\n",
        "c = 0\n",
        "for i in b:\n",
        "  c += a//i\n",
        "  a %= i\n",
        "\n",
        "print(c)"
      ],
      "metadata": {
        "colab": {
          "base_uri": "https://localhost:8080/"
        },
        "id": "qcbU58yggrGD",
        "outputId": "9536086b-ab57-4d03-8a29-3d1c92063bb4"
      },
      "execution_count": null,
      "outputs": [
        {
          "output_type": "stream",
          "name": "stdout",
          "text": [
            "54520\n",
            "8\n"
          ]
        }
      ]
    },
    {
      "cell_type": "code",
      "source": [
        "#3440\n",
        "\n",
        "def generate_votes(n,m, current_vote=\"\"):\n",
        "    if len(current_vote) == n:\n",
        "        if current_vote.count('1') == m:\n",
        "            print(current_vote, end = ' ')\n",
        "        return\n",
        "\n",
        "    generate_votes(n,m, current_vote + \"0\")\n",
        "\n",
        "    generate_votes(n,m, current_vote + \"1\")\n",
        "\n",
        "\n",
        "n,m = map(int, input().split())\n",
        "generate_votes(n,m)"
      ],
      "metadata": {
        "colab": {
          "base_uri": "https://localhost:8080/"
        },
        "id": "Qij864GOIP0j",
        "outputId": "b694c547-2790-49ff-c9f8-0bd1776cf768"
      },
      "execution_count": null,
      "outputs": [
        {
          "output_type": "stream",
          "name": "stdout",
          "text": [
            "3 2\n",
            "\n",
            "0\n",
            "00\n",
            "000\n",
            "001\n",
            "01\n",
            "010\n",
            "011\n",
            "011 1\n",
            "10\n",
            "100\n",
            "101\n",
            "101 11\n",
            "110\n",
            "110 111\n"
          ]
        }
      ]
    },
    {
      "cell_type": "code",
      "source": [
        "#3701\n",
        "import math\n",
        "\n",
        "a = int(input())\n",
        "\n",
        "b = [[] for i in range(a)]\n",
        "\n",
        "for i in range(0, a):\n",
        "  for j in range(i+1):\n",
        "    b[i].append(math.comb(i,j))\n",
        "\n",
        "for i in b:\n",
        "  print(*i)"
      ],
      "metadata": {
        "colab": {
          "base_uri": "https://localhost:8080/"
        },
        "id": "g1he8yFeuCa1",
        "outputId": "dd24fb45-97f3-4d17-8337-989e45dcd630"
      },
      "execution_count": null,
      "outputs": [
        {
          "output_type": "stream",
          "name": "stdout",
          "text": [
            "5\n",
            "1\n",
            "1 1\n",
            "1 2 1\n",
            "1 3 3 1\n",
            "1 4 6 4 1\n"
          ]
        }
      ]
    },
    {
      "cell_type": "code",
      "source": [
        "#3702\n",
        "\n",
        "def pasc_val(r, c):\n",
        "    MOD = 100000000\n",
        "    size = r + c - 1\n",
        "    pasc = [[0] * (size + 1) for _ in range(size + 1)]\n",
        "    for i in range(size + 1):\n",
        "        pasc[i][0] = 1\n",
        "        pasc[i][i] = 1\n",
        "\n",
        "    for i in range(2, size + 1):\n",
        "        for j in range(1, i):\n",
        "            pasc[i][j] = (pasc[i-1][j-1] + pasc[i-1][j]) % MOD\n",
        "\n",
        "    return pasc[r+c-2][c-1]\n",
        "\n",
        "r, c = map(int, input().split())\n",
        "print(pasc_val(r, c))"
      ],
      "metadata": {
        "colab": {
          "base_uri": "https://localhost:8080/"
        },
        "id": "LPxETaJCoLik",
        "outputId": "f2ba7904-85cc-4294-e8a3-0707230d03e3"
      },
      "execution_count": null,
      "outputs": [
        {
          "output_type": "stream",
          "name": "stdout",
          "text": [
            "3 2\n",
            "[[0, 0, 0, 0, 0], [0, 0, 0, 0, 0], [0, 0, 0, 0, 0], [0, 0, 0, 0, 0], [0, 0, 0, 0, 0]]\n",
            "3\n"
          ]
        }
      ]
    },
    {
      "cell_type": "code",
      "source": [
        "#3704 (점화식:f(n)=f(n−1)+f(n−2)+f(n−3))\n",
        "\n",
        "def count_ways(n):\n",
        "    dp = [1]+[1]+[2]+[4]+([0] * (n + 1))\n",
        "    if n == 0:\n",
        "        return dp[0]\n",
        "    elif n == 1:\n",
        "        return dp[1]\n",
        "    elif n == 2:\n",
        "        return dp[2]\n",
        "    elif n == 3:\n",
        "        return dp[3]\n",
        "\n",
        "    for i in range(4, n + 1):\n",
        "        dp[i] = (dp[i-1] + dp[i-2] + dp[i-3]) % 1000\n",
        "\n",
        "    return dp[n]\n",
        "\n",
        "n = int(input())\n",
        "\n",
        "print(count_ways(n))\n"
      ],
      "metadata": {
        "colab": {
          "base_uri": "https://localhost:8080/"
        },
        "id": "r2o1I8Ui-l-U",
        "outputId": "aef78717-9665-4a0a-937a-4bcfbe46ed69"
      },
      "execution_count": null,
      "outputs": [
        {
          "output_type": "stream",
          "name": "stdout",
          "text": [
            "5\n",
            "13\n"
          ]
        }
      ]
    },
    {
      "cell_type": "code",
      "source": [
        "#3709\n",
        "import sys\n",
        "\n",
        "sys.setrecursionlimit(1000000)\n",
        "n = int(input())\n",
        "\n",
        "DIV = 100000007\n",
        "\n",
        "dp = [0] * (n + 1)\n",
        "\n",
        "dp[1] = 1\n",
        "if n > 1:\n",
        "    dp[2] = 3\n",
        "\n",
        "for i in range(3, n + 1):\n",
        "    dp[i] = (dp[i-1] + 2 * dp[i-2]) % DIV\n",
        "\n",
        "\n",
        "print(dp[n])\n",
        "\n"
      ],
      "metadata": {
        "colab": {
          "base_uri": "https://localhost:8080/"
        },
        "id": "GtbiUpAyxDYK",
        "outputId": "1765a4cc-1da5-4f53-cf42-14212443b9df"
      },
      "execution_count": null,
      "outputs": [
        {
          "output_type": "stream",
          "name": "stdout",
          "text": [
            "1\n",
            "0\n"
          ]
        }
      ]
    },
    {
      "cell_type": "code",
      "source": [
        "#3712 점화\n",
        "n = int(input())\n",
        "\n",
        "if n % 3 == 0:\n",
        "    n //= 3\n",
        "    res = 1\n",
        "    for _ in range(n):\n",
        "        res *= 2\n",
        "        res %= 100000007\n",
        "    print(res)\n",
        "else:\n",
        "    print(0)\n",
        "\n",
        "n=int(input())\n",
        "print(pow(2,n//3,100000007)*(n%3<1))"
      ],
      "metadata": {
        "id": "ozSpjxwSbl1y"
      },
      "execution_count": null,
      "outputs": []
    },
    {
      "cell_type": "code",
      "source": [
        "#3713\n",
        "\n",
        "import sys\n",
        "\n",
        "sys.setrecursionlimit(1000000)\n",
        "n = int(input())\n",
        "\n",
        "MOD = 100007\n",
        "\n",
        "# DP 배열 초기화\n",
        "arr = [0] * (n + 1)\n",
        "arr[0] = 1\n",
        "arr[1] = 3\n",
        "\n",
        "# 점화식 적용\n",
        "for i in range(2, n):\n",
        "    arr[i] = arr[i-1] + 2 * arr[i-2]\n",
        "    arr[i] %= MOD\n",
        "\n",
        "# 결과 출력\n",
        "print(arr[n-1])\n"
      ],
      "metadata": {
        "colab": {
          "base_uri": "https://localhost:8080/"
        },
        "id": "inAe9OLbm1Cq",
        "outputId": "9525e1a3-5497-46ce-d03c-07a699de2fb7"
      },
      "execution_count": 41,
      "outputs": [
        {
          "output_type": "stream",
          "name": "stdout",
          "text": [
            "2\n",
            "3\n"
          ]
        }
      ]
    },
    {
      "cell_type": "code",
      "source": [
        "#3117\n",
        "a = int(input())\n",
        "\n",
        "b = []\n",
        "for i in range(a):\n",
        "  c = int(input())\n",
        "  if len(b) == 0 and c ==0:\n",
        "    pass\n",
        "  elif c != 0:\n",
        "    b.append(c)\n",
        "  elif c == 0:\n",
        "    del b[-1]\n",
        "\n",
        "print(sum(b))"
      ],
      "metadata": {
        "colab": {
          "base_uri": "https://localhost:8080/"
        },
        "id": "XF87QGBM7SVj",
        "outputId": "ffbbc4e6-ebeb-49df-e325-f30bba85d8db"
      },
      "execution_count": null,
      "outputs": [
        {
          "output_type": "stream",
          "name": "stdout",
          "text": [
            "10\n",
            "1\n",
            "3\n",
            "5\n",
            "4\n",
            "0\n",
            "0\n",
            "7\n",
            "0\n",
            "0\n",
            "6\n",
            "7\n"
          ]
        }
      ]
    },
    {
      "cell_type": "code",
      "source": [
        "#4011\n",
        "a = input()\n",
        "b = '20' + a[0:2] if int(a[7]) > 2 else '19' + a[0:2]\n",
        "print(f\"{b}/{a[2:4]}/{a[4:6]} {'F' if int(a[7]) % 2 == 0 else 'M'}\")"
      ],
      "metadata": {
        "colab": {
          "base_uri": "https://localhost:8080/"
        },
        "id": "jWeqBaTH5uaN",
        "outputId": "f62efa2a-f8e9-4f99-9979-8a515b674b5c"
      },
      "execution_count": null,
      "outputs": [
        {
          "output_type": "stream",
          "name": "stdout",
          "text": [
            "781201-1273845\n",
            "1978/12/01/ M\n"
          ]
        }
      ]
    },
    {
      "cell_type": "code",
      "source": [
        "#4012\n",
        "a = input()\n",
        "b =list(map(int, input().split()))\n",
        "c = sorted(b, reverse=True)\n",
        "for i in b:\n",
        "  print(i, c.index(i)+1)"
      ],
      "metadata": {
        "colab": {
          "base_uri": "https://localhost:8080/"
        },
        "id": "TVS4Ni8YenT_",
        "outputId": "1dc818cb-9b33-4efb-fea6-f1c95db5baf8"
      },
      "execution_count": null,
      "outputs": [
        {
          "output_type": "stream",
          "name": "stdout",
          "text": [
            "10\n",
            "60 34 55 100 90 76 60 90 80 87\n",
            "60 7\n",
            "34 10\n",
            "55 9\n",
            "100 1\n",
            "90 2\n",
            "76 6\n",
            "60 7\n",
            "90 2\n",
            "80 5\n",
            "87 4\n"
          ]
        }
      ]
    },
    {
      "cell_type": "code",
      "source": [
        "#4013\n",
        "a = int(input())\n",
        "\n",
        "print(f'2 {bin(a)[2:]}')\n",
        "print(f'8 {oct(a)[2:]}')\n",
        "print(f'16 {hex(a)[2:].upper() if a < 32767 else \"\"}')\n",
        "\n"
      ],
      "metadata": {
        "colab": {
          "base_uri": "https://localhost:8080/"
        },
        "id": "7AW-CvuRE2h-",
        "outputId": "47d4f0e3-0a49-4fb5-dd7b-7d1ebb2f52d6"
      },
      "execution_count": null,
      "outputs": [
        {
          "output_type": "stream",
          "name": "stdout",
          "text": [
            "15\n",
            "2 1111\n",
            "8 17\n",
            "16 F\n"
          ]
        }
      ]
    },
    {
      "cell_type": "code",
      "source": [
        "#4019\n",
        "a  = int(input())\n",
        "b = list(map(int, input().split()))\n",
        "c = 0\n",
        "while True:\n"
      ],
      "metadata": {
        "colab": {
          "base_uri": "https://localhost:8080/"
        },
        "id": "RQCUHr-zKIEm",
        "outputId": "e5ce4beb-d406-4fef-b7c3-12bd50ac63b7"
      },
      "execution_count": null,
      "outputs": [
        {
          "output_type": "stream",
          "name": "stdout",
          "text": [
            "8\n",
            "5 7 10 1 2 10 11 6\n",
            "38\n"
          ]
        }
      ]
    },
    {
      "cell_type": "code",
      "source": [
        "#4026\n",
        "a = sorted(list(map(int, input().split())))\n",
        "mid = len(a)//2\n",
        "print(a[mid] if len(a) % 2 != 0 else ( a[mid-1] + a[mid]) / 2)"
      ],
      "metadata": {
        "colab": {
          "base_uri": "https://localhost:8080/"
        },
        "id": "fi98Hknd-X9r",
        "outputId": "59be6080-fb80-4d7c-85af-344df62c7772"
      },
      "execution_count": null,
      "outputs": [
        {
          "output_type": "stream",
          "name": "stdout",
          "text": [
            "58 35 77 59 68\n",
            "59\n"
          ]
        }
      ]
    },
    {
      "cell_type": "code",
      "source": [
        "#4031\n",
        "a = list(map(int, input().split()))\n",
        "\n",
        "b = [i for i in a if i % 2 == 0] + [0]\n",
        "c = [i for i in a if i % 2 != 0] + [0]\n",
        "\n",
        "print(max(b)+max(c))"
      ],
      "metadata": {
        "colab": {
          "base_uri": "https://localhost:8080/"
        },
        "id": "dAiH43vp7vFZ",
        "outputId": "dbf71503-b54b-40b0-cb4f-1a372f1abefd"
      },
      "execution_count": null,
      "outputs": [
        {
          "output_type": "stream",
          "name": "stdout",
          "text": [
            "1 1 1 1\n",
            "1\n"
          ]
        }
      ]
    },
    {
      "cell_type": "code",
      "source": [
        "#4036\n",
        "n = int(input())\n",
        "m = int(input())\n",
        "print(f'{(n + m) // 2}\\n{(n - m) // 2}')"
      ],
      "metadata": {
        "colab": {
          "base_uri": "https://localhost:8080/"
        },
        "id": "yFmc4TmE31y6",
        "outputId": "428fe86f-a87f-4a40-f17f-4cd0a41ac777"
      },
      "execution_count": null,
      "outputs": [
        {
          "name": "stdout",
          "output_type": "stream",
          "text": [
            "1998\n",
            "0\n"
          ]
        },
        {
          "output_type": "execute_result",
          "data": {
            "text/plain": [
              "[]"
            ]
          },
          "metadata": {},
          "execution_count": 74
        }
      ]
    },
    {
      "cell_type": "code",
      "source": [
        "#4037\n",
        "n = int(input())\n",
        "\n",
        "a,i = [], 2\n",
        "while n > 1 :\n",
        "  if n % i == 0:\n",
        "    a.append(i)\n",
        "    n = n//i\n",
        "  else:\n",
        "    i += 1\n",
        "\n",
        "print(*a)"
      ],
      "metadata": {
        "colab": {
          "base_uri": "https://localhost:8080/"
        },
        "id": "RYpDVYBKsrzE",
        "outputId": "900e41be-d64c-4929-dccb-7d0c76ade2ae"
      },
      "execution_count": 9,
      "outputs": [
        {
          "output_type": "stream",
          "name": "stdout",
          "text": [
            "72\n",
            "2 2 2 3 3\n"
          ]
        }
      ]
    },
    {
      "cell_type": "code",
      "source": [
        "#4038 이해 못함\n",
        "import math\n",
        "\n",
        "def heron_area(x1, y1, x2, y2, x3, y3):\n",
        "    a = math.sqrt((x2 - x1) ** 2 + (y2 - y1) ** 2)\n",
        "    b = math.sqrt((x3 - x2) ** 2 + (y3 - y2) ** 2)\n",
        "    c = math.sqrt((x1 - x3) ** 2 + (y1 - y3) ** 2)\n",
        "    s = (a + b + c) / 2\n",
        "    return math.sqrt(s * (s - a) * (s - b) * (s - c))\n",
        "\n",
        "def intersection(x1, y1, x2, y2):\n",
        "    if y1 * y2 < 0:  # 두 점이 수면을 기준으로 다른 쪽에 있을 때\n",
        "        return x1 - y1 * (x2 - x1) / (y2 - y1), 0\n",
        "    return None\n",
        "\n",
        "def calculate_area_above_surface(x1, y1, x2, y2, x3, y3):\n",
        "    points = []\n",
        "    if y1 > 0:\n",
        "        points.append((x1, y1))\n",
        "    if y2 > 0:\n",
        "        points.append((x2, y2))\n",
        "    if y3 > 0:\n",
        "        points.append((x3, y3))\n",
        "\n",
        "    i1 = intersection(x1, y1, x2, y2)\n",
        "    if i1:\n",
        "        points.append(i1)\n",
        "\n",
        "    i2 = intersection(x2, y2, x3, y3)\n",
        "    if i2:\n",
        "        points.append(i2)\n",
        "\n",
        "    i3 = intersection(x3, y3, x1, y1)\n",
        "    if i3:\n",
        "        points.append(i3)\n",
        "\n",
        "    if len(points) < 3:\n",
        "        return 0\n",
        "\n",
        "    points = sorted(points, key=lambda p: (p[0], p[1]))  # 점들을 정렬\n",
        "    area = heron_area(points[0][0], points[0][1], points[1][0], points[1][1], points[2][0], points[2][1])\n",
        "\n",
        "    return round(area)\n",
        "\n",
        "# 입력 받기\n",
        "x1, y1 = map(int, input().split())\n",
        "x2, y2 = map(int, input().split())\n",
        "x3, y3 = map(int, input().split())\n",
        "\n",
        "# 결과 출력\n",
        "print(calculate_area_above_surface(x1, y1, x2, y2, x3, y3))"
      ],
      "metadata": {
        "colab": {
          "base_uri": "https://localhost:8080/"
        },
        "id": "5M6OG-_Pan0J",
        "outputId": "f90aa34c-debc-453e-a451-118350e1a783"
      },
      "execution_count": null,
      "outputs": [
        {
          "output_type": "stream",
          "name": "stdout",
          "text": [
            "-4 -1\n",
            "6 -3\n",
            "3 6\n",
            "[(-3.0, 0), (3, 6), (5.0, 0)]\n",
            "24\n"
          ]
        }
      ]
    },
    {
      "cell_type": "code",
      "source": [
        "#4041\n",
        "a = list(input())\n",
        "print(f'{int(\"\".join(a[::-1]))}\\n{sum(map(int,a))}')\n",
        "\n",
        "#####################GPT\n",
        "\n",
        "a = input()[::-1]\n",
        "print(f'{int(a)}\\n{sum(map(int,a[::-1]))}')"
      ],
      "metadata": {
        "colab": {
          "base_uri": "https://localhost:8080/"
        },
        "id": "-oG3eTRXhhAv",
        "outputId": "beb8a388-fa97-442e-8638-5e199d613abe"
      },
      "execution_count": null,
      "outputs": [
        {
          "output_type": "stream",
          "name": "stdout",
          "text": [
            "320\n",
            "23\n",
            "5\n"
          ]
        }
      ]
    },
    {
      "cell_type": "code",
      "source": [
        "#4045\n",
        "def count_ways(n, m):\n",
        "    print(n,m)\n",
        "    if n == 0:\n",
        "        return 1\n",
        "    if n < 0 or m == 0:\n",
        "        return 0\n",
        "    return count_ways(n, m - 1) + count_ways(n - m, m)  # m명을 포함하지 않는 경우 + m명을 포함하는 경우\n",
        "\n",
        "n, m = map(int, input().split())\n",
        "print(count_ways(n, m))"
      ],
      "metadata": {
        "id": "zz7iEpV3YPFa"
      },
      "execution_count": null,
      "outputs": []
    },
    {
      "cell_type": "code",
      "source": [
        "a = list(input())[::-1]\n",
        "b = [bin(ord(i))[2:] for i in a]\n",
        "\n",
        "c = [[] for _ in range(len(b))]\n",
        "\n",
        "for i in range(len(b)):\n",
        "    for bit in b[i]:\n",
        "        if bit == '1':\n",
        "            c[i].append('0')\n",
        "        else:\n",
        "            c[i].append('1')\n",
        "\n",
        "for i in c:\n",
        "  print(''.join(i))"
      ],
      "metadata": {
        "colab": {
          "base_uri": "https://localhost:8080/"
        },
        "id": "5EMy441OLoTR",
        "outputId": "d4154a1f-9cca-4b2f-ac11-681b3038cb92"
      },
      "execution_count": null,
      "outputs": [
        {
          "output_type": "stream",
          "name": "stdout",
          "text": [
            "test\n",
            "0001011\n",
            "0001100\n",
            "0011010\n",
            "0001011\n"
          ]
        }
      ]
    },
    {
      "cell_type": "code",
      "source": [
        "#4051\n",
        "\n",
        "a = [list(map(float, input().split())) for i in range(5)]\n",
        "\n",
        "b = 0\n",
        "for i, j in a:\n",
        "    o = min((j - i) - 1, 4)\n",
        "    b += max(0, o)\n",
        "\n",
        "t = 10000 * b\n",
        "if b >= 15:\n",
        "    t -= int(t * 0.05)\n",
        "elif b <= 5:\n",
        "    t += int(t * 0.05)\n",
        "\n",
        "print(int(t))"
      ],
      "metadata": {
        "colab": {
          "base_uri": "https://localhost:8080/"
        },
        "id": "jPn3LN0RXF-X",
        "outputId": "0c162987-1ef4-438b-a09b-bcf5c9106db9"
      },
      "execution_count": null,
      "outputs": [
        {
          "output_type": "stream",
          "name": "stdout",
          "text": [
            "16.0 21.0\n",
            "16.5 21.5\n",
            "17.5 21.5\n",
            "19.5 24.0\n",
            "22.5 24.0\n",
            "15.0\n",
            "142500\n"
          ]
        }
      ]
    },
    {
      "cell_type": "code",
      "source": [
        "15.5"
      ],
      "metadata": {
        "colab": {
          "base_uri": "https://localhost:8080/"
        },
        "id": "Rr3VoSniYxEf",
        "outputId": "597282d8-931c-4647-f781-d5c39d065e11"
      },
      "execution_count": null,
      "outputs": [
        {
          "output_type": "execute_result",
          "data": {
            "text/plain": [
              "(2000.0, 40000)"
            ]
          },
          "metadata": {},
          "execution_count": 18
        }
      ]
    },
    {
      "cell_type": "code",
      "source": [
        "#4056\n",
        "\n",
        "a = int(input())\n",
        "\n",
        "if 500 >= a:\n",
        "  print(int(a*(70/100)))\n",
        "elif 500 < a <= 1500:\n",
        "  print(int(350+(a-500)*40/100))\n",
        "elif 1500 < a <= 4500:\n",
        "  print(int(750 + (a-1500)*15/100))\n",
        "elif 4500 < a <= 10000:\n",
        "  print(int(1200 + (a - 4500)*5/100))\n",
        "elif 10000 < a:\n",
        "  print(int(1475 + (a - 10000)*2/100))\n",
        "\n"
      ],
      "metadata": {
        "colab": {
          "base_uri": "https://localhost:8080/"
        },
        "id": "CgLTLGxMnbVj",
        "outputId": "61285c13-91dd-410f-c99f-7c6ab883474b"
      },
      "execution_count": null,
      "outputs": [
        {
          "output_type": "stream",
          "name": "stdout",
          "text": [
            "1500\n",
            "750\n"
          ]
        }
      ]
    },
    {
      "cell_type": "code",
      "source": [
        "#4085\n",
        "m, n, x, y = map(int, input().split())\n",
        "matrix = [list(map(int, input().split())) for _ in range(n)]\n",
        "\n",
        "max_fertility = 0\n",
        "\n",
        "for i in range(n):\n",
        "    for j in range(m):\n",
        "        if i + y <= n and j + x <= m:\n",
        "            current_fertility = sum(matrix[i+a][j+b] for a in range(y) for b in range(x))\n",
        "            max_fertility = max(max_fertility, current_fertility)\n",
        "\n",
        "print(max_fertility)\n"
      ],
      "metadata": {
        "colab": {
          "base_uri": "https://localhost:8080/"
        },
        "id": "bjd17a0e82Al",
        "outputId": "083d5647-e8b1-4e1f-ebd8-6f03d088c04f"
      },
      "execution_count": null,
      "outputs": [
        {
          "output_type": "stream",
          "name": "stdout",
          "text": [
            "10 3 2 2\n",
            "10 15 11 24 55 21 10 19 14 10\n",
            "10 12 19 19 44 39 24 15 14 11\n",
            "10 77 66 50 50 50 40 35 25 15\n",
            "183\n"
          ]
        }
      ]
    },
    {
      "cell_type": "code",
      "source": [
        "#4506\n",
        "\n",
        "a,b = map(int, input().split())\n",
        "\n",
        "for i in range(min(a,b), 0,-1):\n",
        "  if a%i==0 and b%i==0 :\n",
        "    print(i)\n",
        "    c = i\n",
        "    break\n",
        "\n",
        "d = min(a,b)\n",
        "while True:\n",
        "  if d%a==0 and d%b==0 :\n",
        "    print(d)\n",
        "    break\n",
        "  d+=c"
      ],
      "metadata": {
        "colab": {
          "base_uri": "https://localhost:8080/"
        },
        "id": "IW7uHln7EmzX",
        "outputId": "c55bb7ff-c113-403b-eecf-aa2672a5b31c"
      },
      "execution_count": null,
      "outputs": [
        {
          "output_type": "stream",
          "name": "stdout",
          "text": [
            "24 18\n",
            "6\n",
            "72\n"
          ]
        }
      ]
    },
    {
      "cell_type": "code",
      "source": [
        "#4506\n",
        "a = [int(input()) for i in range(9)]\n",
        "b = max([(i+1,j) for i,j in enumerate(a)], key=lambda x: x[1])\n",
        "print(f'{b[1]}\\n{b[0]}')"
      ],
      "metadata": {
        "id": "DOnRD3fxHlf0"
      },
      "execution_count": null,
      "outputs": []
    },
    {
      "cell_type": "code",
      "source": [
        "#4531\n",
        "a = [int(input()) for i in range(5)]\n",
        "print(f'{sum(a)//5}\\n{sorted(a)[2]}')"
      ],
      "metadata": {
        "colab": {
          "base_uri": "https://localhost:8080/"
        },
        "id": "dobp0wvZd_B6",
        "outputId": "bf332b20-abc9-4299-ac97-82351eda00d9"
      },
      "execution_count": null,
      "outputs": [
        {
          "output_type": "stream",
          "name": "stdout",
          "text": [
            "10\n",
            "40\n",
            "30\n",
            "60\n",
            "30\n",
            "170\n",
            "30\n"
          ]
        }
      ]
    },
    {
      "cell_type": "code",
      "source": [
        "#4532\n",
        "a = int(input())\n",
        "b = [int(i) for i in input()]\n",
        "\n",
        "for i in range(len(b)):\n",
        "  print(a*b[-(i+1)])\n",
        "  b[-(i+1)] = int(str(a*b[-(i+1)]) + ('0'*i))\n",
        "\n",
        "print(sum(b))\n",
        "\n"
      ],
      "metadata": {
        "colab": {
          "base_uri": "https://localhost:8080/"
        },
        "id": "v2zKqgFAGGGX",
        "outputId": "46817075-414c-4e76-eeb3-b79bfdcfd335"
      },
      "execution_count": null,
      "outputs": [
        {
          "output_type": "stream",
          "name": "stdout",
          "text": [
            "472\n",
            "385\n",
            "2360\n",
            "3776\n",
            "1416\n",
            "181720\n"
          ]
        }
      ]
    },
    {
      "cell_type": "code",
      "source": [
        "#4536\n",
        "a = [int(input()) for i in range(10)]\n",
        "b = [(a.count(i), i) for i in set(a)]\n",
        "print(sum(a)//10)\n",
        "print(max(b, key=lambda x: x[0])[1])"
      ],
      "metadata": {
        "colab": {
          "base_uri": "https://localhost:8080/"
        },
        "id": "sNIPkRBg6e11",
        "outputId": "9c18aeaf-cd89-4156-b814-dd913742a4d6"
      },
      "execution_count": null,
      "outputs": [
        {
          "output_type": "stream",
          "name": "stdout",
          "text": [
            "10\n",
            "40\n",
            "30\n",
            "60\n",
            "30\n",
            "20\n",
            "60\n",
            "30\n",
            "0\n",
            "50\n",
            "33\n",
            "30\n"
          ]
        }
      ]
    },
    {
      "cell_type": "code",
      "source": [
        "#4536\n",
        "def sieve_of_eratosthenes(limit):\n",
        "    is_prime = [True] * (limit + 1)\n",
        "    is_prime[0] = is_prime[1] = False\n",
        "    p = 2\n",
        "    while (p * p <= limit):\n",
        "        if is_prime[p]:\n",
        "            for i in range(p * p, limit + 1, p):\n",
        "                is_prime[i] = False\n",
        "        p += 1\n",
        "    return is_prime\n",
        "\n",
        "def find_twin_primes(a, b):\n",
        "    primes = sieve_of_eratosthenes(b)\n",
        "    twin_primes = []\n",
        "\n",
        "    for i in range(max(a, 2), b + 1):\n",
        "        if primes[i]:\n",
        "            twin_primes.append(i)\n",
        "\n",
        "    return twin_primes\n",
        "\n",
        "a = int(input())\n",
        "b = int(input())\n",
        "\n",
        "tw = find_twin_primes(a, b)\n",
        "\n",
        "print(f'{sum(tw)}\\n{tw[0]}' if len(tw) != 0 else -1)\n",
        "\n"
      ],
      "metadata": {
        "colab": {
          "base_uri": "https://localhost:8080/"
        },
        "id": "5_u9aGH78A0Q",
        "outputId": "2dd93265-5ca7-4785-d472-0800a75f1671"
      },
      "execution_count": null,
      "outputs": [
        {
          "output_type": "stream",
          "name": "stdout",
          "text": [
            "1\n",
            "500\n",
            "21536\n",
            "2\n"
          ]
        }
      ]
    },
    {
      "cell_type": "code",
      "source": [
        "#4546\n",
        "import itertools\n",
        "\n",
        "def sjs(arr):\n",
        "    cmb = itertools.combinations(arr, 3)\n",
        "    max_dgt = -1\n",
        "\n",
        "    for c in cmb:\n",
        "        cur_sum = str(sum(c))\n",
        "        dgt = int(cur_sum[-1] )\n",
        "        if dgt > max_dgt:\n",
        "            max_dgt = dgt\n",
        "    return max_dgt\n",
        "\n",
        "b = reversed([(i, sjs(list(map(int, input().split())))) for i in range(1, int(input())+1)])\n",
        "print(max(b, key=lambda x: x[1])[0])"
      ],
      "metadata": {
        "colab": {
          "base_uri": "https://localhost:8080/"
        },
        "id": "P8XM0uHWPTpd",
        "outputId": "f51547e9-e61e-4630-fea6-0363acfa2b2f"
      },
      "execution_count": null,
      "outputs": [
        {
          "output_type": "stream",
          "name": "stdout",
          "text": [
            "3\n",
            "7 5 5 4 9\n",
            "1 1 1 1 1\n",
            "2 3 3 2 10\n",
            "1\n"
          ]
        }
      ]
    },
    {
      "cell_type": "code",
      "source": [
        "#4561\n",
        "\n"
      ],
      "metadata": {
        "id": "R9RTyYF9OiXz"
      },
      "execution_count": null,
      "outputs": []
    },
    {
      "cell_type": "code",
      "source": [
        "#4561\n",
        "\n",
        "a = [int(input()) for i in range(7)]\n",
        "b =sorted([i for i in a if i % 2 != 0]) + [0]\n",
        "print(f'{sum(b)}\\n{b[0]}' if sum(b) != 0 else -1)"
      ],
      "metadata": {
        "colab": {
          "base_uri": "https://localhost:8080/"
        },
        "id": "HTHmWahDn4Fu",
        "outputId": "096d7863-172e-4c65-a783-f6215df6fa9e"
      },
      "execution_count": null,
      "outputs": [
        {
          "output_type": "stream",
          "name": "stdout",
          "text": [
            "2\n",
            "4\n",
            "6\n",
            "3\n",
            "2\n",
            "2\n",
            "10\n",
            "-1\n"
          ]
        }
      ]
    },
    {
      "cell_type": "code",
      "source": [
        "#4592\n",
        "matr = [[0 for i in range(100)] for i in range(100)]\n",
        "\n",
        "a = int(input())\n",
        "b = [list(map(int, input().split())) for i in range(a)]\n",
        "\n",
        "for i,j in b:\n",
        "  for k in range(10):\n",
        "    for n in range(10):\n",
        "      matr[-(j+n)][i+k-1] = 1\n",
        "\n",
        "area = 0\n",
        "for i in matr:\n",
        "  area += sum(i)\n",
        "\n",
        "print(area)"
      ],
      "metadata": {
        "id": "RRKRBRyugPVH"
      },
      "execution_count": null,
      "outputs": []
    },
    {
      "cell_type": "code",
      "source": [
        "#4596\n",
        "a = [list(map(int, input().split())) for _ in range(9)]\n",
        "b = max([max(row) for row in a])\n",
        "\n",
        "for i in range(9):\n",
        "    if b in a[i]:\n",
        "      print(f'{b}\\n{i+1} {a[i].index(b)+1}')\n",
        "      break\n"
      ],
      "metadata": {
        "id": "9E6ftfo0EoU3"
      },
      "execution_count": null,
      "outputs": []
    },
    {
      "cell_type": "code",
      "source": [
        "#4621\n",
        "n,k = map(int, input().split()); a = [i for i in range(1,n+1) if n%i==0]\n",
        "print(a[k-1] if k < len(a) else 0)"
      ],
      "metadata": {
        "colab": {
          "base_uri": "https://localhost:8080/"
        },
        "id": "m2Yaw7UqDnRI",
        "outputId": "5a2f5277-fc97-4256-a32a-e680f828ad58"
      },
      "execution_count": null,
      "outputs": [
        {
          "output_type": "stream",
          "name": "stdout",
          "text": [
            "1234 6\n",
            "0\n"
          ]
        }
      ]
    },
    {
      "cell_type": "code",
      "source": [
        "#4626\n",
        "a = int(input())\n",
        "b = list(map(int, input().split()))\n",
        "cg = 0\n",
        "sh = 0\n",
        "for i in b:\n",
        "  if i == 0:\n",
        "    sh = 0\n",
        "  else:\n",
        "    sh+=1\n",
        "    cg += sh\n",
        "\n",
        "print(cg)"
      ],
      "metadata": {
        "colab": {
          "base_uri": "https://localhost:8080/"
        },
        "id": "8Eo70yGsIOHh",
        "outputId": "88121a1f-4895-4f04-c158-c12ccf9aee9b"
      },
      "execution_count": null,
      "outputs": [
        {
          "output_type": "stream",
          "name": "stdout",
          "text": [
            "10\n",
            "1 0 1 1 1 0 0 1 1 0\n",
            "10\n"
          ]
        }
      ]
    },
    {
      "cell_type": "code",
      "source": [
        "#4651\n",
        "for i in [map(int, input().split()) for i in range(3)]:\n",
        "  b = ''.join(map(str, i)).count('1') #등\n",
        "  print('A' if b == 3 else 'B' if b ==2 else 'C' if b == 1 else 'D' if b ==0 else 'E')"
      ],
      "metadata": {
        "colab": {
          "base_uri": "https://localhost:8080/"
        },
        "id": "sBHVvHJLB8nK",
        "outputId": "89de6434-f1f8-4a29-a828-222cbff2014f"
      },
      "execution_count": null,
      "outputs": [
        {
          "output_type": "stream",
          "name": "stdout",
          "text": [
            "0 1 0 1\n",
            "1 1 1 0\n",
            "0 0 1 1\n",
            "2\n",
            "3\n",
            "2\n"
          ]
        }
      ]
    },
    {
      "cell_type": "code",
      "source": [
        "#4681\n",
        "a = list(map(int, input().split()))\n",
        "b = sum([i**2 for i in a])\n",
        "print(b%10)"
      ],
      "metadata": {
        "colab": {
          "base_uri": "https://localhost:8080/"
        },
        "id": "xpYAjNXZIviW",
        "outputId": "8eb87db1-c209-4e26-9319-cd0bf8fca9b8"
      },
      "execution_count": null,
      "outputs": [
        {
          "output_type": "stream",
          "name": "stdout",
          "text": [
            "0 4 2 5 6\n",
            "1\n"
          ]
        }
      ]
    },
    {
      "cell_type": "code",
      "source": [
        "#4711\n",
        "a = [map(int, input().split()) for i in range(4)]\n",
        "\n",
        "hs = 0\n",
        "b = []\n",
        "for i,j in a:\n",
        "  hs += j\n",
        "  hs -= i\n",
        "  if hs > 10000:\n",
        "    hs = 10000\n",
        "  b.append(hs)\n",
        "\n",
        "print(max(b))\n",
        "##########################GPT(요청)\n",
        "a = [map(int, input().split()) for i in range(4)]\n",
        "hs = 0\n",
        "b = [(hs := min(hs + j - i, 10000)) for i, j in a]\n",
        "print(max(b))"
      ],
      "metadata": {
        "colab": {
          "base_uri": "https://localhost:8080/"
        },
        "id": "nOKYuf6b_3W_",
        "outputId": "17112c46-2f1c-4830-a42b-de5faf6c510b"
      },
      "execution_count": null,
      "outputs": [
        {
          "output_type": "stream",
          "name": "stdout",
          "text": [
            "0 32\n",
            "3 13\n",
            "28 25\n",
            "39 0\n",
            "84\n"
          ]
        }
      ]
    },
    {
      "cell_type": "code",
      "source": [
        "#4716\n",
        "a = [map(int, input().split()) for i in range(10)]\n",
        "hs = 0\n",
        "b = [(hs := min(hs + j - i, 10000)) for i, j in a]\n",
        "print(max(b))"
      ],
      "metadata": {
        "id": "nfGsLpAJCX5g"
      },
      "execution_count": null,
      "outputs": []
    },
    {
      "cell_type": "code",
      "source": [
        "#4741\n",
        "\n",
        "a,b = map(int, input().split())\n",
        "c = int(input())\n",
        "\n",
        "d = []\n",
        "for i in [3600, 60]:\n",
        "  d.append(c//i)\n",
        "  c %= i\n",
        "\n",
        "\n",
        "print((a+d[0]+1)%24 if d[1]+b > 60 else (a+d[0])%24, b+d[1]-60 if d[1]+b > 60 else b+d[1])\n"
      ],
      "metadata": {
        "colab": {
          "base_uri": "https://localhost:8080/"
        },
        "id": "G4srBq8MmT5w",
        "outputId": "64a4e1bf-529f-4e8f-d9a3-df60e145e444"
      },
      "execution_count": null,
      "outputs": [
        {
          "output_type": "stream",
          "name": "stdout",
          "text": [
            "14 0\n",
            "786\n",
            "3 6\n"
          ]
        }
      ]
    },
    {
      "cell_type": "code",
      "source": [
        "#4746\n",
        "a,b,c = map(int, input().split())\n",
        "secc = int(input())\n",
        "\n",
        "d = []\n",
        "for i in [3600, 60,1]:\n",
        "    d.append(secc//i)\n",
        "    secc %= i\n",
        "\n",
        "if d[2]+c > 60:\n",
        "  b+=1\n",
        "\n",
        "print((a+d[0]+1)%24 if d[1]+b > 60 else (a+d[0])%24, b+d[1]-60 if d[1]+b > 60 else b+d[1], c+d[2]-60 if d[2]+c > 60 else c+d[2] )"
      ],
      "metadata": {
        "colab": {
          "base_uri": "https://localhost:8080/",
          "height": 391
        },
        "id": "nxngYmDYb-Kg",
        "outputId": "8af6f923-4d77-4f6b-c6c8-edf3f2280456"
      },
      "execution_count": null,
      "outputs": [
        {
          "output_type": "error",
          "ename": "KeyboardInterrupt",
          "evalue": "Interrupted by user",
          "traceback": [
            "\u001b[0;31m---------------------------------------------------------------------------\u001b[0m",
            "\u001b[0;31mKeyboardInterrupt\u001b[0m                         Traceback (most recent call last)",
            "\u001b[0;32m<ipython-input-8-c4803f5ce299>\u001b[0m in \u001b[0;36m<cell line: 2>\u001b[0;34m()\u001b[0m\n\u001b[1;32m      1\u001b[0m \u001b[0;31m#4746\u001b[0m\u001b[0;34m\u001b[0m\u001b[0;34m\u001b[0m\u001b[0m\n\u001b[0;32m----> 2\u001b[0;31m \u001b[0ma\u001b[0m\u001b[0;34m,\u001b[0m\u001b[0mb\u001b[0m\u001b[0;34m,\u001b[0m\u001b[0mc\u001b[0m \u001b[0;34m=\u001b[0m \u001b[0mmap\u001b[0m\u001b[0;34m(\u001b[0m\u001b[0mint\u001b[0m\u001b[0;34m,\u001b[0m \u001b[0minput\u001b[0m\u001b[0;34m(\u001b[0m\u001b[0;34m)\u001b[0m\u001b[0;34m.\u001b[0m\u001b[0msplit\u001b[0m\u001b[0;34m(\u001b[0m\u001b[0;34m)\u001b[0m\u001b[0;34m)\u001b[0m\u001b[0;34m\u001b[0m\u001b[0;34m\u001b[0m\u001b[0m\n\u001b[0m\u001b[1;32m      3\u001b[0m \u001b[0msecc\u001b[0m \u001b[0;34m=\u001b[0m \u001b[0mint\u001b[0m\u001b[0;34m(\u001b[0m\u001b[0minput\u001b[0m\u001b[0;34m(\u001b[0m\u001b[0;34m)\u001b[0m\u001b[0;34m)\u001b[0m\u001b[0;34m\u001b[0m\u001b[0;34m\u001b[0m\u001b[0m\n\u001b[1;32m      4\u001b[0m \u001b[0;34m\u001b[0m\u001b[0m\n\u001b[1;32m      5\u001b[0m \u001b[0md\u001b[0m \u001b[0;34m=\u001b[0m \u001b[0;34m[\u001b[0m\u001b[0;34m]\u001b[0m\u001b[0;34m\u001b[0m\u001b[0;34m\u001b[0m\u001b[0m\n",
            "\u001b[0;32m/usr/local/lib/python3.10/dist-packages/ipykernel/kernelbase.py\u001b[0m in \u001b[0;36mraw_input\u001b[0;34m(self, prompt)\u001b[0m\n\u001b[1;32m    849\u001b[0m                 \u001b[0;34m\"raw_input was called, but this frontend does not support input requests.\"\u001b[0m\u001b[0;34m\u001b[0m\u001b[0;34m\u001b[0m\u001b[0m\n\u001b[1;32m    850\u001b[0m             )\n\u001b[0;32m--> 851\u001b[0;31m         return self._input_request(str(prompt),\n\u001b[0m\u001b[1;32m    852\u001b[0m             \u001b[0mself\u001b[0m\u001b[0;34m.\u001b[0m\u001b[0m_parent_ident\u001b[0m\u001b[0;34m,\u001b[0m\u001b[0;34m\u001b[0m\u001b[0;34m\u001b[0m\u001b[0m\n\u001b[1;32m    853\u001b[0m             \u001b[0mself\u001b[0m\u001b[0;34m.\u001b[0m\u001b[0m_parent_header\u001b[0m\u001b[0;34m,\u001b[0m\u001b[0;34m\u001b[0m\u001b[0;34m\u001b[0m\u001b[0m\n",
            "\u001b[0;32m/usr/local/lib/python3.10/dist-packages/ipykernel/kernelbase.py\u001b[0m in \u001b[0;36m_input_request\u001b[0;34m(self, prompt, ident, parent, password)\u001b[0m\n\u001b[1;32m    893\u001b[0m             \u001b[0;32mexcept\u001b[0m \u001b[0mKeyboardInterrupt\u001b[0m\u001b[0;34m:\u001b[0m\u001b[0;34m\u001b[0m\u001b[0;34m\u001b[0m\u001b[0m\n\u001b[1;32m    894\u001b[0m                 \u001b[0;31m# re-raise KeyboardInterrupt, to truncate traceback\u001b[0m\u001b[0;34m\u001b[0m\u001b[0;34m\u001b[0m\u001b[0m\n\u001b[0;32m--> 895\u001b[0;31m                 \u001b[0;32mraise\u001b[0m \u001b[0mKeyboardInterrupt\u001b[0m\u001b[0;34m(\u001b[0m\u001b[0;34m\"Interrupted by user\"\u001b[0m\u001b[0;34m)\u001b[0m \u001b[0;32mfrom\u001b[0m \u001b[0;32mNone\u001b[0m\u001b[0;34m\u001b[0m\u001b[0;34m\u001b[0m\u001b[0m\n\u001b[0m\u001b[1;32m    896\u001b[0m             \u001b[0;32mexcept\u001b[0m \u001b[0mException\u001b[0m \u001b[0;32mas\u001b[0m \u001b[0me\u001b[0m\u001b[0;34m:\u001b[0m\u001b[0;34m\u001b[0m\u001b[0;34m\u001b[0m\u001b[0m\n\u001b[1;32m    897\u001b[0m                 \u001b[0mself\u001b[0m\u001b[0;34m.\u001b[0m\u001b[0mlog\u001b[0m\u001b[0;34m.\u001b[0m\u001b[0mwarning\u001b[0m\u001b[0;34m(\u001b[0m\u001b[0;34m\"Invalid Message:\"\u001b[0m\u001b[0;34m,\u001b[0m \u001b[0mexc_info\u001b[0m\u001b[0;34m=\u001b[0m\u001b[0;32mTrue\u001b[0m\u001b[0;34m)\u001b[0m\u001b[0;34m\u001b[0m\u001b[0;34m\u001b[0m\u001b[0m\n",
            "\u001b[0;31mKeyboardInterrupt\u001b[0m: Interrupted by user"
          ]
        }
      ]
    },
    {
      "cell_type": "code",
      "source": [
        "#4751\n",
        "a = sorted([list(map(int,input().split())) for i in range(int(input()))], key = lambda x : x[2], reverse = True)\n",
        "\n",
        "b, c = [], 0\n",
        "for i in a:\n",
        "  if c == 3:\n",
        "    break\n",
        "\n",
        "  if b.count(i[0]) != 2:\n",
        "    print(i[0], i[1])\n",
        "    b.append(i[0])\n",
        "    c += 1"
      ],
      "metadata": {
        "id": "YqJ9kQhGsL0x",
        "colab": {
          "base_uri": "https://localhost:8080/"
        },
        "outputId": "59f8989f-1209-44b2-ade0-d30c6e9b6f2c"
      },
      "execution_count": null,
      "outputs": [
        {
          "output_type": "stream",
          "name": "stdout",
          "text": [
            "4\n",
            "1 1 230\n",
            "1 2 210\n",
            "1 3 205\n",
            "3 4 190\n",
            "1 1\n",
            "1 2\n",
            "3 4\n"
          ]
        }
      ]
    },
    {
      "cell_type": "code",
      "source": [
        "a = sorted([list(map(int,input().split())) for i in range(int(input()))], key = lambda x : x[2], reverse = True)\n",
        "\n",
        "print(a[0][0], a[0][1])\n",
        "print(a[1][0], a[1][1])\n",
        "\n",
        "if a[0][0] != a[1][0]:\n",
        "  print(a[2][0], a[2][1])\n",
        "else:\n",
        "  for i in a[2:]:\n",
        "    if i[0] != a[0][0]:\n",
        "      print(i[0], i[1])\n",
        "      break\n",
        "\n"
      ],
      "metadata": {
        "id": "7PF_a6xssAO2"
      },
      "execution_count": null,
      "outputs": []
    },
    {
      "cell_type": "code",
      "source": [
        "#4771\n",
        "a = list(input())\n",
        "b = 10\n",
        "for i in range(1,len(a)):\n",
        "  if a[i-1] != a[i]:\n",
        "    b+=10\n",
        "  else:\n",
        "    b+=5\n",
        "\n",
        "print(b)"
      ],
      "metadata": {
        "id": "EiB8ER4Vxq89",
        "colab": {
          "base_uri": "https://localhost:8080/"
        },
        "outputId": "84e3593f-da4f-4860-db32-f7fa2c271a5c"
      },
      "execution_count": null,
      "outputs": [
        {
          "output_type": "stream",
          "name": "stdout",
          "text": [
            "()()()))(\n",
            "80\n"
          ]
        }
      ]
    },
    {
      "cell_type": "code",
      "source": [
        "#4776\n",
        "\n",
        "A = [0, 1, 2, 3, 4, 5, 6, 7, 8, 9]\n",
        "B = ['A', 'B', 'C', 'D', 'E', 'F', 'G', 'H', 'I', 'J', 'K', 'L']\n",
        "\n",
        "year = int(input())\n",
        "\n",
        "print(f\"{B[(year + 8) % 12]}{A[(year + 6) % 10]}\")"
      ],
      "metadata": {
        "id": "0vcerHiHAZQz"
      },
      "execution_count": null,
      "outputs": []
    },
    {
      "cell_type": "code",
      "source": [
        "#4781\n",
        "a,b = map(int, input().split())\n",
        "board = [list(map(int, input().split())) for i in range(b)]\n",
        "\n",
        "\n",
        "from collections import deque\n",
        "\n",
        "\n",
        "n = len(board)\n",
        "m = len(board[0])\n",
        "\n",
        "dx = [-1, 1, 0, 0]\n",
        "dy = [0, 0, -1, 1]\n",
        "\n",
        "queue = deque()\n",
        "\n",
        "for i in range(n):\n",
        "    for j in range(m):\n",
        "        if board[i][j] == 1:\n",
        "            queue.append((i, j))\n",
        "\n",
        "steps = 0\n",
        "\n",
        "while queue:\n",
        "    for _ in range(len(queue)):\n",
        "        x, y = queue.popleft()\n",
        "\n",
        "        for i in range(4):\n",
        "            nx, ny = x + dx[i], y + dy[i]\n",
        "\n",
        "            if 0 <= nx < n and 0 <= ny < m and board[nx][ny] == 0:\n",
        "                board[nx][ny] = 1\n",
        "                queue.append((nx, ny))\n",
        "\n",
        "    steps += 1\n",
        "\n",
        "for row in board:\n",
        "    if 0 in row:\n",
        "        print(-1)\n",
        "        break\n",
        "else:\n",
        "    print(steps - 1)"
      ],
      "metadata": {
        "colab": {
          "base_uri": "https://localhost:8080/"
        },
        "id": "qPx5NyICGO8-",
        "outputId": "4e1dbb2a-2155-4ce6-a28c-07856ff36a87"
      },
      "execution_count": null,
      "outputs": [
        {
          "output_type": "stream",
          "name": "stdout",
          "text": [
            "5 3\n",
            "0 -1 0 0 0 \n",
            "-1 -1 0 1 1\n",
            "0 0 0 1 1\n",
            "-1\n"
          ]
        }
      ]
    },
    {
      "cell_type": "code",
      "source": [
        "#4801\n",
        "\n",
        "a,b,c = map(int, input().split())\n",
        "print(max(0,(a*b)-c))"
      ],
      "metadata": {
        "colab": {
          "base_uri": "https://localhost:8080/"
        },
        "id": "3kYBdtNultvZ",
        "outputId": "61750676-a91e-44ed-8cc6-7d51d53b135d"
      },
      "execution_count": 3,
      "outputs": [
        {
          "output_type": "stream",
          "name": "stdout",
          "text": [
            "250 2 140\n",
            "360\n"
          ]
        }
      ]
    },
    {
      "cell_type": "code",
      "source": [
        "#4816\n",
        "a = int(input())\n",
        "c = []\n",
        "for i in [300,60,10]:\n",
        "  c.append(a//i)\n",
        "  a %= i\n",
        "\n",
        "print(' '.join(map(str, c)) if a == 0 else -1)"
      ],
      "metadata": {
        "colab": {
          "base_uri": "https://localhost:8080/"
        },
        "id": "X-5CkgqvBHzP",
        "outputId": "62cfd4a3-3d4c-4000-d97f-92e6249c14c8"
      },
      "execution_count": null,
      "outputs": [
        {
          "output_type": "stream",
          "name": "stdout",
          "text": [
            "9840\n",
            "32 4 0\n"
          ]
        }
      ]
    },
    {
      "cell_type": "code",
      "source": [
        "#4831\n",
        "a = int(input())\n",
        "b = list(map(int, input().split()))\n",
        "print(b.count(a))"
      ],
      "metadata": {
        "colab": {
          "base_uri": "https://localhost:8080/"
        },
        "id": "zij2G2OmBrbs",
        "outputId": "e7e6f43f-75e0-4c8f-b977-fd4520c413bb"
      },
      "execution_count": null,
      "outputs": [
        {
          "output_type": "stream",
          "name": "stdout",
          "text": [
            "1\n",
            "2 3 4\n",
            "0\n"
          ]
        }
      ]
    },
    {
      "cell_type": "code",
      "source": [
        "#4846\n",
        "print(sum([j%i for i,j in [list(map(int, input().split())) for i in range(int(input()))]]))"
      ],
      "metadata": {
        "colab": {
          "base_uri": "https://localhost:8080/"
        },
        "id": "RcjSCoW5HaXN",
        "outputId": "404f9351-e4d8-4e61-f617-59e1c83890a9"
      },
      "execution_count": null,
      "outputs": [
        {
          "output_type": "stream",
          "name": "stdout",
          "text": [
            "5\n",
            "24 52\n",
            "13 22\n",
            "5 53\n",
            "23 10\n",
            "7 70\n",
            "[4, 9, 3, 10, 0]\n",
            "26\n"
          ]
        }
      ]
    },
    {
      "cell_type": "code",
      "source": [
        "#4891\n",
        "a = input()\n",
        "b = list(map(int, input().split()))\n",
        "print(max(b)-min(b))"
      ],
      "metadata": {
        "colab": {
          "base_uri": "https://localhost:8080/"
        },
        "id": "qj6Vcd8YJslH",
        "outputId": "254f8ab1-1b06-47f3-8ec1-540069b85fce"
      },
      "execution_count": null,
      "outputs": [
        {
          "output_type": "stream",
          "name": "stdout",
          "text": [
            "5\n",
            "27 35 92 75 42\n",
            "65\n"
          ]
        }
      ]
    },
    {
      "cell_type": "code",
      "source": [
        "#4991\n",
        "\n",
        "a = [int(input()) for i in range(int(input()))]\n",
        "\n",
        "mxc, vis = 0,0\n",
        "for i in reversed(a):\n",
        "  if i > mxc:\n",
        "    mxc = i\n",
        "    vis +=1\n",
        "\n",
        "print(vis)"
      ],
      "metadata": {
        "colab": {
          "base_uri": "https://localhost:8080/"
        },
        "id": "-ZVjLtC1DGko",
        "outputId": "59586a85-18de-46bd-aae0-6c1261c33913"
      },
      "execution_count": null,
      "outputs": [
        {
          "output_type": "stream",
          "name": "stdout",
          "text": [
            "10\n",
            "3\n",
            "4\n",
            "5\n",
            "5\n",
            "4\n",
            "1\n",
            "2\n",
            "3\n",
            "4\n",
            "1\n",
            "3\n"
          ]
        }
      ]
    },
    {
      "cell_type": "code",
      "source": [
        "#5078\n",
        "\n",
        "a = [int(input()) for i in range(3)]\n",
        "\n",
        "if sum(a) > 180 or 180 > sum(a):\n",
        "  print('Error')\n",
        "elif a[0] == a[1] == a[2]:\n",
        "  print('Equilateral')\n",
        "elif a[0] == a[1] or a[1] == a[2] or a[2] == a[0]:\n",
        "  print('Isosceles')\n",
        "else:\n",
        "  print('Scalene')\n"
      ],
      "metadata": {
        "id": "A4-6mm5q5E7Y"
      },
      "execution_count": null,
      "outputs": []
    },
    {
      "cell_type": "code",
      "source": [
        " #5080\n",
        "a, b = 100, 100\n",
        "c = [list(map(int, input().split())) for i in range(int(input()))]\n",
        "\n",
        "for i in c:\n",
        "  if i[0] > i[1]:\n",
        "    b -= i[0]\n",
        "  elif i[0] < i[1]:\n",
        "    a -= i[1]\n",
        "\n",
        "print(a)\n",
        "print(b)"
      ],
      "metadata": {
        "colab": {
          "base_uri": "https://localhost:8080/"
        },
        "id": "_sGl29eNZAt7",
        "outputId": "0856430d-d63c-486b-f722-b845cd23b157"
      },
      "execution_count": null,
      "outputs": [
        {
          "output_type": "stream",
          "name": "stdout",
          "text": [
            "4\n",
            "5 6\n",
            "6 6\n",
            "4 3\n",
            "5 2\n",
            "94\n",
            "91\n"
          ]
        }
      ]
    },
    {
      "cell_type": "code",
      "source": [
        "#5123\n",
        "import itertools\n",
        "\n",
        "a = int(input())*0\n",
        "b = list(map(int, input().split()))\n",
        "\n",
        "for i in itertools.combinations(b,2):\n",
        "  if sum(i) % 3 == 0:\n",
        "    a += 1\n",
        "\n",
        "print(a)\n"
      ],
      "metadata": {
        "colab": {
          "base_uri": "https://localhost:8080/"
        },
        "id": "jNTKYTmDKhPC",
        "outputId": "cfbbdd97-e365-456c-86c9-977101ff1503"
      },
      "execution_count": null,
      "outputs": [
        {
          "output_type": "stream",
          "name": "stdout",
          "text": [
            "5\n",
            "1 4 2  3 3\n",
            "(1, 2)\n",
            "(4, 2)\n",
            "(3, 3)\n",
            "3\n"
          ]
        }
      ]
    },
    {
      "cell_type": "code",
      "source": [
        "from collections import Counter\n",
        "\n",
        "c = input()\n",
        "b = list(map(int, input().split()))\n",
        "#Counter 조건넣어주고 이에 맞게 딕셔너리로 나눠줌 나머지로 나눔\n",
        "\n",
        "mod_count = Counter(x % 3 for x in b) #b원소중 3으로 나누어 지는거 찾\n",
        "print(mod_count)\n",
        "\n",
        "#3으로 나누었을 때 나머지가 같은 것끼리의 쌍을 계산\n",
        "a = (mod_count[0] * (mod_count[0] - 1) // 2) + (mod_count[1] * mod_count[2])\n",
        "\n",
        "print(a)"
      ],
      "metadata": {
        "colab": {
          "base_uri": "https://localhost:8080/"
        },
        "id": "qNuGJdU_OLWu",
        "outputId": "1edddc11-b2d1-4f08-e776-5ee6ae27ebca"
      },
      "execution_count": null,
      "outputs": [
        {
          "output_type": "stream",
          "name": "stdout",
          "text": [
            "5\n",
            "1 4 2 2 3\n",
            "Counter({1: 2, 2: 2, 0: 1})\n",
            "4\n"
          ]
        }
      ]
    },
    {
      "cell_type": "code",
      "source": [
        "a = int(input())\n",
        "b = int(input())\n",
        "c = int(input())\n",
        "\n",
        "if a + b + c == 180:\n",
        "  if a == b == c == 60:\n",
        "    print(\"Equilateral\")\n",
        "  elif a + b + c == 180 and (a == b or b == c or c == a):\n",
        "    print(\"Isosceles\")\n",
        "  else:\n",
        "    print(\"Scalene\")\n",
        "else:\n",
        "  print(\"Error\")\n"
      ],
      "metadata": {
        "id": "8WTVjz6u6MhE"
      },
      "execution_count": null,
      "outputs": []
    },
    {
      "cell_type": "code",
      "source": [
        "#2030\n",
        "a = [['.'] * 60 for _ in range(30)]\n",
        "\n",
        "for _ in range(int(input())):\n",
        "    cmd = input().split()\n",
        "    name, x1, y1, x2, y2 = cmd[0], int(cmd[1]) - 1, int(cmd[2]) - 1, int(cmd[3]) - 1, int(cmd[4]) - 1\n",
        "\n",
        "    # 윈도우 상단 테두리\n",
        "    a[y1][x1] = '+'\n",
        "    for j in range(x1 + 1, min(x2, x1 + len(name) + 1)):\n",
        "        a[y1][j] = name[j - x1 - 1]\n",
        "    for j in range(x1 + len(name) + 1, x2):\n",
        "        a[y1][j] = '-'\n",
        "    a[y1][x2] = '+'\n",
        "\n",
        "    # 윈도우 중간 부분\n",
        "    for i in range(y1 + 1, y2):\n",
        "        a[i][x1] = '|'\n",
        "        for j in range(x1 + 1, x2):\n",
        "            a[i][j] = ' '\n",
        "        a[i][x2] = '|'\n",
        "\n",
        "    # 윈도우 하단 테두리\n",
        "    a[y2][x1] = '+'\n",
        "    for j in range(x1 + 1, x2):\n",
        "        a[y2][j] = '-'\n",
        "    a[y2][x2] = '+'\n",
        "\n",
        "# 결과 출력\n",
        "for row in a:\n",
        "    print(\"\".join(row))\n",
        "\n",
        "\n",
        "\n",
        "\n"
      ],
      "metadata": {
        "colab": {
          "base_uri": "https://localhost:8080/"
        },
        "id": "m4ezbyR0MNq3",
        "outputId": "a3601544-f7bc-41ac-e6d5-adeb42615a34"
      },
      "execution_count": null,
      "outputs": [
        {
          "output_type": "stream",
          "name": "stdout",
          "text": [
            "1\n",
            "ie9 2 3 15 6\n",
            "............................................................\n",
            "............................................................\n",
            ".+ie9---------+.............................................\n",
            ".|            |.............................................\n",
            ".|            |.............................................\n",
            ".+------------+.............................................\n",
            "............................................................\n",
            "............................................................\n",
            "............................................................\n",
            "............................................................\n",
            "............................................................\n",
            "............................................................\n",
            "............................................................\n",
            "............................................................\n",
            "............................................................\n",
            "............................................................\n",
            "............................................................\n",
            "............................................................\n",
            "............................................................\n",
            "............................................................\n",
            "............................................................\n",
            "............................................................\n",
            "............................................................\n",
            "............................................................\n",
            "............................................................\n",
            "............................................................\n",
            "............................................................\n",
            "............................................................\n",
            "............................................................\n",
            "............................................................\n"
          ]
        }
      ]
    },
    {
      "cell_type": "code",
      "source": [
        "#2044\n",
        "a = input()\n",
        "a = list(a[a.rfind('C') + 1:])\n",
        "\n",
        "while 'A' in a or 'B' in a:\n",
        "    if 'B' in a and a.index('B') <= a.index('A'):\n",
        "        idx = a.index('B')\n",
        "        del a[idx-2:idx+1]\n",
        "    elif 'A' in a:\n",
        "        idx = a.index('A')\n",
        "        del a[idx-1:idx+1]\n",
        "\n",
        "print(\"\".join(a))"
      ],
      "metadata": {
        "colab": {
          "base_uri": "https://localhost:8080/"
        },
        "id": "T2thi_xIQSCH",
        "outputId": "ac5448cc-481f-4c1a-b03c-fe16d4fff0e6"
      },
      "execution_count": null,
      "outputs": [
        {
          "output_type": "stream",
          "name": "stdout",
          "text": [
            "011B1C11A122B11A\n",
            "111\n"
          ]
        }
      ]
    },
    {
      "cell_type": "code",
      "source": [
        "# 2081\n",
        "a = [input() for i in range(9)]\n",
        "b = [(i+1,j) for i,j in enumerate(a)]\n",
        "c = max(b, key=lambda x: x[1])\n",
        "print(f'{c[1]}\\n{c[0]}')"
      ],
      "metadata": {
        "colab": {
          "base_uri": "https://localhost:8080/"
        },
        "id": "8DRC3v_XaHFP",
        "outputId": "465b73f0-9f98-4d4e-83fd-577999f0abe4"
      },
      "execution_count": null,
      "outputs": [
        {
          "output_type": "stream",
          "name": "stdout",
          "text": [
            "1\n",
            "9\n",
            "9\n",
            "2\n"
          ]
        }
      ]
    },
    {
      "cell_type": "code",
      "source": [
        "n,k = map(int, input().split())\n",
        "c = list(map(int, input().split()))\n",
        "print(c.index(k)+1 if k in c else -1)"
      ],
      "metadata": {
        "colab": {
          "base_uri": "https://localhost:8080/"
        },
        "id": "26vz8JuBcLpr",
        "outputId": "af823971-d329-4440-a091-9ac3365e228e"
      },
      "execution_count": null,
      "outputs": [
        {
          "output_type": "stream",
          "name": "stdout",
          "text": [
            "5 3\n",
            "5 2 9 7 3\n",
            "5\n"
          ]
        }
      ]
    },
    {
      "cell_type": "code",
      "source": [
        "a,b,c,d = map(int, input().split())\n",
        "\n",
        "e = [a] #시작값\n",
        "for i in range(1,d):\n",
        "  e.append(e[i-1]*b+c)\n",
        "\n",
        "print(e[d-1])"
      ],
      "metadata": {
        "colab": {
          "base_uri": "https://localhost:8080/"
        },
        "id": "NJbbdwsUUFI8",
        "outputId": "ec3eb2f4-bfbd-4058-8048-9b942c876e09"
      },
      "execution_count": null,
      "outputs": [
        {
          "output_type": "stream",
          "name": "stdout",
          "text": [
            "1 -2 1 8\n",
            "-85\n"
          ]
        }
      ]
    },
    {
      "cell_type": "code",
      "source": [
        "from math import comb\n",
        "\n",
        "def solve(n, m, k, p):\n",
        "    abs_n = abs(n)\n",
        "    abs_m = abs(m)\n",
        "\n",
        "    if n == 0 or m == 0: #특수경\n",
        "\n",
        "        total_distance = abs_n + abs_m + 2\n",
        "\n",
        "        total_paths = comb(total_distance, 2)\n",
        "\n",
        "        if n == 0:\n",
        "            extra_turns = abs_m\n",
        "        else:\n",
        "            extra_turns = abs_n\n",
        "\n",
        "        if k == 0:\n",
        "            valid_paths = total_paths - 2 + extra_turns\n",
        "        else:\n",
        "            valid_paths = total_paths - 3 + extra_turns\n",
        "    else: #일반\n",
        "        total_distance = abs_n + abs_m\n",
        "        total_paths = comb(total_distance, abs_n)\n",
        "\n",
        "\n",
        "        if k == 1:\n",
        "            valid_paths = total_paths - 3\n",
        "        else:\n",
        "            valid_paths = total_paths - 2\n",
        "\n",
        "    if valid_paths < 0:\n",
        "        valid_paths = 0\n",
        "\n",
        "    if p > 0:\n",
        "        valid_paths = valid_paths % p\n",
        "\n",
        "    return total_distance, valid_paths\n",
        "\n",
        "n, m, k, p = map(int, input().split())\n",
        "distance, num_paths = solve(n, m, k, p)\n",
        "print(distance, num_paths)\n"
      ],
      "metadata": {
        "colab": {
          "base_uri": "https://localhost:8080/"
        },
        "id": "cWuopIGSfsX6",
        "outputId": "c38ced84-d1f8-4338-d17f-b8441725d6ac"
      },
      "execution_count": null,
      "outputs": [
        {
          "output_type": "stream",
          "name": "stdout",
          "text": [
            "-18 0 1 277\n",
            "20 205\n"
          ]
        }
      ]
    },
    {
      "cell_type": "code",
      "source": [
        "from math import comb\n",
        "\n",
        "def solve(n, m, k, p):\n",
        "    abs_n = abs(n)\n",
        "    abs_m = abs(m)\n",
        "\n",
        "    if n == 0 or m == 0:  # 특수 경로: 직선 경로\n",
        "\n",
        "        total_distance = abs_n + abs_m + 2\n",
        "\n",
        "        total_paths = comb(total_distance, 2)\n",
        "\n",
        "        if n == 0:\n",
        "            extra_turns = abs_m\n",
        "        else:\n",
        "            extra_turns = abs_n\n",
        "\n",
        "        if k == 0:\n",
        "            valid_paths = total_paths - 2 + extra_turns\n",
        "        else:\n",
        "            valid_paths = total_paths - 3 + extra_turns\n",
        "    else: #일반일때\n",
        "        total_distance = abs_n + abs_m\n",
        "        total_paths = comb(total_distance, abs_n)\n",
        "\n",
        "\n",
        "        if k == 1:\n",
        "            valid_paths = total_paths - 3\n",
        "        else:\n",
        "            valid_paths = total_paths - 2\n",
        "\n",
        "    if valid_paths < 0:\n",
        "        valid_paths = 0\n",
        "\n",
        "    if p > 0:\n",
        "        valid_paths = valid_paths % p\n",
        "\n",
        "    return total_distance, valid_paths\n",
        "\n",
        "n, m, k, p = map(int, input().split())\n",
        "distance, num_paths = solve(n, m, k, p)\n",
        "print(distance, num_paths)\n"
      ],
      "metadata": {
        "colab": {
          "base_uri": "https://localhost:8080/"
        },
        "id": "A0AlsUwItIkB",
        "outputId": "591aa04f-4b40-4bd4-cb9b-e87afac01f29"
      },
      "execution_count": null,
      "outputs": [
        {
          "output_type": "stream",
          "name": "stdout",
          "text": [
            "-18 0 1 277\n",
            "20 151\n"
          ]
        }
      ]
    },
    {
      "cell_type": "code",
      "source": [],
      "metadata": {
        "id": "Ojd2AbT_nEqj"
      },
      "execution_count": null,
      "outputs": []
    },
    {
      "cell_type": "code",
      "source": [],
      "metadata": {
        "id": "_gc4YaodOx_8"
      },
      "execution_count": null,
      "outputs": []
    },
    {
      "cell_type": "code",
      "source": [],
      "metadata": {
        "id": "TMg-dhctnEmt"
      },
      "execution_count": null,
      "outputs": []
    },
    {
      "cell_type": "code",
      "source": [],
      "metadata": {
        "id": "BBk4wrkhtIhD",
        "colab": {
          "base_uri": "https://localhost:8080/"
        },
        "outputId": "5e7d3c1f-c3c2-4533-a3d4-5128744f7173"
      },
      "execution_count": null,
      "outputs": [
        {
          "output_type": "stream",
          "name": "stdout",
          "text": [
            "65\n"
          ]
        }
      ]
    },
    {
      "cell_type": "code",
      "source": [],
      "metadata": {
        "id": "CqaGtmlGfsMd",
        "colab": {
          "base_uri": "https://localhost:8080/"
        },
        "outputId": "83d65c39-7406-444a-bfde-93b04a686bda"
      },
      "execution_count": null,
      "outputs": [
        {
          "output_type": "execute_result",
          "data": {
            "text/plain": [
              "495"
            ]
          },
          "metadata": {},
          "execution_count": 17
        }
      ]
    },
    {
      "cell_type": "code",
      "source": [
        "#6101\n",
        "import numpy as np\n",
        "print('1.24.3')\n",
        "a =np.zeros(10)\n",
        "print(a)\n",
        "a[4] = 1\n",
        "print(a)"
      ],
      "metadata": {
        "colab": {
          "base_uri": "https://localhost:8080/"
        },
        "id": "tS1_VAg1TpCp",
        "outputId": "10fabdc3-0b64-4730-fbed-8e8613317590"
      },
      "execution_count": null,
      "outputs": [
        {
          "output_type": "stream",
          "name": "stdout",
          "text": [
            "1.24.3\n",
            "[0. 0. 0. 0. 0. 0. 0. 0. 0. 0.]\n",
            "[0. 0. 0. 0. 1. 0. 0. 0. 0. 0.]\n"
          ]
        }
      ]
    },
    {
      "cell_type": "code",
      "source": [
        "#6102\n",
        "import numpy as np\n",
        "print(np.arange(10, 50))\n",
        "print(np.arange(49,9,-1))\n",
        "print(np.arange(0, 9).reshape(3,3))\n",
        "print((np.nonzero([1,2,0,0,4,0])))\n",
        "print(np.eye(3,3))"
      ],
      "metadata": {
        "colab": {
          "base_uri": "https://localhost:8080/"
        },
        "id": "rfMki_6bVNGL",
        "outputId": "9d2300c9-2dd3-4676-bbba-cc64f7cdc4a8"
      },
      "execution_count": null,
      "outputs": [
        {
          "output_type": "stream",
          "name": "stdout",
          "text": [
            "[10 11 12 13 14 15 16 17 18 19 20 21 22 23 24 25 26 27 28 29 30 31 32 33\n",
            " 34 35 36 37 38 39 40 41 42 43 44 45 46 47 48 49]\n",
            "[49 48 47 46 45 44 43 42 41 40 39 38 37 36 35 34 33 32 31 30 29 28 27 26\n",
            " 25 24 23 22 21 20 19 18 17 16 15 14 13 12 11 10]\n",
            "[[0 1 2]\n",
            " [3 4 5]\n",
            " [6 7 8]]\n",
            "(array([0, 1, 4]),)\n",
            "[[1. 0. 0.]\n",
            " [0. 1. 0.]\n",
            " [0. 0. 1.]]\n"
          ]
        }
      ]
    },
    {
      "cell_type": "code",
      "source": [
        "#6103\n",
        "import numpy as np\n",
        "\n",
        "np.random.seed(32)\n",
        "\n",
        "array_3x3x3 = np.random.random((3, 3, 3))\n",
        "print(array_3x3x3)\n",
        "\n",
        "array_10x10 = np.random.random((10, 10))\n",
        "min_value = array_10x10.min()\n",
        "max_value = array_10x10.max()\n",
        "print(f\"{min_value} {max_value}\")\n",
        "\n",
        "array_30 = np.random.random(30)\n",
        "mean_value = array_30.mean()\n",
        "print(mean_value)"
      ],
      "metadata": {
        "id": "_wJkSYwCWPLI"
      },
      "execution_count": null,
      "outputs": []
    },
    {
      "cell_type": "code",
      "source": [
        "import numpy as np\n",
        "\n",
        "array_10x10_border = np.ones((10, 10))\n",
        "array_10x10_border[1:-1, 1:-1] = 0\n",
        "print(array_10x10_border)\n",
        "\n",
        "checkerboard_8x8 = np.zeros((8, 8), dtype=int) # dtype이 있냐에 따라서 숫자뒤 . 여부\n",
        "checkerboard_8x8[1::2, ::2] = 1\n",
        "checkerboard_8x8[::2, 1::2] = 1\n",
        "print(checkerboard_8x8)\n"
      ],
      "metadata": {
        "colab": {
          "base_uri": "https://localhost:8080/"
        },
        "id": "tW4-OMaDYGVj",
        "outputId": "f9f3e052-850a-4971-b338-ab7fcccf51b2"
      },
      "execution_count": null,
      "outputs": [
        {
          "output_type": "stream",
          "name": "stdout",
          "text": [
            "[[1. 1. 1. 1. 1. 1. 1. 1. 1. 1.]\n",
            " [1. 0. 0. 0. 0. 0. 0. 0. 0. 1.]\n",
            " [1. 0. 0. 0. 0. 0. 0. 0. 0. 1.]\n",
            " [1. 0. 0. 0. 0. 0. 0. 0. 0. 1.]\n",
            " [1. 0. 0. 0. 0. 0. 0. 0. 0. 1.]\n",
            " [1. 0. 0. 0. 0. 0. 0. 0. 0. 1.]\n",
            " [1. 0. 0. 0. 0. 0. 0. 0. 0. 1.]\n",
            " [1. 0. 0. 0. 0. 0. 0. 0. 0. 1.]\n",
            " [1. 0. 0. 0. 0. 0. 0. 0. 0. 1.]\n",
            " [1. 1. 1. 1. 1. 1. 1. 1. 1. 1.]]\n",
            "[[0 1 0 1 0 1 0 1]\n",
            " [1 0 1 0 1 0 1 0]\n",
            " [0 1 0 1 0 1 0 1]\n",
            " [1 0 1 0 1 0 1 0]\n",
            " [0 1 0 1 0 1 0 1]\n",
            " [1 0 1 0 1 0 1 0]\n",
            " [0 1 0 1 0 1 0 1]\n",
            " [1 0 1 0 1 0 1 0]]\n"
          ]
        }
      ]
    },
    {
      "cell_type": "code",
      "source": [
        "#6130\n",
        "a = input()\n",
        "b = int(a[:a.find('x')])\n",
        "c = int(a[a.find('x')+2:])\n",
        "\n",
        "print(f\"{(c/b) if a[a.find('x')+1] == '+' else -(c/b):.02f}\")"
      ],
      "metadata": {
        "colab": {
          "base_uri": "https://localhost:8080/"
        },
        "id": "-Q9AvMsAZrC8",
        "outputId": "e2c0e2c8-1a99-4e63-b593-a15e0759c5ea"
      },
      "execution_count": null,
      "outputs": [
        {
          "output_type": "stream",
          "name": "stdout",
          "text": [
            "5x+4\n",
            "-0.80\n"
          ]
        }
      ]
    },
    {
      "cell_type": "code",
      "source": [
        "#6131\n",
        "a = input()\n",
        "b =int(a[a.find('x')+2:a.find('=')])\n",
        "c = int(a[a.find('=')+1:])\n",
        "d = b+c if a[a.find('x')+1] == '-' else c-b\n",
        "\n",
        "print(f\"{d/int(a[:a.find('x')]):.02f}\")"
      ],
      "metadata": {
        "colab": {
          "base_uri": "https://localhost:8080/"
        },
        "id": "lxQVEfc_Z3Kg",
        "outputId": "9b03ae59-d5cd-497c-c332-cdaad0086382"
      },
      "execution_count": null,
      "outputs": [
        {
          "output_type": "stream",
          "name": "stdout",
          "text": [
            "4x-3=2\n",
            "1.25\n"
          ]
        }
      ]
    },
    {
      "cell_type": "code",
      "source": [
        "5/4"
      ],
      "metadata": {
        "colab": {
          "base_uri": "https://localhost:8080/"
        },
        "id": "zsHjgoagbpYI",
        "outputId": "b01988eb-ceea-48e3-88a0-6b5c93f572d7"
      },
      "execution_count": null,
      "outputs": [
        {
          "output_type": "execute_result",
          "data": {
            "text/plain": [
              "1.25"
            ]
          },
          "metadata": {},
          "execution_count": 111
        }
      ]
    }
  ]
}